{
 "cells": [
  {
   "cell_type": "code",
   "execution_count": 27,
   "metadata": {},
   "outputs": [],
   "source": [
    "import numpy as np"
   ]
  },
  {
   "cell_type": "code",
   "execution_count": 28,
   "metadata": {},
   "outputs": [
    {
     "data": {
      "text/plain": [
       "['S']"
      ]
     },
     "execution_count": 28,
     "metadata": {},
     "output_type": "execute_result"
    }
   ],
   "source": [
    "# Transition Probabilities\n",
    "p_ss = 0.8\n",
    "p_sr = 0.2\n",
    "p_rs = 0.4\n",
    "p_rr = 0.6\n",
    "\n",
    "# Initial Probabilities\n",
    "p_s = 2/3\n",
    "p_r = 1/3\n",
    "\n",
    "# Emission Probabilities\n",
    "p_sh = 0.8\n",
    "p_sg = 0.2\n",
    "p_rh = 0.4\n",
    "p_rg = 0.6\n",
    "\n",
    "moods = ['H']\n",
    "probabilities = []\n",
    "weather = []\n",
    "\n",
    "if moods[0] == 'H':\n",
    "    probabilities.append((p_s*p_sh, p_r*p_rh))\n",
    "else:\n",
    "    probabilities.append((p_s*p_sg, p_r*p_rg))\n",
    "\n",
    "for i in range(1,len(moods)):\n",
    "    yesterday_sunny, yesterday_rainy = probabilities[-1]\n",
    "    if moods[i] == 'H':\n",
    "        today_sunny = max(yesterday_sunny*p_ss*p_sh, yesterday_rainy*p_rs*p_sh)\n",
    "        today_rainy = max(yesterday_sunny*p_sr*p_rh, yesterday_rainy*p_rr*p_rh)\n",
    "        probabilities.append((today_sunny, today_rainy))\n",
    "    else:\n",
    "        today_sunny = max(yesterday_sunny*p_ss*p_sg, yesterday_rainy*p_rs*p_sg)\n",
    "        today_rainy = max(yesterday_sunny*p_sr*p_rg, yesterday_rainy*p_rr*p_rg)\n",
    "        probabilities.append((today_sunny, today_rainy))\n",
    "\n",
    "for p in probabilities:\n",
    "    if p[0] > p[1]:\n",
    "        weather.append('S')\n",
    "    else:\n",
    "        weather.append('R')\n",
    "        \n",
    "weather"
   ]
  },
  {
   "cell_type": "code",
   "execution_count": 29,
   "metadata": {},
   "outputs": [
    {
     "data": {
      "text/plain": [
       "[(0.5333333333333333, 0.13333333333333333)]"
      ]
     },
     "execution_count": 29,
     "metadata": {},
     "output_type": "execute_result"
    }
   ],
   "source": [
    "probabilities"
   ]
  },
  {
   "cell_type": "code",
   "execution_count": 35,
   "metadata": {},
   "outputs": [],
   "source": [
    "def predict_weather(current_mood):\n",
    "    if current_mood == 'H':\n",
    "        den = p_rh*p_r + p_sh*p_s\n",
    "        prob_day = (p_sh*p_s / den,p_rh*p_r/ den )\n",
    "    else:\n",
    "        den = p_rg*p_r + p_sg*p_s\n",
    "        prob_day = (p_sg*p_s / den,p_rg*p_r/ den )\n",
    "    weather_predicted = ['Sunny','Rainy'][np.argmax(prob_day)]\n",
    "    return prob_day,weather_predicted\n"
   ]
  },
  {
   "cell_type": "code",
   "execution_count": 37,
   "metadata": {},
   "outputs": [
    {
     "data": {
      "text/plain": [
       "((0.4, 0.6), 'Rainy')"
      ]
     },
     "execution_count": 37,
     "metadata": {},
     "output_type": "execute_result"
    }
   ],
   "source": [
    "predict_weather('G')"
   ]
  },
  {
   "cell_type": "code",
   "execution_count": 33,
   "metadata": {},
   "outputs": [
    {
     "data": {
      "text/plain": [
       "'Rainy'"
      ]
     },
     "execution_count": 33,
     "metadata": {},
     "output_type": "execute_result"
    }
   ],
   "source": [
    "['Sunny','Rainy'][np.argmax([0.2,0.3])]"
   ]
  },
  {
   "cell_type": "code",
   "execution_count": 38,
   "metadata": {},
   "outputs": [],
   "source": [
    "def predict_weather_sequence(moods):\n",
    "    probabilities = []\n",
    "    weather = []\n",
    "\n",
    "    if moods[0] == 'H':\n",
    "        probabilities.append((p_s*p_sh, p_r*p_rh))\n",
    "    else:\n",
    "        probabilities.append((p_s*p_sg, p_r*p_rg))\n",
    "\n",
    "    for i in range(1,len(moods)):\n",
    "        yesterday_sunny, yesterday_rainy = probabilities[-1]\n",
    "        if moods[i] == 'H':\n",
    "            today_sunny = max(yesterday_sunny*p_ss*p_sh, yesterday_rainy*p_rs*p_sh)\n",
    "            today_rainy = max(yesterday_sunny*p_sr*p_rh, yesterday_rainy*p_rr*p_rh)\n",
    "            probabilities.append((today_sunny, today_rainy))\n",
    "        else:\n",
    "            today_sunny = max(yesterday_sunny*p_ss*p_sg, yesterday_rainy*p_rs*p_sg)\n",
    "            today_rainy = max(yesterday_sunny*p_sr*p_rg, yesterday_rainy*p_rr*p_rg)\n",
    "            probabilities.append((today_sunny, today_rainy))\n",
    "\n",
    "    for p in probabilities:\n",
    "        if p[0] > p[1]:\n",
    "            weather.append('S')\n",
    "        else:\n",
    "            weather.append('R')\n",
    "    rer"
   ]
  },
  {
   "cell_type": "code",
   "execution_count": 39,
   "metadata": {},
   "outputs": [],
   "source": [
    "predict_weather_sequence(['H','H','G'])"
   ]
  },
  {
   "cell_type": "code",
   "execution_count": null,
   "metadata": {},
   "outputs": [],
   "source": []
  }
 ],
 "metadata": {
  "kernelspec": {
   "display_name": "Python 3",
   "language": "python",
   "name": "python3"
  },
  "language_info": {
   "codemirror_mode": {
    "name": "ipython",
    "version": 3
   },
   "file_extension": ".py",
   "mimetype": "text/x-python",
   "name": "python",
   "nbconvert_exporter": "python",
   "pygments_lexer": "ipython3",
   "version": "3.8.3"
  }
 },
 "nbformat": 4,
 "nbformat_minor": 4
}
