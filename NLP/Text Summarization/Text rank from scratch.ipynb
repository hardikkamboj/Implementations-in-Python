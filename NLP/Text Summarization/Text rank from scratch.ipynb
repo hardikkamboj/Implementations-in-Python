{
 "cells": [
  {
   "cell_type": "markdown",
   "metadata": {},
   "source": [
    "# TextRank algorithm from scratch"
   ]
  },
  {
   "cell_type": "code",
   "execution_count": 56,
   "metadata": {},
   "outputs": [],
   "source": [
    "import numpy as np\n",
    "import pandas as pd\n",
    "import nltk\n",
    "import re\n",
    "# nltk.download('punkt')\n",
    "import matplotlib.pyplot as plt \n",
    "import seaborn as sns\n",
    "pd.set_option('display.max_colwidth',1000)"
   ]
  },
  {
   "cell_type": "code",
   "execution_count": 57,
   "metadata": {},
   "outputs": [],
   "source": [
    "from expand_contractions import expand_contractions # from expanding contractions"
   ]
  },
  {
   "cell_type": "markdown",
   "metadata": {},
   "source": [
    "https://github.com/hardikkamboj/Implementations-in-Python/blob/main/NLP/Expanding%20Contractions/expand_contractions.py"
   ]
  },
  {
   "cell_type": "markdown",
   "metadata": {},
   "source": [
    "## Load Glove embeddings"
   ]
  },
  {
   "cell_type": "code",
   "execution_count": 58,
   "metadata": {},
   "outputs": [],
   "source": [
    "import zipfile\n",
    "\n",
    "GLOVE_DIR = 'data/glove/'\n",
    "GLOVE_ZIP = GLOVE_DIR + 'glove.6B.50d.zip'\n",
    "\n",
    "zip_ref = zipfile.ZipFile(GLOVE_ZIP, 'r')\n",
    "zip_ref.extractall(GLOVE_DIR)\n",
    "zip_ref.close()"
   ]
  },
  {
   "cell_type": "code",
   "execution_count": 59,
   "metadata": {},
   "outputs": [
    {
     "name": "stdout",
     "output_type": "stream",
     "text": [
      "Loading Glove Model\n",
      "Loaded 400000 words\n"
     ]
    }
   ],
   "source": [
    "import numpy as np\n",
    "\n",
    "def load_glove_vectors(fn):\n",
    "    print(\"Loading Glove Model\")\n",
    "    with open( fn,'r', encoding='utf8') as glove_vector_file:\n",
    "        model = {}\n",
    "        for line in glove_vector_file:\n",
    "            parts = line.split()\n",
    "            word = parts[0]\n",
    "            embedding = np.array([float(val) for val in parts[1:]])\n",
    "            model[word] = embedding\n",
    "        print(\"Loaded {} words\".format(len(model)))\n",
    "    return model\n",
    "\n",
    "glove_vectors = load_glove_vectors('data/glove/glove.6B.50d.txt')"
   ]
  },
  {
   "cell_type": "code",
   "execution_count": 60,
   "metadata": {},
   "outputs": [
    {
     "data": {
      "text/plain": [
       "array([ 0.47685 , -0.084552,  1.4641  ,  0.047017,  0.14686 ,  0.5082  ,\n",
       "       -1.2228  , -0.22607 ,  0.19306 , -0.29756 ,  0.20599 , -0.71284 ,\n",
       "       -1.6288  ,  0.17096 ,  0.74797 , -0.061943, -0.65766 ,  1.3786  ,\n",
       "       -0.68043 , -1.7551  ,  0.58319 ,  0.25157 , -1.2114  ,  0.81343 ,\n",
       "        0.094825, -1.6819  , -0.64498 ,  0.6322  ,  1.1211  ,  0.16112 ,\n",
       "        2.5379  ,  0.24852 , -0.26816 ,  0.32818 ,  1.2916  ,  0.23548 ,\n",
       "        0.61465 , -0.1344  , -0.13237 ,  0.27398 , -0.11821 ,  0.1354  ,\n",
       "        0.074306, -0.61951 ,  0.45472 , -0.30318 , -0.21883 , -0.56054 ,\n",
       "        1.1177  , -0.36595 ])"
      ]
     },
     "execution_count": 60,
     "metadata": {},
     "output_type": "execute_result"
    }
   ],
   "source": [
    "glove_vectors['car']"
   ]
  },
  {
   "cell_type": "code",
   "execution_count": 61,
   "metadata": {},
   "outputs": [
    {
     "data": {
      "text/plain": [
       "400000"
      ]
     },
     "execution_count": 61,
     "metadata": {},
     "output_type": "execute_result"
    }
   ],
   "source": [
    "len(list(glove_vectors.keys()))"
   ]
  },
  {
   "cell_type": "code",
   "execution_count": 62,
   "metadata": {},
   "outputs": [
    {
     "data": {
      "text/plain": [
       "50"
      ]
     },
     "execution_count": 62,
     "metadata": {},
     "output_type": "execute_result"
    }
   ],
   "source": [
    "len(glove_vectors['car'])"
   ]
  },
  {
   "cell_type": "markdown",
   "metadata": {},
   "source": [
    "Each word is represented as a vector of length 50"
   ]
  },
  {
   "cell_type": "markdown",
   "metadata": {},
   "source": [
    "# Read articles "
   ]
  },
  {
   "cell_type": "code",
   "execution_count": 63,
   "metadata": {},
   "outputs": [
    {
     "name": "stdout",
     "output_type": "stream",
     "text": [
      "(8, 3)\n"
     ]
    },
    {
     "data": {
      "text/html": [
       "<div>\n",
       "<style scoped>\n",
       "    .dataframe tbody tr th:only-of-type {\n",
       "        vertical-align: middle;\n",
       "    }\n",
       "\n",
       "    .dataframe tbody tr th {\n",
       "        vertical-align: top;\n",
       "    }\n",
       "\n",
       "    .dataframe thead th {\n",
       "        text-align: right;\n",
       "    }\n",
       "</style>\n",
       "<table border=\"1\" class=\"dataframe\">\n",
       "  <thead>\n",
       "    <tr style=\"text-align: right;\">\n",
       "      <th></th>\n",
       "      <th>article_id</th>\n",
       "      <th>article_text</th>\n",
       "      <th>source</th>\n",
       "    </tr>\n",
       "  </thead>\n",
       "  <tbody>\n",
       "    <tr>\n",
       "      <th>0</th>\n",
       "      <td>1</td>\n",
       "      <td>Maria Sharapova has basically no friends as tennis players on the WTA Tour. The Russian player has no problems in openly speaking about it and in a recent interview she said: 'I don't really hide any feelings too much. I think everyone knows this is my job here. When I'm on the courts or when I'm on the court playing, I'm a competitor and I want to beat every single person whether they're in the locker room or across the net.So I'm not the one to strike up a conversation about the weather and know that in the next few minutes I have to go and try to win a tennis match. I'm a pretty competitive girl. I say my hellos, but I'm not sending any players flowers as well. Uhm, I'm not really friendly or close to many players. I have not a lot of friends away from the courts.' When she said she is not really close to a lot of players, is that something strategic that she is doing? Is it different on the men's tour than the women's tour? 'No, not at all. I think just because you're in the sa...</td>\n",
       "      <td>https://www.tennisworldusa.org/tennis/news/Maria_Sharapova/62220/i-do-not-have-friends-in-tennis-says-maria-sharapova/</td>\n",
       "    </tr>\n",
       "    <tr>\n",
       "      <th>1</th>\n",
       "      <td>2</td>\n",
       "      <td>BASEL, Switzerland (AP), Roger Federer advanced to the 14th Swiss Indoors final of his career by beating seventh-seeded Daniil Medvedev 6-1, 6-4 on Saturday. Seeking a ninth title at his hometown event, and a 99th overall, Federer will play 93th-ranked Marius Copil on Sunday. Federer dominated the 20th-ranked Medvedev and had his first match-point chance to break serve again at 5-1. He then dropped his serve to love, and let another match point slip in Medvedev's next service game by netting a backhand. He clinched on his fourth chance when Medvedev netted from the baseline. Copil upset expectations of a Federer final against Alexander Zverev in a 6-3, 6-7 (6), 6-4 win over the fifth-ranked German in the earlier semifinal. The Romanian aims for a first title after arriving at Basel without a career win over a top-10 opponent. Copil has two after also beating No. 6 Marin Cilic in the second round. Copil fired 26 aces past Zverev and never dropped serve, clinching after 2 1/2 hours w...</td>\n",
       "      <td>http://www.tennis.com/pro-game/2018/10/copil-stuns-5th-ranked-zverev-to-reach-swiss-indoors-final/77721/</td>\n",
       "    </tr>\n",
       "    <tr>\n",
       "      <th>2</th>\n",
       "      <td>3</td>\n",
       "      <td>Roger Federer has revealed that organisers of the re-launched and condensed Davis Cup gave him three days to decide if he would commit to the controversial competition. Speaking at the Swiss Indoors tournament where he will play in Sundays final against Romanian qualifier Marius Copil, the world number three said that given the impossibly short time frame to make a decision, he opted out of any commitment. \"They only left me three days to decide\", Federer said. \"I didn't to have time to consult with all the people I had to consult. \"I could not make a decision in that time, so I told them to do what they wanted.\" The 20-time Grand Slam champion has voiced doubts about the wisdom of the one-week format to be introduced by organisers Kosmos, who have promised the International Tennis Federation up to $3 billion in prize money over the next quarter-century. The competition is set to feature 18 countries in the November 18-24 finals in Madrid next year, and will replace the classic hom...</td>\n",
       "      <td>https://scroll.in/field/899938/tennis-roger-federer-ignored-deadline-set-by-new-davis-cup</td>\n",
       "    </tr>\n",
       "    <tr>\n",
       "      <th>3</th>\n",
       "      <td>4</td>\n",
       "      <td>Kei Nishikori will try to end his long losing streak in ATP finals and Kevin Anderson will go for his second title of the year at the Erste Bank Open on Sunday. The fifth-seeded Nishikori reached his third final of 2018 after beating Mikhail Kukushkin of Kazakhstan 6-4, 6-3 in the semifinals. A winner of 11 ATP events, Nishikori hasn't triumphed since winning in Memphis in February 2016. He has lost eight straight finals since. The second-seeded Anderson defeated Fernando Verdasco 6-3, 3-6, 6-4. Anderson has a shot at a fifth career title and second of the year after winning in New York in February. Nishikori leads Anderson 4-2 on career matchups, but the South African won their only previous meeting this year. With a victory on Sunday, Anderson will qualify for the ATP Finals. Currently in ninth place, Nishikori with a win could move to within 125 points of the cut for the eight-man event in London next month. Nishikori held serve throughout against Kukushkin, who came through qua...</td>\n",
       "      <td>http://www.tennis.com/pro-game/2018/10/nishikori-beats-kukushkin-in-vienna-for-3rd-final-of-season/77719/</td>\n",
       "    </tr>\n",
       "    <tr>\n",
       "      <th>4</th>\n",
       "      <td>5</td>\n",
       "      <td>Federer, 37, first broke through on tour over two decades ago and he has since gone on to enjoy a glittering career. The 20-time Grand Slam winner is chasing his 99th ATP title at the Swiss Indoors this week and he faces Jan-Lennard Struff in the second round on Thursday (6pm BST). Davenport enjoyed most of her success in the late 1990s and her third and final major tournament win came at the 2000 Australian Open. But she claims the mentality of professional tennis players slowly began to change after the new millennium. \"It seems pretty friendly right now,\" said Davenport. \"I think there is a really nice environment and a great atmosphere, especially between some of the veteran players helping some of the younger players out. \"It's a very pleasant atmosphere, I'd have to say, around the locker rooms. \"I felt like the best weeks that I had to get to know players when I was playing were the Fed Cup weeks or the Olympic weeks, not necessarily during the tournaments. \"And even though ...</td>\n",
       "      <td>https://www.express.co.uk/sport/tennis/1036101/Roger-Federer-Swiss-Indoors-Jan-Lennard-Struff-Lindsay-Davenport</td>\n",
       "    </tr>\n",
       "    <tr>\n",
       "      <th>5</th>\n",
       "      <td>6</td>\n",
       "      <td>Nadal has not played tennis since he was forced to retire from the US Open semi-finals against Juan Martin Del Porto with a knee injury. The world No 1 has been forced to miss Spain's Davis Cup clash with France and the Asian hard court season. But with the ATP World Tour Finals due to begin next month, Nadal is ready to prove his fitness before the season-ending event at the 02 Arena. Nadal flew to Paris on Friday and footage from the Paris Masters official Twitter account shows the Spaniard smiling as he strides onto court for practice. The Paris Masters draw has been made and Nadal will start his campaign on Tuesday or Wednesday against either Fernando Verdasco or Jeremy Chardy. Nadal could then play defending champion Jack Sock in the third round before a potential quarter-final with either Borna Coric or Dominic Thiem. Nadal's appearance in Paris is a big boost to the tournament organisers who could see Roger Federer withdraw. Federer is in action at the Swiss Indoors in Basel...</td>\n",
       "      <td>https://www.express.co.uk/sport/tennis/1037119/Rafael-Nadal-World-No-1-Paris-Masters-Federer-Djokovic</td>\n",
       "    </tr>\n",
       "    <tr>\n",
       "      <th>6</th>\n",
       "      <td>7</td>\n",
       "      <td>Tennis giveth, and tennis taketh away. The end of the season is finally in sight, and with so many players defending,or losing,huge chunks of points in Singapore, Zhuhai and London, podcast co-hosts Nina Pantic and Irina Falconi discuss the art of defending points (02:14). It's no secret that Jack Sock has struggled on the singles court this year (his record is 7-19). He could lose 1,400 points in the next few weeks, but instead of focusing on the negative, it can all be about perspective (06:28). Let's also not forget his two Grand Slam doubles triumphs this season. Two players, Stefanos Tsitsipas and Kyle Edmund, won their first career ATP titles last week (13:26). It's a big deal because you never forget your first. Irina looks back at her WTA title win in Bogota in 2016, and tells an unforgettable story about her semifinal drama (14:04). In Singapore, one of the biggest storylines (aside from the matches, of course) has been the on-court coaching debate. Nina and Irina give the...</td>\n",
       "      <td>http://www.tennis.com/pro-game/2018/10/tenniscom-podcast-irina-falconi-jack-sock-rafael-nadal-singapore/77698/</td>\n",
       "    </tr>\n",
       "    <tr>\n",
       "      <th>7</th>\n",
       "      <td>8</td>\n",
       "      <td>Federer won the Swiss Indoors last week by beating Romanian qualifier Marius Copil in the final. The 37-year-old claimed his 99th ATP title and is hunting the century in the French capital this week. Federer has been handed a difficult draw where could could come across Kevin Anderson, Novak Djokovic and Rafael Nadal in the latter rounds. But first the 20-time Grand Slam winner wants to train on the Paris Masters court this afternoon before deciding whether to appear for his opening match against either Milos Raonic or Jo-Wilfried Tsonga. \"On Monday, I am free and will look how I feel,\" Federer said after winning the Swiss Indoors. \"On Tuesday I will fly to Paris and train in the afternoon to be ready for my first match on Wednesday night. \"I felt good all week and better every day. \"We also had the impression that at this stage it might be better to play matches than to train. \"And as long as I fear no injury, I play.\" Federer's success in Basel last week was the ninth time he has...</td>\n",
       "      <td>https://www.express.co.uk/sport/tennis/1038186/Roger-Federer-set-for-crunch-Paris-Masters-decision-today</td>\n",
       "    </tr>\n",
       "  </tbody>\n",
       "</table>\n",
       "</div>"
      ],
      "text/plain": [
       "   article_id  \\\n",
       "0           1   \n",
       "1           2   \n",
       "2           3   \n",
       "3           4   \n",
       "4           5   \n",
       "5           6   \n",
       "6           7   \n",
       "7           8   \n",
       "\n",
       "                                                                                                                                                                                                                                                                                                                                                                                                                                                                                                                                                                                                                                                                                                                                                                                                                                                                                                                                                                                                                              article_text  \\\n",
       "0  Maria Sharapova has basically no friends as tennis players on the WTA Tour. The Russian player has no problems in openly speaking about it and in a recent interview she said: 'I don't really hide any feelings too much. I think everyone knows this is my job here. When I'm on the courts or when I'm on the court playing, I'm a competitor and I want to beat every single person whether they're in the locker room or across the net.So I'm not the one to strike up a conversation about the weather and know that in the next few minutes I have to go and try to win a tennis match. I'm a pretty competitive girl. I say my hellos, but I'm not sending any players flowers as well. Uhm, I'm not really friendly or close to many players. I have not a lot of friends away from the courts.' When she said she is not really close to a lot of players, is that something strategic that she is doing? Is it different on the men's tour than the women's tour? 'No, not at all. I think just because you're in the sa...   \n",
       "1  BASEL, Switzerland (AP), Roger Federer advanced to the 14th Swiss Indoors final of his career by beating seventh-seeded Daniil Medvedev 6-1, 6-4 on Saturday. Seeking a ninth title at his hometown event, and a 99th overall, Federer will play 93th-ranked Marius Copil on Sunday. Federer dominated the 20th-ranked Medvedev and had his first match-point chance to break serve again at 5-1. He then dropped his serve to love, and let another match point slip in Medvedev's next service game by netting a backhand. He clinched on his fourth chance when Medvedev netted from the baseline. Copil upset expectations of a Federer final against Alexander Zverev in a 6-3, 6-7 (6), 6-4 win over the fifth-ranked German in the earlier semifinal. The Romanian aims for a first title after arriving at Basel without a career win over a top-10 opponent. Copil has two after also beating No. 6 Marin Cilic in the second round. Copil fired 26 aces past Zverev and never dropped serve, clinching after 2 1/2 hours w...   \n",
       "2  Roger Federer has revealed that organisers of the re-launched and condensed Davis Cup gave him three days to decide if he would commit to the controversial competition. Speaking at the Swiss Indoors tournament where he will play in Sundays final against Romanian qualifier Marius Copil, the world number three said that given the impossibly short time frame to make a decision, he opted out of any commitment. \"They only left me three days to decide\", Federer said. \"I didn't to have time to consult with all the people I had to consult. \"I could not make a decision in that time, so I told them to do what they wanted.\" The 20-time Grand Slam champion has voiced doubts about the wisdom of the one-week format to be introduced by organisers Kosmos, who have promised the International Tennis Federation up to $3 billion in prize money over the next quarter-century. The competition is set to feature 18 countries in the November 18-24 finals in Madrid next year, and will replace the classic hom...   \n",
       "3  Kei Nishikori will try to end his long losing streak in ATP finals and Kevin Anderson will go for his second title of the year at the Erste Bank Open on Sunday. The fifth-seeded Nishikori reached his third final of 2018 after beating Mikhail Kukushkin of Kazakhstan 6-4, 6-3 in the semifinals. A winner of 11 ATP events, Nishikori hasn't triumphed since winning in Memphis in February 2016. He has lost eight straight finals since. The second-seeded Anderson defeated Fernando Verdasco 6-3, 3-6, 6-4. Anderson has a shot at a fifth career title and second of the year after winning in New York in February. Nishikori leads Anderson 4-2 on career matchups, but the South African won their only previous meeting this year. With a victory on Sunday, Anderson will qualify for the ATP Finals. Currently in ninth place, Nishikori with a win could move to within 125 points of the cut for the eight-man event in London next month. Nishikori held serve throughout against Kukushkin, who came through qua...   \n",
       "4  Federer, 37, first broke through on tour over two decades ago and he has since gone on to enjoy a glittering career. The 20-time Grand Slam winner is chasing his 99th ATP title at the Swiss Indoors this week and he faces Jan-Lennard Struff in the second round on Thursday (6pm BST). Davenport enjoyed most of her success in the late 1990s and her third and final major tournament win came at the 2000 Australian Open. But she claims the mentality of professional tennis players slowly began to change after the new millennium. \"It seems pretty friendly right now,\" said Davenport. \"I think there is a really nice environment and a great atmosphere, especially between some of the veteran players helping some of the younger players out. \"It's a very pleasant atmosphere, I'd have to say, around the locker rooms. \"I felt like the best weeks that I had to get to know players when I was playing were the Fed Cup weeks or the Olympic weeks, not necessarily during the tournaments. \"And even though ...   \n",
       "5  Nadal has not played tennis since he was forced to retire from the US Open semi-finals against Juan Martin Del Porto with a knee injury. The world No 1 has been forced to miss Spain's Davis Cup clash with France and the Asian hard court season. But with the ATP World Tour Finals due to begin next month, Nadal is ready to prove his fitness before the season-ending event at the 02 Arena. Nadal flew to Paris on Friday and footage from the Paris Masters official Twitter account shows the Spaniard smiling as he strides onto court for practice. The Paris Masters draw has been made and Nadal will start his campaign on Tuesday or Wednesday against either Fernando Verdasco or Jeremy Chardy. Nadal could then play defending champion Jack Sock in the third round before a potential quarter-final with either Borna Coric or Dominic Thiem. Nadal's appearance in Paris is a big boost to the tournament organisers who could see Roger Federer withdraw. Federer is in action at the Swiss Indoors in Basel...   \n",
       "6  Tennis giveth, and tennis taketh away. The end of the season is finally in sight, and with so many players defending,or losing,huge chunks of points in Singapore, Zhuhai and London, podcast co-hosts Nina Pantic and Irina Falconi discuss the art of defending points (02:14). It's no secret that Jack Sock has struggled on the singles court this year (his record is 7-19). He could lose 1,400 points in the next few weeks, but instead of focusing on the negative, it can all be about perspective (06:28). Let's also not forget his two Grand Slam doubles triumphs this season. Two players, Stefanos Tsitsipas and Kyle Edmund, won their first career ATP titles last week (13:26). It's a big deal because you never forget your first. Irina looks back at her WTA title win in Bogota in 2016, and tells an unforgettable story about her semifinal drama (14:04). In Singapore, one of the biggest storylines (aside from the matches, of course) has been the on-court coaching debate. Nina and Irina give the...   \n",
       "7  Federer won the Swiss Indoors last week by beating Romanian qualifier Marius Copil in the final. The 37-year-old claimed his 99th ATP title and is hunting the century in the French capital this week. Federer has been handed a difficult draw where could could come across Kevin Anderson, Novak Djokovic and Rafael Nadal in the latter rounds. But first the 20-time Grand Slam winner wants to train on the Paris Masters court this afternoon before deciding whether to appear for his opening match against either Milos Raonic or Jo-Wilfried Tsonga. \"On Monday, I am free and will look how I feel,\" Federer said after winning the Swiss Indoors. \"On Tuesday I will fly to Paris and train in the afternoon to be ready for my first match on Wednesday night. \"I felt good all week and better every day. \"We also had the impression that at this stage it might be better to play matches than to train. \"And as long as I fear no injury, I play.\" Federer's success in Basel last week was the ninth time he has...   \n",
       "\n",
       "                                                                                                                   source  \n",
       "0  https://www.tennisworldusa.org/tennis/news/Maria_Sharapova/62220/i-do-not-have-friends-in-tennis-says-maria-sharapova/  \n",
       "1                http://www.tennis.com/pro-game/2018/10/copil-stuns-5th-ranked-zverev-to-reach-swiss-indoors-final/77721/  \n",
       "2                               https://scroll.in/field/899938/tennis-roger-federer-ignored-deadline-set-by-new-davis-cup  \n",
       "3               http://www.tennis.com/pro-game/2018/10/nishikori-beats-kukushkin-in-vienna-for-3rd-final-of-season/77719/  \n",
       "4         https://www.express.co.uk/sport/tennis/1036101/Roger-Federer-Swiss-Indoors-Jan-Lennard-Struff-Lindsay-Davenport  \n",
       "5                   https://www.express.co.uk/sport/tennis/1037119/Rafael-Nadal-World-No-1-Paris-Masters-Federer-Djokovic  \n",
       "6          http://www.tennis.com/pro-game/2018/10/tenniscom-podcast-irina-falconi-jack-sock-rafael-nadal-singapore/77698/  \n",
       "7                https://www.express.co.uk/sport/tennis/1038186/Roger-Federer-set-for-crunch-Paris-Masters-decision-today  "
      ]
     },
     "execution_count": 63,
     "metadata": {},
     "output_type": "execute_result"
    }
   ],
   "source": [
    "articles = pd.read_csv(\"data/tennis_articles_v4.csv\")\n",
    "print(articles.shape)\n",
    "articles.head(10)"
   ]
  },
  {
   "cell_type": "code",
   "execution_count": 64,
   "metadata": {},
   "outputs": [],
   "source": [
    "#stopwords\n",
    "from nltk.corpus import stopwords\n",
    "stop_words = stopwords.words('english')"
   ]
  },
  {
   "cell_type": "code",
   "execution_count": 65,
   "metadata": {},
   "outputs": [],
   "source": [
    "from nltk.tokenize import sent_tokenize, word_tokenize\n",
    "\n",
    "CLEAN_PATTERN = r'[^a-zA-z\\s]'\n",
    "\n",
    "def clean(word):\n",
    "    return re.sub(CLEAN_PATTERN, '', word)\n",
    "\n",
    "def clean_sentence(sentence):\n",
    "    sentence = [clean(word) for word in sentence]\n",
    "    return [word for word in sentence if word]\n",
    "\n",
    "def clean_sentences(sentences):\n",
    "    return [clean_sentence(sentence) for sentence in sentences]\n",
    "\n",
    "def lower(sentence):\n",
    "    return [word.lower() for word in sentence]\n",
    "\n",
    "def remove_stopwords(sentence):\n",
    "    words = [word for word in sentence if word not in stop_words]\n",
    "    return [word for word in words if len(word) >0]\n",
    "\n",
    "def tokenize_words(sentences):\n",
    "    return [word_tokenize(sentence) \n",
    "              for sentence in sentences]\n",
    "\n",
    "def fix_contractions(sentences):\n",
    "    return [expand_contractions(sentence) for sentence in sentences]"
   ]
  },
  {
   "cell_type": "code",
   "execution_count": 66,
   "metadata": {},
   "outputs": [],
   "source": [
    "articles['SentencesInArticle'] = articles.article_text.apply(sent_tokenize)\n",
    "articles['WordsInSentences'] = articles.SentencesInArticle \\\n",
    "              .apply(fix_contractions)\\\n",
    "              .apply(lower)\\\n",
    "              .apply(tokenize_words)\\\n",
    "              .apply(remove_stopwords)\\\n",
    "              .apply(clean_sentences)"
   ]
  },
  {
   "cell_type": "code",
   "execution_count": 67,
   "metadata": {},
   "outputs": [
    {
     "data": {
      "text/html": [
       "<div>\n",
       "<style scoped>\n",
       "    .dataframe tbody tr th:only-of-type {\n",
       "        vertical-align: middle;\n",
       "    }\n",
       "\n",
       "    .dataframe tbody tr th {\n",
       "        vertical-align: top;\n",
       "    }\n",
       "\n",
       "    .dataframe thead th {\n",
       "        text-align: right;\n",
       "    }\n",
       "</style>\n",
       "<table border=\"1\" class=\"dataframe\">\n",
       "  <thead>\n",
       "    <tr style=\"text-align: right;\">\n",
       "      <th></th>\n",
       "      <th>article_id</th>\n",
       "      <th>article_text</th>\n",
       "      <th>source</th>\n",
       "      <th>SentencesInArticle</th>\n",
       "      <th>WordsInSentences</th>\n",
       "    </tr>\n",
       "  </thead>\n",
       "  <tbody>\n",
       "    <tr>\n",
       "      <th>0</th>\n",
       "      <td>1</td>\n",
       "      <td>Maria Sharapova has basically no friends as tennis players on the WTA Tour. The Russian player has no problems in openly speaking about it and in a recent interview she said: 'I don't really hide any feelings too much. I think everyone knows this is my job here. When I'm on the courts or when I'm on the court playing, I'm a competitor and I want to beat every single person whether they're in the locker room or across the net.So I'm not the one to strike up a conversation about the weather and know that in the next few minutes I have to go and try to win a tennis match. I'm a pretty competitive girl. I say my hellos, but I'm not sending any players flowers as well. Uhm, I'm not really friendly or close to many players. I have not a lot of friends away from the courts.' When she said she is not really close to a lot of players, is that something strategic that she is doing? Is it different on the men's tour than the women's tour? 'No, not at all. I think just because you're in the sa...</td>\n",
       "      <td>https://www.tennisworldusa.org/tennis/news/Maria_Sharapova/62220/i-do-not-have-friends-in-tennis-says-maria-sharapova/</td>\n",
       "      <td>[Maria Sharapova has basically no friends as tennis players on the WTA Tour., The Russian player has no problems in openly speaking about it and in a recent interview she said: 'I don't really hide any feelings too much., I think everyone knows this is my job here., When I'm on the courts or when I'm on the court playing, I'm a competitor and I want to beat every single person whether they're in the locker room or across the net.So I'm not the one to strike up a conversation about the weather and know that in the next few minutes I have to go and try to win a tennis match., I'm a pretty competitive girl., I say my hellos, but I'm not sending any players flowers as well., Uhm, I'm not really friendly or close to many players., I have not a lot of friends away from the courts.', When she said she is not really close to a lot of players, is that something strategic that she is doing?, Is it different on the men's tour than the women's tour?, 'No, not at all., I think just because you'...</td>\n",
       "      <td>[[maria, sharapova, has, basically, no, friends, as, tennis, players, on, the, wta, tour], [the, russian, player, has, no, problems, in, openly, speaking, about, it, and, in, a, recent, interview, she, said, i, do, not, really, hide, any, feelings, too, much], [i, think, everyone, knows, this, is, my, job, here], [when, i, am, on, the, courts, or, when, i, am, on, the, court, playing, i, am, a, competitor, and, i, want, to, beat, every, single, person, whether, they, are, in, the, locker, room, or, across, the, netso, i, am, not, the, one, to, strike, up, a, conversation, about, the, weather, and, know, that, in, the, next, few, minutes, i, have, to, go, and, try, to, win, a, tennis, match], [i, am, a, pretty, competitive, girl], [i, say, my, hellos, but, i, am, not, sending, any, players, flowers, as, well], [uhm, i, am, not, really, friendly, or, close, to, many, players], [i, have, not, a, lot, of, friends, away, from, the, courts], [when, she, said, she, is, not, really, close,...</td>\n",
       "    </tr>\n",
       "    <tr>\n",
       "      <th>1</th>\n",
       "      <td>2</td>\n",
       "      <td>BASEL, Switzerland (AP), Roger Federer advanced to the 14th Swiss Indoors final of his career by beating seventh-seeded Daniil Medvedev 6-1, 6-4 on Saturday. Seeking a ninth title at his hometown event, and a 99th overall, Federer will play 93th-ranked Marius Copil on Sunday. Federer dominated the 20th-ranked Medvedev and had his first match-point chance to break serve again at 5-1. He then dropped his serve to love, and let another match point slip in Medvedev's next service game by netting a backhand. He clinched on his fourth chance when Medvedev netted from the baseline. Copil upset expectations of a Federer final against Alexander Zverev in a 6-3, 6-7 (6), 6-4 win over the fifth-ranked German in the earlier semifinal. The Romanian aims for a first title after arriving at Basel without a career win over a top-10 opponent. Copil has two after also beating No. 6 Marin Cilic in the second round. Copil fired 26 aces past Zverev and never dropped serve, clinching after 2 1/2 hours w...</td>\n",
       "      <td>http://www.tennis.com/pro-game/2018/10/copil-stuns-5th-ranked-zverev-to-reach-swiss-indoors-final/77721/</td>\n",
       "      <td>[BASEL, Switzerland (AP), Roger Federer advanced to the 14th Swiss Indoors final of his career by beating seventh-seeded Daniil Medvedev 6-1, 6-4 on Saturday., Seeking a ninth title at his hometown event, and a 99th overall, Federer will play 93th-ranked Marius Copil on Sunday., Federer dominated the 20th-ranked Medvedev and had his first match-point chance to break serve again at 5-1., He then dropped his serve to love, and let another match point slip in Medvedev's next service game by netting a backhand., He clinched on his fourth chance when Medvedev netted from the baseline., Copil upset expectations of a Federer final against Alexander Zverev in a 6-3, 6-7 (6), 6-4 win over the fifth-ranked German in the earlier semifinal., The Romanian aims for a first title after arriving at Basel without a career win over a top-10 opponent., Copil has two after also beating No., 6 Marin Cilic in the second round., Copil fired 26 aces past Zverev and never dropped serve, clinching after 2 1...</td>\n",
       "      <td>[[basel, switzerland, ap, roger, federer, advanced, to, the, th, swiss, indoors, final, of, his, career, by, beating, seventhseeded, daniil, medvedev, on, saturday], [seeking, a, ninth, title, at, his, hometown, event, and, a, th, overall, federer, will, play, thranked, marius, copil, on, sunday], [federer, dominated, the, thranked, medvedev, and, had, his, first, matchpoint, chance, to, break, serve, again, at], [he, then, dropped, his, serve, to, love, and, let, another, match, point, slip, in, medvedev, s, next, service, game, by, netting, a, backhand], [he, clinched, on, his, fourth, chance, when, medvedev, netted, from, the, baseline], [copil, upset, expectations, of, a, federer, final, against, alexander, zverev, in, a, win, over, the, fifthranked, german, in, the, earlier, semifinal], [the, romanian, aims, for, a, first, title, after, arriving, at, basel, without, a, career, win, over, a, top, opponent], [copil, has, two, after, also, beating, no], [marin, cilic, in, the, se...</td>\n",
       "    </tr>\n",
       "  </tbody>\n",
       "</table>\n",
       "</div>"
      ],
      "text/plain": [
       "   article_id  \\\n",
       "0           1   \n",
       "1           2   \n",
       "\n",
       "                                                                                                                                                                                                                                                                                                                                                                                                                                                                                                                                                                                                                                                                                                                                                                                                                                                                                                                                                                                                                              article_text  \\\n",
       "0  Maria Sharapova has basically no friends as tennis players on the WTA Tour. The Russian player has no problems in openly speaking about it and in a recent interview she said: 'I don't really hide any feelings too much. I think everyone knows this is my job here. When I'm on the courts or when I'm on the court playing, I'm a competitor and I want to beat every single person whether they're in the locker room or across the net.So I'm not the one to strike up a conversation about the weather and know that in the next few minutes I have to go and try to win a tennis match. I'm a pretty competitive girl. I say my hellos, but I'm not sending any players flowers as well. Uhm, I'm not really friendly or close to many players. I have not a lot of friends away from the courts.' When she said she is not really close to a lot of players, is that something strategic that she is doing? Is it different on the men's tour than the women's tour? 'No, not at all. I think just because you're in the sa...   \n",
       "1  BASEL, Switzerland (AP), Roger Federer advanced to the 14th Swiss Indoors final of his career by beating seventh-seeded Daniil Medvedev 6-1, 6-4 on Saturday. Seeking a ninth title at his hometown event, and a 99th overall, Federer will play 93th-ranked Marius Copil on Sunday. Federer dominated the 20th-ranked Medvedev and had his first match-point chance to break serve again at 5-1. He then dropped his serve to love, and let another match point slip in Medvedev's next service game by netting a backhand. He clinched on his fourth chance when Medvedev netted from the baseline. Copil upset expectations of a Federer final against Alexander Zverev in a 6-3, 6-7 (6), 6-4 win over the fifth-ranked German in the earlier semifinal. The Romanian aims for a first title after arriving at Basel without a career win over a top-10 opponent. Copil has two after also beating No. 6 Marin Cilic in the second round. Copil fired 26 aces past Zverev and never dropped serve, clinching after 2 1/2 hours w...   \n",
       "\n",
       "                                                                                                                   source  \\\n",
       "0  https://www.tennisworldusa.org/tennis/news/Maria_Sharapova/62220/i-do-not-have-friends-in-tennis-says-maria-sharapova/   \n",
       "1                http://www.tennis.com/pro-game/2018/10/copil-stuns-5th-ranked-zverev-to-reach-swiss-indoors-final/77721/   \n",
       "\n",
       "                                                                                                                                                                                                                                                                                                                                                                                                                                                                                                                                                                                                                                                                                                                                                                                                                                                                                                                                                                                                                        SentencesInArticle  \\\n",
       "0  [Maria Sharapova has basically no friends as tennis players on the WTA Tour., The Russian player has no problems in openly speaking about it and in a recent interview she said: 'I don't really hide any feelings too much., I think everyone knows this is my job here., When I'm on the courts or when I'm on the court playing, I'm a competitor and I want to beat every single person whether they're in the locker room or across the net.So I'm not the one to strike up a conversation about the weather and know that in the next few minutes I have to go and try to win a tennis match., I'm a pretty competitive girl., I say my hellos, but I'm not sending any players flowers as well., Uhm, I'm not really friendly or close to many players., I have not a lot of friends away from the courts.', When she said she is not really close to a lot of players, is that something strategic that she is doing?, Is it different on the men's tour than the women's tour?, 'No, not at all., I think just because you'...   \n",
       "1  [BASEL, Switzerland (AP), Roger Federer advanced to the 14th Swiss Indoors final of his career by beating seventh-seeded Daniil Medvedev 6-1, 6-4 on Saturday., Seeking a ninth title at his hometown event, and a 99th overall, Federer will play 93th-ranked Marius Copil on Sunday., Federer dominated the 20th-ranked Medvedev and had his first match-point chance to break serve again at 5-1., He then dropped his serve to love, and let another match point slip in Medvedev's next service game by netting a backhand., He clinched on his fourth chance when Medvedev netted from the baseline., Copil upset expectations of a Federer final against Alexander Zverev in a 6-3, 6-7 (6), 6-4 win over the fifth-ranked German in the earlier semifinal., The Romanian aims for a first title after arriving at Basel without a career win over a top-10 opponent., Copil has two after also beating No., 6 Marin Cilic in the second round., Copil fired 26 aces past Zverev and never dropped serve, clinching after 2 1...   \n",
       "\n",
       "                                                                                                                                                                                                                                                                                                                                                                                                                                                                                                                                                                                                                                                                                                                                                                                                                                                                                                                                                                                                                          WordsInSentences  \n",
       "0  [[maria, sharapova, has, basically, no, friends, as, tennis, players, on, the, wta, tour], [the, russian, player, has, no, problems, in, openly, speaking, about, it, and, in, a, recent, interview, she, said, i, do, not, really, hide, any, feelings, too, much], [i, think, everyone, knows, this, is, my, job, here], [when, i, am, on, the, courts, or, when, i, am, on, the, court, playing, i, am, a, competitor, and, i, want, to, beat, every, single, person, whether, they, are, in, the, locker, room, or, across, the, netso, i, am, not, the, one, to, strike, up, a, conversation, about, the, weather, and, know, that, in, the, next, few, minutes, i, have, to, go, and, try, to, win, a, tennis, match], [i, am, a, pretty, competitive, girl], [i, say, my, hellos, but, i, am, not, sending, any, players, flowers, as, well], [uhm, i, am, not, really, friendly, or, close, to, many, players], [i, have, not, a, lot, of, friends, away, from, the, courts], [when, she, said, she, is, not, really, close,...  \n",
       "1  [[basel, switzerland, ap, roger, federer, advanced, to, the, th, swiss, indoors, final, of, his, career, by, beating, seventhseeded, daniil, medvedev, on, saturday], [seeking, a, ninth, title, at, his, hometown, event, and, a, th, overall, federer, will, play, thranked, marius, copil, on, sunday], [federer, dominated, the, thranked, medvedev, and, had, his, first, matchpoint, chance, to, break, serve, again, at], [he, then, dropped, his, serve, to, love, and, let, another, match, point, slip, in, medvedev, s, next, service, game, by, netting, a, backhand], [he, clinched, on, his, fourth, chance, when, medvedev, netted, from, the, baseline], [copil, upset, expectations, of, a, federer, final, against, alexander, zverev, in, a, win, over, the, fifthranked, german, in, the, earlier, semifinal], [the, romanian, aims, for, a, first, title, after, arriving, at, basel, without, a, career, win, over, a, top, opponent], [copil, has, two, after, also, beating, no], [marin, cilic, in, the, se...  "
      ]
     },
     "execution_count": 67,
     "metadata": {},
     "output_type": "execute_result"
    }
   ],
   "source": [
    "articles.head(2)"
   ]
  },
  {
   "cell_type": "code",
   "execution_count": 68,
   "metadata": {},
   "outputs": [
    {
     "data": {
      "text/html": [
       "<div>\n",
       "<style scoped>\n",
       "    .dataframe tbody tr th:only-of-type {\n",
       "        vertical-align: middle;\n",
       "    }\n",
       "\n",
       "    .dataframe tbody tr th {\n",
       "        vertical-align: top;\n",
       "    }\n",
       "\n",
       "    .dataframe thead th {\n",
       "        text-align: right;\n",
       "    }\n",
       "</style>\n",
       "<table border=\"1\" class=\"dataframe\">\n",
       "  <thead>\n",
       "    <tr style=\"text-align: right;\">\n",
       "      <th></th>\n",
       "      <th>article_text</th>\n",
       "      <th>SentencesInArticle</th>\n",
       "      <th>WordsInSentences</th>\n",
       "    </tr>\n",
       "  </thead>\n",
       "  <tbody>\n",
       "    <tr>\n",
       "      <th>0</th>\n",
       "      <td>Maria Sharapova has basically no friends as tennis players on the WTA Tour. The Russian player has no problems in openly speaking about it and in a recent interview she said: 'I don't really hide any feelings too much. I think everyone knows this is my job here. When I'm on the courts or when I'm on the court playing, I'm a competitor and I want to beat every single person whether they're in the locker room or across the net.So I'm not the one to strike up a conversation about the weather and know that in the next few minutes I have to go and try to win a tennis match. I'm a pretty competitive girl. I say my hellos, but I'm not sending any players flowers as well. Uhm, I'm not really friendly or close to many players. I have not a lot of friends away from the courts.' When she said she is not really close to a lot of players, is that something strategic that she is doing? Is it different on the men's tour than the women's tour? 'No, not at all. I think just because you're in the sa...</td>\n",
       "      <td>[Maria Sharapova has basically no friends as tennis players on the WTA Tour., The Russian player has no problems in openly speaking about it and in a recent interview she said: 'I don't really hide any feelings too much., I think everyone knows this is my job here., When I'm on the courts or when I'm on the court playing, I'm a competitor and I want to beat every single person whether they're in the locker room or across the net.So I'm not the one to strike up a conversation about the weather and know that in the next few minutes I have to go and try to win a tennis match., I'm a pretty competitive girl., I say my hellos, but I'm not sending any players flowers as well., Uhm, I'm not really friendly or close to many players., I have not a lot of friends away from the courts.', When she said she is not really close to a lot of players, is that something strategic that she is doing?, Is it different on the men's tour than the women's tour?, 'No, not at all., I think just because you'...</td>\n",
       "      <td>[[maria, sharapova, has, basically, no, friends, as, tennis, players, on, the, wta, tour], [the, russian, player, has, no, problems, in, openly, speaking, about, it, and, in, a, recent, interview, she, said, i, do, not, really, hide, any, feelings, too, much], [i, think, everyone, knows, this, is, my, job, here], [when, i, am, on, the, courts, or, when, i, am, on, the, court, playing, i, am, a, competitor, and, i, want, to, beat, every, single, person, whether, they, are, in, the, locker, room, or, across, the, netso, i, am, not, the, one, to, strike, up, a, conversation, about, the, weather, and, know, that, in, the, next, few, minutes, i, have, to, go, and, try, to, win, a, tennis, match], [i, am, a, pretty, competitive, girl], [i, say, my, hellos, but, i, am, not, sending, any, players, flowers, as, well], [uhm, i, am, not, really, friendly, or, close, to, many, players], [i, have, not, a, lot, of, friends, away, from, the, courts], [when, she, said, she, is, not, really, close,...</td>\n",
       "    </tr>\n",
       "    <tr>\n",
       "      <th>1</th>\n",
       "      <td>BASEL, Switzerland (AP), Roger Federer advanced to the 14th Swiss Indoors final of his career by beating seventh-seeded Daniil Medvedev 6-1, 6-4 on Saturday. Seeking a ninth title at his hometown event, and a 99th overall, Federer will play 93th-ranked Marius Copil on Sunday. Federer dominated the 20th-ranked Medvedev and had his first match-point chance to break serve again at 5-1. He then dropped his serve to love, and let another match point slip in Medvedev's next service game by netting a backhand. He clinched on his fourth chance when Medvedev netted from the baseline. Copil upset expectations of a Federer final against Alexander Zverev in a 6-3, 6-7 (6), 6-4 win over the fifth-ranked German in the earlier semifinal. The Romanian aims for a first title after arriving at Basel without a career win over a top-10 opponent. Copil has two after also beating No. 6 Marin Cilic in the second round. Copil fired 26 aces past Zverev and never dropped serve, clinching after 2 1/2 hours w...</td>\n",
       "      <td>[BASEL, Switzerland (AP), Roger Federer advanced to the 14th Swiss Indoors final of his career by beating seventh-seeded Daniil Medvedev 6-1, 6-4 on Saturday., Seeking a ninth title at his hometown event, and a 99th overall, Federer will play 93th-ranked Marius Copil on Sunday., Federer dominated the 20th-ranked Medvedev and had his first match-point chance to break serve again at 5-1., He then dropped his serve to love, and let another match point slip in Medvedev's next service game by netting a backhand., He clinched on his fourth chance when Medvedev netted from the baseline., Copil upset expectations of a Federer final against Alexander Zverev in a 6-3, 6-7 (6), 6-4 win over the fifth-ranked German in the earlier semifinal., The Romanian aims for a first title after arriving at Basel without a career win over a top-10 opponent., Copil has two after also beating No., 6 Marin Cilic in the second round., Copil fired 26 aces past Zverev and never dropped serve, clinching after 2 1...</td>\n",
       "      <td>[[basel, switzerland, ap, roger, federer, advanced, to, the, th, swiss, indoors, final, of, his, career, by, beating, seventhseeded, daniil, medvedev, on, saturday], [seeking, a, ninth, title, at, his, hometown, event, and, a, th, overall, federer, will, play, thranked, marius, copil, on, sunday], [federer, dominated, the, thranked, medvedev, and, had, his, first, matchpoint, chance, to, break, serve, again, at], [he, then, dropped, his, serve, to, love, and, let, another, match, point, slip, in, medvedev, s, next, service, game, by, netting, a, backhand], [he, clinched, on, his, fourth, chance, when, medvedev, netted, from, the, baseline], [copil, upset, expectations, of, a, federer, final, against, alexander, zverev, in, a, win, over, the, fifthranked, german, in, the, earlier, semifinal], [the, romanian, aims, for, a, first, title, after, arriving, at, basel, without, a, career, win, over, a, top, opponent], [copil, has, two, after, also, beating, no], [marin, cilic, in, the, se...</td>\n",
       "    </tr>\n",
       "  </tbody>\n",
       "</table>\n",
       "</div>"
      ],
      "text/plain": [
       "                                                                                                                                                                                                                                                                                                                                                                                                                                                                                                                                                                                                                                                                                                                                                                                                                                                                                                                                                                                                                              article_text  \\\n",
       "0  Maria Sharapova has basically no friends as tennis players on the WTA Tour. The Russian player has no problems in openly speaking about it and in a recent interview she said: 'I don't really hide any feelings too much. I think everyone knows this is my job here. When I'm on the courts or when I'm on the court playing, I'm a competitor and I want to beat every single person whether they're in the locker room or across the net.So I'm not the one to strike up a conversation about the weather and know that in the next few minutes I have to go and try to win a tennis match. I'm a pretty competitive girl. I say my hellos, but I'm not sending any players flowers as well. Uhm, I'm not really friendly or close to many players. I have not a lot of friends away from the courts.' When she said she is not really close to a lot of players, is that something strategic that she is doing? Is it different on the men's tour than the women's tour? 'No, not at all. I think just because you're in the sa...   \n",
       "1  BASEL, Switzerland (AP), Roger Federer advanced to the 14th Swiss Indoors final of his career by beating seventh-seeded Daniil Medvedev 6-1, 6-4 on Saturday. Seeking a ninth title at his hometown event, and a 99th overall, Federer will play 93th-ranked Marius Copil on Sunday. Federer dominated the 20th-ranked Medvedev and had his first match-point chance to break serve again at 5-1. He then dropped his serve to love, and let another match point slip in Medvedev's next service game by netting a backhand. He clinched on his fourth chance when Medvedev netted from the baseline. Copil upset expectations of a Federer final against Alexander Zverev in a 6-3, 6-7 (6), 6-4 win over the fifth-ranked German in the earlier semifinal. The Romanian aims for a first title after arriving at Basel without a career win over a top-10 opponent. Copil has two after also beating No. 6 Marin Cilic in the second round. Copil fired 26 aces past Zverev and never dropped serve, clinching after 2 1/2 hours w...   \n",
       "\n",
       "                                                                                                                                                                                                                                                                                                                                                                                                                                                                                                                                                                                                                                                                                                                                                                                                                                                                                                                                                                                                                        SentencesInArticle  \\\n",
       "0  [Maria Sharapova has basically no friends as tennis players on the WTA Tour., The Russian player has no problems in openly speaking about it and in a recent interview she said: 'I don't really hide any feelings too much., I think everyone knows this is my job here., When I'm on the courts or when I'm on the court playing, I'm a competitor and I want to beat every single person whether they're in the locker room or across the net.So I'm not the one to strike up a conversation about the weather and know that in the next few minutes I have to go and try to win a tennis match., I'm a pretty competitive girl., I say my hellos, but I'm not sending any players flowers as well., Uhm, I'm not really friendly or close to many players., I have not a lot of friends away from the courts.', When she said she is not really close to a lot of players, is that something strategic that she is doing?, Is it different on the men's tour than the women's tour?, 'No, not at all., I think just because you'...   \n",
       "1  [BASEL, Switzerland (AP), Roger Federer advanced to the 14th Swiss Indoors final of his career by beating seventh-seeded Daniil Medvedev 6-1, 6-4 on Saturday., Seeking a ninth title at his hometown event, and a 99th overall, Federer will play 93th-ranked Marius Copil on Sunday., Federer dominated the 20th-ranked Medvedev and had his first match-point chance to break serve again at 5-1., He then dropped his serve to love, and let another match point slip in Medvedev's next service game by netting a backhand., He clinched on his fourth chance when Medvedev netted from the baseline., Copil upset expectations of a Federer final against Alexander Zverev in a 6-3, 6-7 (6), 6-4 win over the fifth-ranked German in the earlier semifinal., The Romanian aims for a first title after arriving at Basel without a career win over a top-10 opponent., Copil has two after also beating No., 6 Marin Cilic in the second round., Copil fired 26 aces past Zverev and never dropped serve, clinching after 2 1...   \n",
       "\n",
       "                                                                                                                                                                                                                                                                                                                                                                                                                                                                                                                                                                                                                                                                                                                                                                                                                                                                                                                                                                                                                          WordsInSentences  \n",
       "0  [[maria, sharapova, has, basically, no, friends, as, tennis, players, on, the, wta, tour], [the, russian, player, has, no, problems, in, openly, speaking, about, it, and, in, a, recent, interview, she, said, i, do, not, really, hide, any, feelings, too, much], [i, think, everyone, knows, this, is, my, job, here], [when, i, am, on, the, courts, or, when, i, am, on, the, court, playing, i, am, a, competitor, and, i, want, to, beat, every, single, person, whether, they, are, in, the, locker, room, or, across, the, netso, i, am, not, the, one, to, strike, up, a, conversation, about, the, weather, and, know, that, in, the, next, few, minutes, i, have, to, go, and, try, to, win, a, tennis, match], [i, am, a, pretty, competitive, girl], [i, say, my, hellos, but, i, am, not, sending, any, players, flowers, as, well], [uhm, i, am, not, really, friendly, or, close, to, many, players], [i, have, not, a, lot, of, friends, away, from, the, courts], [when, she, said, she, is, not, really, close,...  \n",
       "1  [[basel, switzerland, ap, roger, federer, advanced, to, the, th, swiss, indoors, final, of, his, career, by, beating, seventhseeded, daniil, medvedev, on, saturday], [seeking, a, ninth, title, at, his, hometown, event, and, a, th, overall, federer, will, play, thranked, marius, copil, on, sunday], [federer, dominated, the, thranked, medvedev, and, had, his, first, matchpoint, chance, to, break, serve, again, at], [he, then, dropped, his, serve, to, love, and, let, another, match, point, slip, in, medvedev, s, next, service, game, by, netting, a, backhand], [he, clinched, on, his, fourth, chance, when, medvedev, netted, from, the, baseline], [copil, upset, expectations, of, a, federer, final, against, alexander, zverev, in, a, win, over, the, fifthranked, german, in, the, earlier, semifinal], [the, romanian, aims, for, a, first, title, after, arriving, at, basel, without, a, career, win, over, a, top, opponent], [copil, has, two, after, also, beating, no], [marin, cilic, in, the, se...  "
      ]
     },
     "execution_count": 68,
     "metadata": {},
     "output_type": "execute_result"
    }
   ],
   "source": [
    "articles = articles[['article_text','SentencesInArticle', 'WordsInSentences']] # selecting only the two cols\n",
    "articles.head(2)"
   ]
  },
  {
   "cell_type": "code",
   "execution_count": 69,
   "metadata": {},
   "outputs": [],
   "source": [
    "VECTOR_SIZE = 50\n",
    "EMPTY_VECTOR = np.zeros(VECTOR_SIZE)\n",
    "\n",
    "def sentence_vector(sentence):\n",
    "    return sum([glove_vectors.get(word, EMPTY_VECTOR) \n",
    "                  for word in sentence])/len(sentence)\n",
    "\n",
    "def sentences_to_vectors(sentences):\n",
    "    return [sentence_vector(sentence) \n",
    "              for sentence in sentences]"
   ]
  },
  {
   "cell_type": "markdown",
   "metadata": {},
   "source": [
    "## Articles with sentence vectors"
   ]
  },
  {
   "cell_type": "code",
   "execution_count": 70,
   "metadata": {},
   "outputs": [],
   "source": [
    "articles['SentenceVector'] =  articles.WordsInSentences.apply(sentences_to_vectors)"
   ]
  },
  {
   "cell_type": "code",
   "execution_count": 71,
   "metadata": {},
   "outputs": [
    {
     "data": {
      "text/html": [
       "<div>\n",
       "<style scoped>\n",
       "    .dataframe tbody tr th:only-of-type {\n",
       "        vertical-align: middle;\n",
       "    }\n",
       "\n",
       "    .dataframe tbody tr th {\n",
       "        vertical-align: top;\n",
       "    }\n",
       "\n",
       "    .dataframe thead th {\n",
       "        text-align: right;\n",
       "    }\n",
       "</style>\n",
       "<table border=\"1\" class=\"dataframe\">\n",
       "  <thead>\n",
       "    <tr style=\"text-align: right;\">\n",
       "      <th></th>\n",
       "      <th>article_text</th>\n",
       "      <th>SentencesInArticle</th>\n",
       "      <th>WordsInSentences</th>\n",
       "      <th>SentenceVector</th>\n",
       "    </tr>\n",
       "  </thead>\n",
       "  <tbody>\n",
       "    <tr>\n",
       "      <th>0</th>\n",
       "      <td>Maria Sharapova has basically no friends as tennis players on the WTA Tour. The Russian player has no problems in openly speaking about it and in a recent interview she said: 'I don't really hide any feelings too much. I think everyone knows this is my job here. When I'm on the courts or when I'm on the court playing, I'm a competitor and I want to beat every single person whether they're in the locker room or across the net.So I'm not the one to strike up a conversation about the weather and know that in the next few minutes I have to go and try to win a tennis match. I'm a pretty competitive girl. I say my hellos, but I'm not sending any players flowers as well. Uhm, I'm not really friendly or close to many players. I have not a lot of friends away from the courts.' When she said she is not really close to a lot of players, is that something strategic that she is doing? Is it different on the men's tour than the women's tour? 'No, not at all. I think just because you're in the sa...</td>\n",
       "      <td>[Maria Sharapova has basically no friends as tennis players on the WTA Tour., The Russian player has no problems in openly speaking about it and in a recent interview she said: 'I don't really hide any feelings too much., I think everyone knows this is my job here., When I'm on the courts or when I'm on the court playing, I'm a competitor and I want to beat every single person whether they're in the locker room or across the net.So I'm not the one to strike up a conversation about the weather and know that in the next few minutes I have to go and try to win a tennis match., I'm a pretty competitive girl., I say my hellos, but I'm not sending any players flowers as well., Uhm, I'm not really friendly or close to many players., I have not a lot of friends away from the courts.', When she said she is not really close to a lot of players, is that something strategic that she is doing?, Is it different on the men's tour than the women's tour?, 'No, not at all., I think just because you'...</td>\n",
       "      <td>[[maria, sharapova, has, basically, no, friends, as, tennis, players, on, the, wta, tour], [the, russian, player, has, no, problems, in, openly, speaking, about, it, and, in, a, recent, interview, she, said, i, do, not, really, hide, any, feelings, too, much], [i, think, everyone, knows, this, is, my, job, here], [when, i, am, on, the, courts, or, when, i, am, on, the, court, playing, i, am, a, competitor, and, i, want, to, beat, every, single, person, whether, they, are, in, the, locker, room, or, across, the, netso, i, am, not, the, one, to, strike, up, a, conversation, about, the, weather, and, know, that, in, the, next, few, minutes, i, have, to, go, and, try, to, win, a, tennis, match], [i, am, a, pretty, competitive, girl], [i, say, my, hellos, but, i, am, not, sending, any, players, flowers, as, well], [uhm, i, am, not, really, friendly, or, close, to, many, players], [i, have, not, a, lot, of, friends, away, from, the, courts], [when, she, said, she, is, not, really, close,...</td>\n",
       "      <td>[[0.07161230769230773, 0.5263353076923079, -0.22625407692307692, 0.4190584615384615, -0.0952153076923077, -0.10156600000000002, -0.40362538461538466, 0.400633476923077, -0.35831371000000006, -0.11500546153846154, 0.11607930769230769, -0.146259, -0.6847891923076924, 0.014327538461538456, 0.783284653846154, 0.046932615384615385, -0.10918245384615388, 0.054596461538461545, -0.29416438461538463, -0.1929796923076923, -0.2468181230769231, 0.3106658461538461, 0.011112153846153848, 0.30192715384615376, 0.12148384615384614, -1.328529230769231, -0.2920881538461539, -0.07721707692307692, -0.3258306923076923, -0.36910523076923074, 2.7283676923076925, 0.24652538461538465, -0.041018076923076914, 0.07203453846153846, 0.022849225384615382, -0.01111693076923078, 0.2808099230769231, 0.4716086153846154, -0.020941546153846143, -0.6126247692307694, -0.007031076923076909, -0.08967269230769231, 0.18087161538461535, 0.06510876923076923, 0.1128052307692308, -0.027662769230769227, -0.06883483846153847, -0.3...</td>\n",
       "    </tr>\n",
       "    <tr>\n",
       "      <th>1</th>\n",
       "      <td>BASEL, Switzerland (AP), Roger Federer advanced to the 14th Swiss Indoors final of his career by beating seventh-seeded Daniil Medvedev 6-1, 6-4 on Saturday. Seeking a ninth title at his hometown event, and a 99th overall, Federer will play 93th-ranked Marius Copil on Sunday. Federer dominated the 20th-ranked Medvedev and had his first match-point chance to break serve again at 5-1. He then dropped his serve to love, and let another match point slip in Medvedev's next service game by netting a backhand. He clinched on his fourth chance when Medvedev netted from the baseline. Copil upset expectations of a Federer final against Alexander Zverev in a 6-3, 6-7 (6), 6-4 win over the fifth-ranked German in the earlier semifinal. The Romanian aims for a first title after arriving at Basel without a career win over a top-10 opponent. Copil has two after also beating No. 6 Marin Cilic in the second round. Copil fired 26 aces past Zverev and never dropped serve, clinching after 2 1/2 hours w...</td>\n",
       "      <td>[BASEL, Switzerland (AP), Roger Federer advanced to the 14th Swiss Indoors final of his career by beating seventh-seeded Daniil Medvedev 6-1, 6-4 on Saturday., Seeking a ninth title at his hometown event, and a 99th overall, Federer will play 93th-ranked Marius Copil on Sunday., Federer dominated the 20th-ranked Medvedev and had his first match-point chance to break serve again at 5-1., He then dropped his serve to love, and let another match point slip in Medvedev's next service game by netting a backhand., He clinched on his fourth chance when Medvedev netted from the baseline., Copil upset expectations of a Federer final against Alexander Zverev in a 6-3, 6-7 (6), 6-4 win over the fifth-ranked German in the earlier semifinal., The Romanian aims for a first title after arriving at Basel without a career win over a top-10 opponent., Copil has two after also beating No., 6 Marin Cilic in the second round., Copil fired 26 aces past Zverev and never dropped serve, clinching after 2 1...</td>\n",
       "      <td>[[basel, switzerland, ap, roger, federer, advanced, to, the, th, swiss, indoors, final, of, his, career, by, beating, seventhseeded, daniil, medvedev, on, saturday], [seeking, a, ninth, title, at, his, hometown, event, and, a, th, overall, federer, will, play, thranked, marius, copil, on, sunday], [federer, dominated, the, thranked, medvedev, and, had, his, first, matchpoint, chance, to, break, serve, again, at], [he, then, dropped, his, serve, to, love, and, let, another, match, point, slip, in, medvedev, s, next, service, game, by, netting, a, backhand], [he, clinched, on, his, fourth, chance, when, medvedev, netted, from, the, baseline], [copil, upset, expectations, of, a, federer, final, against, alexander, zverev, in, a, win, over, the, fifthranked, german, in, the, earlier, semifinal], [the, romanian, aims, for, a, first, title, after, arriving, at, basel, without, a, career, win, over, a, top, opponent], [copil, has, two, after, also, beating, no], [marin, cilic, in, the, se...</td>\n",
       "      <td>[[-0.04118086363636363, 0.3783945909090909, -0.09865840909090907, 0.2834696363636364, 0.016647883181818177, -0.08658890909090906, -0.23910705000000004, 0.3978880909090909, -0.4083776922727273, -0.0862470909090909, 0.1902452272727273, -0.2986129545454545, -0.6385927272727273, -0.031250136363636376, 0.5444554772727271, -0.1095599090909091, -0.13976365909090907, -0.4376720772727273, -0.6052627727272726, 0.11610288409090913, -0.00404738636363637, -0.022918954545454527, -0.04588368181818183, -0.01739659090909088, -0.029735613636363633, -1.1522947090909093, 0.07495704545454546, -0.22785550000000002, -0.23360109090909092, -0.08926977272727274, 2.1310990909090908, 0.1533223181818182, -0.07642998636363636, 4.954545454545331e-05, -0.12957568500000002, -0.09078812272727271, 0.23761849999999998, 0.5697758181818182, 0.022155650000000006, -0.1867798181818182, 0.2605305909090909, -0.06329845454545456, 0.2951025909090909, -0.1664764681818182, 0.15181086363636365, 0.1326979090909091, -0.01367409545...</td>\n",
       "    </tr>\n",
       "    <tr>\n",
       "      <th>2</th>\n",
       "      <td>Roger Federer has revealed that organisers of the re-launched and condensed Davis Cup gave him three days to decide if he would commit to the controversial competition. Speaking at the Swiss Indoors tournament where he will play in Sundays final against Romanian qualifier Marius Copil, the world number three said that given the impossibly short time frame to make a decision, he opted out of any commitment. \"They only left me three days to decide\", Federer said. \"I didn't to have time to consult with all the people I had to consult. \"I could not make a decision in that time, so I told them to do what they wanted.\" The 20-time Grand Slam champion has voiced doubts about the wisdom of the one-week format to be introduced by organisers Kosmos, who have promised the International Tennis Federation up to $3 billion in prize money over the next quarter-century. The competition is set to feature 18 countries in the November 18-24 finals in Madrid next year, and will replace the classic hom...</td>\n",
       "      <td>[Roger Federer has revealed that organisers of the re-launched and condensed Davis Cup gave him three days to decide if he would commit to the controversial competition., Speaking at the Swiss Indoors tournament where he will play in Sundays final against Romanian qualifier Marius Copil, the world number three said that given the impossibly short time frame to make a decision, he opted out of any commitment., \"They only left me three days to decide\", Federer said., \"I didn't to have time to consult with all the people I had to consult., \"I could not make a decision in that time, so I told them to do what they wanted.\", The 20-time Grand Slam champion has voiced doubts about the wisdom of the one-week format to be introduced by organisers Kosmos, who have promised the International Tennis Federation up to $3 billion in prize money over the next quarter-century., The competition is set to feature 18 countries in the November 18-24 finals in Madrid next year, and will replace the clas...</td>\n",
       "      <td>[[roger, federer, has, revealed, that, organisers, of, the, relaunched, and, condensed, davis, cup, gave, him, three, days, to, decide, if, he, would, commit, to, the, controversial, competition], [speaking, at, the, swiss, indoors, tournament, where, he, will, play, in, sundays, final, against, romanian, qualifier, marius, copil, the, world, number, three, said, that, given, the, impossibly, short, time, frame, to, make, a, decision, he, opted, out, of, any, commitment], [``, they, only, left, me, three, days, to, decide, federer, said], [``, i, did, not, to, have, time, to, consult, with, all, the, people, i, had, to, consult], [``, i, could, not, make, a, decision, in, that, time, so, i, told, them, to, do, what, they, wanted], [the, time, grand, slam, champion, has, voiced, doubts, about, the, wisdom, of, the, oneweek, format, to, be, introduced, by, organisers, kosmos, who, have, promised, the, international, tennis, federation, up, to, billion, in, prize, money, over, the, ne...</td>\n",
       "      <td>[[0.25328906296296294, 0.12198537037037037, -0.11345479181481483, 0.1446348814814815, 0.1525931851851852, 0.16861987777777784, -0.38139322592592595, 0.2617922222222222, -0.23743694296296297, -0.03473777777777776, 0.035870111111111116, 0.12096629629629627, -0.6220851851851853, -0.0933997037037037, 0.7065455925925925, 0.143282037037037, 0.12736662962962964, -0.19685677777777782, -0.4711523333333333, -0.31522065185185183, 0.1199826296296296, 0.054465311111111095, 0.31118688888888885, -0.10871659259259264, 0.014215555555555558, -1.5483337037037042, -0.10728948148148147, -0.04703542592592592, -0.1138865925925926, -0.21412614814814818, 2.7733540740740743, 0.15372562962962966, -0.41941892592592583, -0.25126889407407405, 0.026628517037037034, -0.11579138518518517, 0.22920711111111114, 0.3417279444444446, -0.09856985555555556, -0.39040711111111115, -0.08489601111111111, -0.02059985185185185, -0.0706187777777778, 0.04860455555555556, -0.06971725925925926, 0.09703904074074075, -0.217581044444...</td>\n",
       "    </tr>\n",
       "    <tr>\n",
       "      <th>3</th>\n",
       "      <td>Kei Nishikori will try to end his long losing streak in ATP finals and Kevin Anderson will go for his second title of the year at the Erste Bank Open on Sunday. The fifth-seeded Nishikori reached his third final of 2018 after beating Mikhail Kukushkin of Kazakhstan 6-4, 6-3 in the semifinals. A winner of 11 ATP events, Nishikori hasn't triumphed since winning in Memphis in February 2016. He has lost eight straight finals since. The second-seeded Anderson defeated Fernando Verdasco 6-3, 3-6, 6-4. Anderson has a shot at a fifth career title and second of the year after winning in New York in February. Nishikori leads Anderson 4-2 on career matchups, but the South African won their only previous meeting this year. With a victory on Sunday, Anderson will qualify for the ATP Finals. Currently in ninth place, Nishikori with a win could move to within 125 points of the cut for the eight-man event in London next month. Nishikori held serve throughout against Kukushkin, who came through qua...</td>\n",
       "      <td>[Kei Nishikori will try to end his long losing streak in ATP finals and Kevin Anderson will go for his second title of the year at the Erste Bank Open on Sunday., The fifth-seeded Nishikori reached his third final of 2018 after beating Mikhail Kukushkin of Kazakhstan 6-4, 6-3 in the semifinals., A winner of 11 ATP events, Nishikori hasn't triumphed since winning in Memphis in February 2016., He has lost eight straight finals since., The second-seeded Anderson defeated Fernando Verdasco 6-3, 3-6, 6-4., Anderson has a shot at a fifth career title and second of the year after winning in New York in February., Nishikori leads Anderson 4-2 on career matchups, but the South African won their only previous meeting this year., With a victory on Sunday, Anderson will qualify for the ATP Finals., Currently in ninth place, Nishikori with a win could move to within 125 points of the cut for the eight-man event in London next month., Nishikori held serve throughout against Kukushkin, who came t...</td>\n",
       "      <td>[[kei, nishikori, will, try, to, end, his, long, losing, streak, in, atp, finals, and, kevin, anderson, will, go, for, his, second, title, of, the, year, at, the, erste, bank, open, on, sunday], [the, fifthseeded, nishikori, reached, his, third, final, of, after, beating, mikhail, kukushkin, of, kazakhstan, in, the, semifinals], [a, winner, of, atp, events, nishikori, has, not, triumphed, since, winning, in, memphis, in, february], [he, has, lost, eight, straight, finals, since], [the, secondseeded, anderson, defeated, fernando, verdasco], [anderson, has, a, shot, at, a, fifth, career, title, and, second, of, the, year, after, winning, in, new, york, in, february], [nishikori, leads, anderson, on, career, matchups, but, the, south, african, won, their, only, previous, meeting, this, year], [with, a, victory, on, sunday, anderson, will, qualify, for, the, atp, finals], [currently, in, ninth, place, nishikori, with, a, win, could, move, to, within, points, of, the, cut, for, the, eig...</td>\n",
       "      <td>[[-0.07639146874999997, 0.3170033437499999, -0.05655231249999998, 0.33123381250000006, 0.11854274999999999, -0.04550446874999999, -0.41850468749999997, 0.2692358625, -0.25405875718750004, -0.10351577749999999, 0.03690078124999999, -0.08491131562500001, -0.7030106250000001, 0.0020322187500000045, 0.4821976250000001, 0.15320184375, 0.038407875000000015, -0.26271625000000004, -0.6549773749999999, -0.08030978124999998, 0.05498265625000004, 0.035396353125, 0.010837625000000024, -0.04316790625000001, -0.06018543750000003, -1.4377952499999995, 0.05665375, -0.14137571874999993, -0.10342975000000001, -0.27637156250000006, 2.944246562499999, 0.3364460625, -0.16078259374999998, 0.04588156249999999, 0.12576624250000004, -0.1341709625, 0.17272203125000005, 0.2543388749999999, 0.10677622156249998, -0.45882850000000003, -0.2480130625, -0.054150100000000014, 0.0020541562499999944, -0.07792875625, -0.07798153124999999, 0.08807103125, 0.05978199375, -0.27529034375000005, 0.019644781249999993, -0.121...</td>\n",
       "    </tr>\n",
       "    <tr>\n",
       "      <th>4</th>\n",
       "      <td>Federer, 37, first broke through on tour over two decades ago and he has since gone on to enjoy a glittering career. The 20-time Grand Slam winner is chasing his 99th ATP title at the Swiss Indoors this week and he faces Jan-Lennard Struff in the second round on Thursday (6pm BST). Davenport enjoyed most of her success in the late 1990s and her third and final major tournament win came at the 2000 Australian Open. But she claims the mentality of professional tennis players slowly began to change after the new millennium. \"It seems pretty friendly right now,\" said Davenport. \"I think there is a really nice environment and a great atmosphere, especially between some of the veteran players helping some of the younger players out. \"It's a very pleasant atmosphere, I'd have to say, around the locker rooms. \"I felt like the best weeks that I had to get to know players when I was playing were the Fed Cup weeks or the Olympic weeks, not necessarily during the tournaments. \"And even though ...</td>\n",
       "      <td>[Federer, 37, first broke through on tour over two decades ago and he has since gone on to enjoy a glittering career., The 20-time Grand Slam winner is chasing his 99th ATP title at the Swiss Indoors this week and he faces Jan-Lennard Struff in the second round on Thursday (6pm BST)., Davenport enjoyed most of her success in the late 1990s and her third and final major tournament win came at the 2000 Australian Open., But she claims the mentality of professional tennis players slowly began to change after the new millennium., \"It seems pretty friendly right now,\" said Davenport., \"I think there is a really nice environment and a great atmosphere, especially between some of the veteran players helping some of the younger players out., \"It's a very pleasant atmosphere, I'd have to say, around the locker rooms., \"I felt like the best weeks that I had to get to know players when I was playing were the Fed Cup weeks or the Olympic weeks, not necessarily during the tournaments., \"And eve...</td>\n",
       "      <td>[[federer, first, broke, through, on, tour, over, two, decades, ago, and, he, has, since, gone, on, to, enjoy, a, glittering, career], [the, time, grand, slam, winner, is, chasing, his, th, atp, title, at, the, swiss, indoors, this, week, and, he, faces, janlennard, struff, in, the, second, round, on, thursday, pm, bst], [davenport, enjoyed, most, of, her, success, in, the, late, s, and, her, third, and, final, major, tournament, win, came, at, the, australian, open], [but, she, claims, the, mentality, of, professional, tennis, players, slowly, began, to, change, after, the, new, millennium], [``, it, seems, pretty, friendly, right, now, said, davenport], [``, i, think, there, is, a, really, nice, environment, and, a, great, atmosphere, especially, between, some, of, the, veteran, players, helping, some, of, the, younger, players, out], [``, it, s, a, very, pleasant, atmosphere, i, would, have, to, say, around, the, locker, rooms], [``, i, felt, like, the, best, weeks, that, i, had...</td>\n",
       "      <td>[[0.08898900000000001, 0.26611004761904766, -0.192052, 0.06671333333333333, 0.028799476190476233, 0.09485580952380952, -0.7151614285714287, 0.18457328571428572, -0.19910014285714284, -0.0065385238095237675, -0.0994645904761905, -0.25375309523809514, -0.6728928571428572, 0.07200021428571428, 0.5973166666666666, -0.07204279047619051, -0.084204, -0.14471214285714284, -0.630137619047619, -0.12544587142857144, 0.11530611428571426, 0.2953277142857143, 0.12353749047619043, -0.15412176190476187, 0.03485861904761905, -1.515292, -0.056055095238095216, 0.032189685714285717, 0.09830066666666666, -0.1126077142857143, 3.173791904761904, 0.2494000952380952, -0.12230876190476193, -0.060254952380952354, 0.0332806, 0.06226409523809525, -0.017406476190476177, 0.43230761904761905, -0.13516719047619047, -0.27663478095238103, -0.3494240952380953, 0.0450542619047619, -0.06251766666666667, 0.05574223809523809, -0.17952464285714287, 0.029179333333333328, -0.09026942857142857, -0.3474336666666667, -0.323819...</td>\n",
       "    </tr>\n",
       "  </tbody>\n",
       "</table>\n",
       "</div>"
      ],
      "text/plain": [
       "                                                                                                                                                                                                                                                                                                                                                                                                                                                                                                                                                                                                                                                                                                                                                                                                                                                                                                                                                                                                                              article_text  \\\n",
       "0  Maria Sharapova has basically no friends as tennis players on the WTA Tour. The Russian player has no problems in openly speaking about it and in a recent interview she said: 'I don't really hide any feelings too much. I think everyone knows this is my job here. When I'm on the courts or when I'm on the court playing, I'm a competitor and I want to beat every single person whether they're in the locker room or across the net.So I'm not the one to strike up a conversation about the weather and know that in the next few minutes I have to go and try to win a tennis match. I'm a pretty competitive girl. I say my hellos, but I'm not sending any players flowers as well. Uhm, I'm not really friendly or close to many players. I have not a lot of friends away from the courts.' When she said she is not really close to a lot of players, is that something strategic that she is doing? Is it different on the men's tour than the women's tour? 'No, not at all. I think just because you're in the sa...   \n",
       "1  BASEL, Switzerland (AP), Roger Federer advanced to the 14th Swiss Indoors final of his career by beating seventh-seeded Daniil Medvedev 6-1, 6-4 on Saturday. Seeking a ninth title at his hometown event, and a 99th overall, Federer will play 93th-ranked Marius Copil on Sunday. Federer dominated the 20th-ranked Medvedev and had his first match-point chance to break serve again at 5-1. He then dropped his serve to love, and let another match point slip in Medvedev's next service game by netting a backhand. He clinched on his fourth chance when Medvedev netted from the baseline. Copil upset expectations of a Federer final against Alexander Zverev in a 6-3, 6-7 (6), 6-4 win over the fifth-ranked German in the earlier semifinal. The Romanian aims for a first title after arriving at Basel without a career win over a top-10 opponent. Copil has two after also beating No. 6 Marin Cilic in the second round. Copil fired 26 aces past Zverev and never dropped serve, clinching after 2 1/2 hours w...   \n",
       "2  Roger Federer has revealed that organisers of the re-launched and condensed Davis Cup gave him three days to decide if he would commit to the controversial competition. Speaking at the Swiss Indoors tournament where he will play in Sundays final against Romanian qualifier Marius Copil, the world number three said that given the impossibly short time frame to make a decision, he opted out of any commitment. \"They only left me three days to decide\", Federer said. \"I didn't to have time to consult with all the people I had to consult. \"I could not make a decision in that time, so I told them to do what they wanted.\" The 20-time Grand Slam champion has voiced doubts about the wisdom of the one-week format to be introduced by organisers Kosmos, who have promised the International Tennis Federation up to $3 billion in prize money over the next quarter-century. The competition is set to feature 18 countries in the November 18-24 finals in Madrid next year, and will replace the classic hom...   \n",
       "3  Kei Nishikori will try to end his long losing streak in ATP finals and Kevin Anderson will go for his second title of the year at the Erste Bank Open on Sunday. The fifth-seeded Nishikori reached his third final of 2018 after beating Mikhail Kukushkin of Kazakhstan 6-4, 6-3 in the semifinals. A winner of 11 ATP events, Nishikori hasn't triumphed since winning in Memphis in February 2016. He has lost eight straight finals since. The second-seeded Anderson defeated Fernando Verdasco 6-3, 3-6, 6-4. Anderson has a shot at a fifth career title and second of the year after winning in New York in February. Nishikori leads Anderson 4-2 on career matchups, but the South African won their only previous meeting this year. With a victory on Sunday, Anderson will qualify for the ATP Finals. Currently in ninth place, Nishikori with a win could move to within 125 points of the cut for the eight-man event in London next month. Nishikori held serve throughout against Kukushkin, who came through qua...   \n",
       "4  Federer, 37, first broke through on tour over two decades ago and he has since gone on to enjoy a glittering career. The 20-time Grand Slam winner is chasing his 99th ATP title at the Swiss Indoors this week and he faces Jan-Lennard Struff in the second round on Thursday (6pm BST). Davenport enjoyed most of her success in the late 1990s and her third and final major tournament win came at the 2000 Australian Open. But she claims the mentality of professional tennis players slowly began to change after the new millennium. \"It seems pretty friendly right now,\" said Davenport. \"I think there is a really nice environment and a great atmosphere, especially between some of the veteran players helping some of the younger players out. \"It's a very pleasant atmosphere, I'd have to say, around the locker rooms. \"I felt like the best weeks that I had to get to know players when I was playing were the Fed Cup weeks or the Olympic weeks, not necessarily during the tournaments. \"And even though ...   \n",
       "\n",
       "                                                                                                                                                                                                                                                                                                                                                                                                                                                                                                                                                                                                                                                                                                                                                                                                                                                                                                                                                                                                                        SentencesInArticle  \\\n",
       "0  [Maria Sharapova has basically no friends as tennis players on the WTA Tour., The Russian player has no problems in openly speaking about it and in a recent interview she said: 'I don't really hide any feelings too much., I think everyone knows this is my job here., When I'm on the courts or when I'm on the court playing, I'm a competitor and I want to beat every single person whether they're in the locker room or across the net.So I'm not the one to strike up a conversation about the weather and know that in the next few minutes I have to go and try to win a tennis match., I'm a pretty competitive girl., I say my hellos, but I'm not sending any players flowers as well., Uhm, I'm not really friendly or close to many players., I have not a lot of friends away from the courts.', When she said she is not really close to a lot of players, is that something strategic that she is doing?, Is it different on the men's tour than the women's tour?, 'No, not at all., I think just because you'...   \n",
       "1  [BASEL, Switzerland (AP), Roger Federer advanced to the 14th Swiss Indoors final of his career by beating seventh-seeded Daniil Medvedev 6-1, 6-4 on Saturday., Seeking a ninth title at his hometown event, and a 99th overall, Federer will play 93th-ranked Marius Copil on Sunday., Federer dominated the 20th-ranked Medvedev and had his first match-point chance to break serve again at 5-1., He then dropped his serve to love, and let another match point slip in Medvedev's next service game by netting a backhand., He clinched on his fourth chance when Medvedev netted from the baseline., Copil upset expectations of a Federer final against Alexander Zverev in a 6-3, 6-7 (6), 6-4 win over the fifth-ranked German in the earlier semifinal., The Romanian aims for a first title after arriving at Basel without a career win over a top-10 opponent., Copil has two after also beating No., 6 Marin Cilic in the second round., Copil fired 26 aces past Zverev and never dropped serve, clinching after 2 1...   \n",
       "2  [Roger Federer has revealed that organisers of the re-launched and condensed Davis Cup gave him three days to decide if he would commit to the controversial competition., Speaking at the Swiss Indoors tournament where he will play in Sundays final against Romanian qualifier Marius Copil, the world number three said that given the impossibly short time frame to make a decision, he opted out of any commitment., \"They only left me three days to decide\", Federer said., \"I didn't to have time to consult with all the people I had to consult., \"I could not make a decision in that time, so I told them to do what they wanted.\", The 20-time Grand Slam champion has voiced doubts about the wisdom of the one-week format to be introduced by organisers Kosmos, who have promised the International Tennis Federation up to $3 billion in prize money over the next quarter-century., The competition is set to feature 18 countries in the November 18-24 finals in Madrid next year, and will replace the clas...   \n",
       "3  [Kei Nishikori will try to end his long losing streak in ATP finals and Kevin Anderson will go for his second title of the year at the Erste Bank Open on Sunday., The fifth-seeded Nishikori reached his third final of 2018 after beating Mikhail Kukushkin of Kazakhstan 6-4, 6-3 in the semifinals., A winner of 11 ATP events, Nishikori hasn't triumphed since winning in Memphis in February 2016., He has lost eight straight finals since., The second-seeded Anderson defeated Fernando Verdasco 6-3, 3-6, 6-4., Anderson has a shot at a fifth career title and second of the year after winning in New York in February., Nishikori leads Anderson 4-2 on career matchups, but the South African won their only previous meeting this year., With a victory on Sunday, Anderson will qualify for the ATP Finals., Currently in ninth place, Nishikori with a win could move to within 125 points of the cut for the eight-man event in London next month., Nishikori held serve throughout against Kukushkin, who came t...   \n",
       "4  [Federer, 37, first broke through on tour over two decades ago and he has since gone on to enjoy a glittering career., The 20-time Grand Slam winner is chasing his 99th ATP title at the Swiss Indoors this week and he faces Jan-Lennard Struff in the second round on Thursday (6pm BST)., Davenport enjoyed most of her success in the late 1990s and her third and final major tournament win came at the 2000 Australian Open., But she claims the mentality of professional tennis players slowly began to change after the new millennium., \"It seems pretty friendly right now,\" said Davenport., \"I think there is a really nice environment and a great atmosphere, especially between some of the veteran players helping some of the younger players out., \"It's a very pleasant atmosphere, I'd have to say, around the locker rooms., \"I felt like the best weeks that I had to get to know players when I was playing were the Fed Cup weeks or the Olympic weeks, not necessarily during the tournaments., \"And eve...   \n",
       "\n",
       "                                                                                                                                                                                                                                                                                                                                                                                                                                                                                                                                                                                                                                                                                                                                                                                                                                                                                                                                                                                                                          WordsInSentences  \\\n",
       "0  [[maria, sharapova, has, basically, no, friends, as, tennis, players, on, the, wta, tour], [the, russian, player, has, no, problems, in, openly, speaking, about, it, and, in, a, recent, interview, she, said, i, do, not, really, hide, any, feelings, too, much], [i, think, everyone, knows, this, is, my, job, here], [when, i, am, on, the, courts, or, when, i, am, on, the, court, playing, i, am, a, competitor, and, i, want, to, beat, every, single, person, whether, they, are, in, the, locker, room, or, across, the, netso, i, am, not, the, one, to, strike, up, a, conversation, about, the, weather, and, know, that, in, the, next, few, minutes, i, have, to, go, and, try, to, win, a, tennis, match], [i, am, a, pretty, competitive, girl], [i, say, my, hellos, but, i, am, not, sending, any, players, flowers, as, well], [uhm, i, am, not, really, friendly, or, close, to, many, players], [i, have, not, a, lot, of, friends, away, from, the, courts], [when, she, said, she, is, not, really, close,...   \n",
       "1  [[basel, switzerland, ap, roger, federer, advanced, to, the, th, swiss, indoors, final, of, his, career, by, beating, seventhseeded, daniil, medvedev, on, saturday], [seeking, a, ninth, title, at, his, hometown, event, and, a, th, overall, federer, will, play, thranked, marius, copil, on, sunday], [federer, dominated, the, thranked, medvedev, and, had, his, first, matchpoint, chance, to, break, serve, again, at], [he, then, dropped, his, serve, to, love, and, let, another, match, point, slip, in, medvedev, s, next, service, game, by, netting, a, backhand], [he, clinched, on, his, fourth, chance, when, medvedev, netted, from, the, baseline], [copil, upset, expectations, of, a, federer, final, against, alexander, zverev, in, a, win, over, the, fifthranked, german, in, the, earlier, semifinal], [the, romanian, aims, for, a, first, title, after, arriving, at, basel, without, a, career, win, over, a, top, opponent], [copil, has, two, after, also, beating, no], [marin, cilic, in, the, se...   \n",
       "2  [[roger, federer, has, revealed, that, organisers, of, the, relaunched, and, condensed, davis, cup, gave, him, three, days, to, decide, if, he, would, commit, to, the, controversial, competition], [speaking, at, the, swiss, indoors, tournament, where, he, will, play, in, sundays, final, against, romanian, qualifier, marius, copil, the, world, number, three, said, that, given, the, impossibly, short, time, frame, to, make, a, decision, he, opted, out, of, any, commitment], [``, they, only, left, me, three, days, to, decide, federer, said], [``, i, did, not, to, have, time, to, consult, with, all, the, people, i, had, to, consult], [``, i, could, not, make, a, decision, in, that, time, so, i, told, them, to, do, what, they, wanted], [the, time, grand, slam, champion, has, voiced, doubts, about, the, wisdom, of, the, oneweek, format, to, be, introduced, by, organisers, kosmos, who, have, promised, the, international, tennis, federation, up, to, billion, in, prize, money, over, the, ne...   \n",
       "3  [[kei, nishikori, will, try, to, end, his, long, losing, streak, in, atp, finals, and, kevin, anderson, will, go, for, his, second, title, of, the, year, at, the, erste, bank, open, on, sunday], [the, fifthseeded, nishikori, reached, his, third, final, of, after, beating, mikhail, kukushkin, of, kazakhstan, in, the, semifinals], [a, winner, of, atp, events, nishikori, has, not, triumphed, since, winning, in, memphis, in, february], [he, has, lost, eight, straight, finals, since], [the, secondseeded, anderson, defeated, fernando, verdasco], [anderson, has, a, shot, at, a, fifth, career, title, and, second, of, the, year, after, winning, in, new, york, in, february], [nishikori, leads, anderson, on, career, matchups, but, the, south, african, won, their, only, previous, meeting, this, year], [with, a, victory, on, sunday, anderson, will, qualify, for, the, atp, finals], [currently, in, ninth, place, nishikori, with, a, win, could, move, to, within, points, of, the, cut, for, the, eig...   \n",
       "4  [[federer, first, broke, through, on, tour, over, two, decades, ago, and, he, has, since, gone, on, to, enjoy, a, glittering, career], [the, time, grand, slam, winner, is, chasing, his, th, atp, title, at, the, swiss, indoors, this, week, and, he, faces, janlennard, struff, in, the, second, round, on, thursday, pm, bst], [davenport, enjoyed, most, of, her, success, in, the, late, s, and, her, third, and, final, major, tournament, win, came, at, the, australian, open], [but, she, claims, the, mentality, of, professional, tennis, players, slowly, began, to, change, after, the, new, millennium], [``, it, seems, pretty, friendly, right, now, said, davenport], [``, i, think, there, is, a, really, nice, environment, and, a, great, atmosphere, especially, between, some, of, the, veteran, players, helping, some, of, the, younger, players, out], [``, it, s, a, very, pleasant, atmosphere, i, would, have, to, say, around, the, locker, rooms], [``, i, felt, like, the, best, weeks, that, i, had...   \n",
       "\n",
       "                                                                                                                                                                                                                                                                                                                                                                                                                                                                                                                                                                                                                                                                                                                                                                                                                                                                                                                                                                                                                            SentenceVector  \n",
       "0  [[0.07161230769230773, 0.5263353076923079, -0.22625407692307692, 0.4190584615384615, -0.0952153076923077, -0.10156600000000002, -0.40362538461538466, 0.400633476923077, -0.35831371000000006, -0.11500546153846154, 0.11607930769230769, -0.146259, -0.6847891923076924, 0.014327538461538456, 0.783284653846154, 0.046932615384615385, -0.10918245384615388, 0.054596461538461545, -0.29416438461538463, -0.1929796923076923, -0.2468181230769231, 0.3106658461538461, 0.011112153846153848, 0.30192715384615376, 0.12148384615384614, -1.328529230769231, -0.2920881538461539, -0.07721707692307692, -0.3258306923076923, -0.36910523076923074, 2.7283676923076925, 0.24652538461538465, -0.041018076923076914, 0.07203453846153846, 0.022849225384615382, -0.01111693076923078, 0.2808099230769231, 0.4716086153846154, -0.020941546153846143, -0.6126247692307694, -0.007031076923076909, -0.08967269230769231, 0.18087161538461535, 0.06510876923076923, 0.1128052307692308, -0.027662769230769227, -0.06883483846153847, -0.3...  \n",
       "1  [[-0.04118086363636363, 0.3783945909090909, -0.09865840909090907, 0.2834696363636364, 0.016647883181818177, -0.08658890909090906, -0.23910705000000004, 0.3978880909090909, -0.4083776922727273, -0.0862470909090909, 0.1902452272727273, -0.2986129545454545, -0.6385927272727273, -0.031250136363636376, 0.5444554772727271, -0.1095599090909091, -0.13976365909090907, -0.4376720772727273, -0.6052627727272726, 0.11610288409090913, -0.00404738636363637, -0.022918954545454527, -0.04588368181818183, -0.01739659090909088, -0.029735613636363633, -1.1522947090909093, 0.07495704545454546, -0.22785550000000002, -0.23360109090909092, -0.08926977272727274, 2.1310990909090908, 0.1533223181818182, -0.07642998636363636, 4.954545454545331e-05, -0.12957568500000002, -0.09078812272727271, 0.23761849999999998, 0.5697758181818182, 0.022155650000000006, -0.1867798181818182, 0.2605305909090909, -0.06329845454545456, 0.2951025909090909, -0.1664764681818182, 0.15181086363636365, 0.1326979090909091, -0.01367409545...  \n",
       "2  [[0.25328906296296294, 0.12198537037037037, -0.11345479181481483, 0.1446348814814815, 0.1525931851851852, 0.16861987777777784, -0.38139322592592595, 0.2617922222222222, -0.23743694296296297, -0.03473777777777776, 0.035870111111111116, 0.12096629629629627, -0.6220851851851853, -0.0933997037037037, 0.7065455925925925, 0.143282037037037, 0.12736662962962964, -0.19685677777777782, -0.4711523333333333, -0.31522065185185183, 0.1199826296296296, 0.054465311111111095, 0.31118688888888885, -0.10871659259259264, 0.014215555555555558, -1.5483337037037042, -0.10728948148148147, -0.04703542592592592, -0.1138865925925926, -0.21412614814814818, 2.7733540740740743, 0.15372562962962966, -0.41941892592592583, -0.25126889407407405, 0.026628517037037034, -0.11579138518518517, 0.22920711111111114, 0.3417279444444446, -0.09856985555555556, -0.39040711111111115, -0.08489601111111111, -0.02059985185185185, -0.0706187777777778, 0.04860455555555556, -0.06971725925925926, 0.09703904074074075, -0.217581044444...  \n",
       "3  [[-0.07639146874999997, 0.3170033437499999, -0.05655231249999998, 0.33123381250000006, 0.11854274999999999, -0.04550446874999999, -0.41850468749999997, 0.2692358625, -0.25405875718750004, -0.10351577749999999, 0.03690078124999999, -0.08491131562500001, -0.7030106250000001, 0.0020322187500000045, 0.4821976250000001, 0.15320184375, 0.038407875000000015, -0.26271625000000004, -0.6549773749999999, -0.08030978124999998, 0.05498265625000004, 0.035396353125, 0.010837625000000024, -0.04316790625000001, -0.06018543750000003, -1.4377952499999995, 0.05665375, -0.14137571874999993, -0.10342975000000001, -0.27637156250000006, 2.944246562499999, 0.3364460625, -0.16078259374999998, 0.04588156249999999, 0.12576624250000004, -0.1341709625, 0.17272203125000005, 0.2543388749999999, 0.10677622156249998, -0.45882850000000003, -0.2480130625, -0.054150100000000014, 0.0020541562499999944, -0.07792875625, -0.07798153124999999, 0.08807103125, 0.05978199375, -0.27529034375000005, 0.019644781249999993, -0.121...  \n",
       "4  [[0.08898900000000001, 0.26611004761904766, -0.192052, 0.06671333333333333, 0.028799476190476233, 0.09485580952380952, -0.7151614285714287, 0.18457328571428572, -0.19910014285714284, -0.0065385238095237675, -0.0994645904761905, -0.25375309523809514, -0.6728928571428572, 0.07200021428571428, 0.5973166666666666, -0.07204279047619051, -0.084204, -0.14471214285714284, -0.630137619047619, -0.12544587142857144, 0.11530611428571426, 0.2953277142857143, 0.12353749047619043, -0.15412176190476187, 0.03485861904761905, -1.515292, -0.056055095238095216, 0.032189685714285717, 0.09830066666666666, -0.1126077142857143, 3.173791904761904, 0.2494000952380952, -0.12230876190476193, -0.060254952380952354, 0.0332806, 0.06226409523809525, -0.017406476190476177, 0.43230761904761905, -0.13516719047619047, -0.27663478095238103, -0.3494240952380953, 0.0450542619047619, -0.06251766666666667, 0.05574223809523809, -0.17952464285714287, 0.029179333333333328, -0.09026942857142857, -0.3474336666666667, -0.323819...  "
      ]
     },
     "execution_count": 71,
     "metadata": {},
     "output_type": "execute_result"
    }
   ],
   "source": [
    "articles.head()"
   ]
  },
  {
   "cell_type": "code",
   "execution_count": 72,
   "metadata": {},
   "outputs": [],
   "source": [
    "temp = articles.iloc[0][1]"
   ]
  },
  {
   "cell_type": "code",
   "execution_count": 73,
   "metadata": {},
   "outputs": [
    {
     "data": {
      "text/plain": [
       "17"
      ]
     },
     "execution_count": 73,
     "metadata": {},
     "output_type": "execute_result"
    }
   ],
   "source": [
    "len(temp) # it has 17 sentences"
   ]
  },
  {
   "cell_type": "code",
   "execution_count": 74,
   "metadata": {},
   "outputs": [
    {
     "data": {
      "text/plain": [
       "(17,)"
      ]
     },
     "execution_count": 74,
     "metadata": {},
     "output_type": "execute_result"
    }
   ],
   "source": [
    "np.array(temp).shape"
   ]
  },
  {
   "cell_type": "code",
   "execution_count": 75,
   "metadata": {},
   "outputs": [
    {
     "data": {
      "text/plain": [
       "(17,)"
      ]
     },
     "execution_count": 75,
     "metadata": {},
     "output_type": "execute_result"
    }
   ],
   "source": [
    "temp_vectors = articles.iloc[0][2]\n",
    "np.array(temp_vectors).shape \n",
    "# each sentence is represented a vector of size 50"
   ]
  },
  {
   "cell_type": "markdown",
   "metadata": {},
   "source": [
    "Each sentence is represented as a vector, which is average of all the glove vectors of the words present in a sentence. SO, now, each sentence can be represented as a vector of size 50"
   ]
  },
  {
   "cell_type": "code",
   "execution_count": 76,
   "metadata": {},
   "outputs": [],
   "source": [
    "from sklearn.metrics.pairwise import cosine_similarity\n",
    "\n",
    "def similarity_matrix(sentence_vectors):\n",
    "    sim_mat = np.zeros([len(sentence_vectors), len(sentence_vectors)])\n",
    "    for i in range(len(sentence_vectors)):\n",
    "        for j in range(len(sentence_vectors)):\n",
    "            element_i = sentence_vectors[i].reshape(1,VECTOR_SIZE)\n",
    "            element_j = sentence_vectors[j].reshape(1,VECTOR_SIZE)\n",
    "            sim_mat[i][j] = cosine_similarity(element_i,\n",
    "                                              element_j)[0,0]\n",
    "    return sim_mat"
   ]
  },
  {
   "cell_type": "markdown",
   "metadata": {},
   "source": [
    "Similarity matrix, for a sentece vectors of n sentences, is a square matrix of size (n,n), where the cell i,j tells how much similar the sentence i is to sentence j"
   ]
  },
  {
   "cell_type": "code",
   "execution_count": 77,
   "metadata": {},
   "outputs": [],
   "source": [
    "articles['SimMatrix'] = \\\n",
    "     articles.SentenceVector.apply(similarity_matrix)"
   ]
  },
  {
   "cell_type": "code",
   "execution_count": 78,
   "metadata": {},
   "outputs": [],
   "source": [
    "sim_matrix = articles['SimMatrix'][0]"
   ]
  },
  {
   "cell_type": "code",
   "execution_count": 79,
   "metadata": {},
   "outputs": [
    {
     "data": {
      "text/plain": [
       "(17, 17)"
      ]
     },
     "execution_count": 79,
     "metadata": {},
     "output_type": "execute_result"
    }
   ],
   "source": [
    "np.array(sim_matrix).shape"
   ]
  },
  {
   "cell_type": "code",
   "execution_count": 80,
   "metadata": {},
   "outputs": [],
   "source": [
    "import networkx as nx\n",
    "\n",
    "def compute_graph(sim_matrix):\n",
    "    nx_graph = nx.from_numpy_array(sim_matrix)\n",
    "    scores = nx.pagerank(nx_graph)\n",
    "    return scores"
   ]
  },
  {
   "cell_type": "markdown",
   "metadata": {},
   "source": [
    "# Graph"
   ]
  },
  {
   "cell_type": "code",
   "execution_count": 81,
   "metadata": {},
   "outputs": [],
   "source": [
    "articles['Graph'] = articles.SimMatrix.apply(compute_graph)"
   ]
  },
  {
   "cell_type": "code",
   "execution_count": 82,
   "metadata": {},
   "outputs": [
    {
     "data": {
      "text/html": [
       "<div>\n",
       "<style scoped>\n",
       "    .dataframe tbody tr th:only-of-type {\n",
       "        vertical-align: middle;\n",
       "    }\n",
       "\n",
       "    .dataframe tbody tr th {\n",
       "        vertical-align: top;\n",
       "    }\n",
       "\n",
       "    .dataframe thead th {\n",
       "        text-align: right;\n",
       "    }\n",
       "</style>\n",
       "<table border=\"1\" class=\"dataframe\">\n",
       "  <thead>\n",
       "    <tr style=\"text-align: right;\">\n",
       "      <th></th>\n",
       "      <th>article_text</th>\n",
       "      <th>SentencesInArticle</th>\n",
       "      <th>WordsInSentences</th>\n",
       "      <th>SentenceVector</th>\n",
       "      <th>SimMatrix</th>\n",
       "      <th>Graph</th>\n",
       "    </tr>\n",
       "  </thead>\n",
       "  <tbody>\n",
       "    <tr>\n",
       "      <th>0</th>\n",
       "      <td>Maria Sharapova has basically no friends as tennis players on the WTA Tour. The Russian player has no problems in openly speaking about it and in a recent interview she said: 'I don't really hide any feelings too much. I think everyone knows this is my job here. When I'm on the courts or when I'm on the court playing, I'm a competitor and I want to beat every single person whether they're in the locker room or across the net.So I'm not the one to strike up a conversation about the weather and know that in the next few minutes I have to go and try to win a tennis match. I'm a pretty competitive girl. I say my hellos, but I'm not sending any players flowers as well. Uhm, I'm not really friendly or close to many players. I have not a lot of friends away from the courts.' When she said she is not really close to a lot of players, is that something strategic that she is doing? Is it different on the men's tour than the women's tour? 'No, not at all. I think just because you're in the sa...</td>\n",
       "      <td>[Maria Sharapova has basically no friends as tennis players on the WTA Tour., The Russian player has no problems in openly speaking about it and in a recent interview she said: 'I don't really hide any feelings too much., I think everyone knows this is my job here., When I'm on the courts or when I'm on the court playing, I'm a competitor and I want to beat every single person whether they're in the locker room or across the net.So I'm not the one to strike up a conversation about the weather and know that in the next few minutes I have to go and try to win a tennis match., I'm a pretty competitive girl., I say my hellos, but I'm not sending any players flowers as well., Uhm, I'm not really friendly or close to many players., I have not a lot of friends away from the courts.', When she said she is not really close to a lot of players, is that something strategic that she is doing?, Is it different on the men's tour than the women's tour?, 'No, not at all., I think just because you'...</td>\n",
       "      <td>[[maria, sharapova, has, basically, no, friends, as, tennis, players, on, the, wta, tour], [the, russian, player, has, no, problems, in, openly, speaking, about, it, and, in, a, recent, interview, she, said, i, do, not, really, hide, any, feelings, too, much], [i, think, everyone, knows, this, is, my, job, here], [when, i, am, on, the, courts, or, when, i, am, on, the, court, playing, i, am, a, competitor, and, i, want, to, beat, every, single, person, whether, they, are, in, the, locker, room, or, across, the, netso, i, am, not, the, one, to, strike, up, a, conversation, about, the, weather, and, know, that, in, the, next, few, minutes, i, have, to, go, and, try, to, win, a, tennis, match], [i, am, a, pretty, competitive, girl], [i, say, my, hellos, but, i, am, not, sending, any, players, flowers, as, well], [uhm, i, am, not, really, friendly, or, close, to, many, players], [i, have, not, a, lot, of, friends, away, from, the, courts], [when, she, said, she, is, not, really, close,...</td>\n",
       "      <td>[[0.07161230769230773, 0.5263353076923079, -0.22625407692307692, 0.4190584615384615, -0.0952153076923077, -0.10156600000000002, -0.40362538461538466, 0.400633476923077, -0.35831371000000006, -0.11500546153846154, 0.11607930769230769, -0.146259, -0.6847891923076924, 0.014327538461538456, 0.783284653846154, 0.046932615384615385, -0.10918245384615388, 0.054596461538461545, -0.29416438461538463, -0.1929796923076923, -0.2468181230769231, 0.3106658461538461, 0.011112153846153848, 0.30192715384615376, 0.12148384615384614, -1.328529230769231, -0.2920881538461539, -0.07721707692307692, -0.3258306923076923, -0.36910523076923074, 2.7283676923076925, 0.24652538461538465, -0.041018076923076914, 0.07203453846153846, 0.022849225384615382, -0.01111693076923078, 0.2808099230769231, 0.4716086153846154, -0.020941546153846143, -0.6126247692307694, -0.007031076923076909, -0.08967269230769231, 0.18087161538461535, 0.06510876923076923, 0.1128052307692308, -0.027662769230769227, -0.06883483846153847, -0.3...</td>\n",
       "      <td>[[1.0, 0.880420442283511, 0.8400741992486218, 0.9129596149615926, 0.8445816500505545, 0.8497893583785375, 0.8768521662830949, 0.886258925167321, 0.876688184230672, 0.9263429106619361, 0.8600162727238753, 0.88957833049645, 0.8313178033584998, 0.8565959297474461, 0.8824241286286072, 0.8868385761498727, 0.8136190246763892], [0.880420442283511, 1.0000000000000002, 0.9408964676641778, 0.9686965549113968, 0.8942781393973298, 0.9586334393985563, 0.9585076101382632, 0.9730773874995189, 0.987312380978821, 0.9125283526364882, 0.9594498058208407, 0.9640488970318378, 0.9632944418681554, 0.9732690670320119, 0.9616582246780773, 0.974151095849337, 0.9564473923061918], [0.8400741992486218, 0.9408964676641778, 1.0000000000000002, 0.9303313796847564, 0.9448434579223794, 0.9570165239566273, 0.9414391114508265, 0.9183752804522206, 0.9549370028865451, 0.8407753229364421, 0.9105576429589423, 0.9547127695525696, 0.9563604609626245, 0.9106663731073268, 0.9699327533307838, 0.9504200626490287, 0.91175028446...</td>\n",
       "      <td>{0: 0.05554199464753272, 1: 0.05964251627873144, 2: 0.05841053156540537, 3: 0.05969349780006848, 4: 0.05648586101195639, 5: 0.05921860498291677, 6: 0.05938610203482372, 7: 0.05950432590883181, 8: 0.05960892627588667, 9: 0.05691782210622912, 10: 0.059056937650340785, 11: 0.05997064367483894, 12: 0.05923363532028829, 13: 0.05916500837372274, 14: 0.05972978591413795, 15: 0.059770390866579516, 16: 0.05866341558770929}</td>\n",
       "    </tr>\n",
       "    <tr>\n",
       "      <th>1</th>\n",
       "      <td>BASEL, Switzerland (AP), Roger Federer advanced to the 14th Swiss Indoors final of his career by beating seventh-seeded Daniil Medvedev 6-1, 6-4 on Saturday. Seeking a ninth title at his hometown event, and a 99th overall, Federer will play 93th-ranked Marius Copil on Sunday. Federer dominated the 20th-ranked Medvedev and had his first match-point chance to break serve again at 5-1. He then dropped his serve to love, and let another match point slip in Medvedev's next service game by netting a backhand. He clinched on his fourth chance when Medvedev netted from the baseline. Copil upset expectations of a Federer final against Alexander Zverev in a 6-3, 6-7 (6), 6-4 win over the fifth-ranked German in the earlier semifinal. The Romanian aims for a first title after arriving at Basel without a career win over a top-10 opponent. Copil has two after also beating No. 6 Marin Cilic in the second round. Copil fired 26 aces past Zverev and never dropped serve, clinching after 2 1/2 hours w...</td>\n",
       "      <td>[BASEL, Switzerland (AP), Roger Federer advanced to the 14th Swiss Indoors final of his career by beating seventh-seeded Daniil Medvedev 6-1, 6-4 on Saturday., Seeking a ninth title at his hometown event, and a 99th overall, Federer will play 93th-ranked Marius Copil on Sunday., Federer dominated the 20th-ranked Medvedev and had his first match-point chance to break serve again at 5-1., He then dropped his serve to love, and let another match point slip in Medvedev's next service game by netting a backhand., He clinched on his fourth chance when Medvedev netted from the baseline., Copil upset expectations of a Federer final against Alexander Zverev in a 6-3, 6-7 (6), 6-4 win over the fifth-ranked German in the earlier semifinal., The Romanian aims for a first title after arriving at Basel without a career win over a top-10 opponent., Copil has two after also beating No., 6 Marin Cilic in the second round., Copil fired 26 aces past Zverev and never dropped serve, clinching after 2 1...</td>\n",
       "      <td>[[basel, switzerland, ap, roger, federer, advanced, to, the, th, swiss, indoors, final, of, his, career, by, beating, seventhseeded, daniil, medvedev, on, saturday], [seeking, a, ninth, title, at, his, hometown, event, and, a, th, overall, federer, will, play, thranked, marius, copil, on, sunday], [federer, dominated, the, thranked, medvedev, and, had, his, first, matchpoint, chance, to, break, serve, again, at], [he, then, dropped, his, serve, to, love, and, let, another, match, point, slip, in, medvedev, s, next, service, game, by, netting, a, backhand], [he, clinched, on, his, fourth, chance, when, medvedev, netted, from, the, baseline], [copil, upset, expectations, of, a, federer, final, against, alexander, zverev, in, a, win, over, the, fifthranked, german, in, the, earlier, semifinal], [the, romanian, aims, for, a, first, title, after, arriving, at, basel, without, a, career, win, over, a, top, opponent], [copil, has, two, after, also, beating, no], [marin, cilic, in, the, se...</td>\n",
       "      <td>[[-0.04118086363636363, 0.3783945909090909, -0.09865840909090907, 0.2834696363636364, 0.016647883181818177, -0.08658890909090906, -0.23910705000000004, 0.3978880909090909, -0.4083776922727273, -0.0862470909090909, 0.1902452272727273, -0.2986129545454545, -0.6385927272727273, -0.031250136363636376, 0.5444554772727271, -0.1095599090909091, -0.13976365909090907, -0.4376720772727273, -0.6052627727272726, 0.11610288409090913, -0.00404738636363637, -0.022918954545454527, -0.04588368181818183, -0.01739659090909088, -0.029735613636363633, -1.1522947090909093, 0.07495704545454546, -0.22785550000000002, -0.23360109090909092, -0.08926977272727274, 2.1310990909090908, 0.1533223181818182, -0.07642998636363636, 4.954545454545331e-05, -0.12957568500000002, -0.09078812272727271, 0.23761849999999998, 0.5697758181818182, 0.022155650000000006, -0.1867798181818182, 0.2605305909090909, -0.06329845454545456, 0.2951025909090909, -0.1664764681818182, 0.15181086363636365, 0.1326979090909091, -0.01367409545...</td>\n",
       "      <td>[[1.0000000000000002, 0.9391639373355007, 0.9307522110759219, 0.899932755237149, 0.9172938800282447, 0.9626628857481271, 0.934861804332921, 0.8938092579437089, 0.8804549781210645, 0.9216610711649499, 0.9439823399768446, 0.9368768103038478], [0.9391639373355007, 0.9999999999999998, 0.9590753442930997, 0.9545913133228343, 0.9528792368179219, 0.9553589646243109, 0.9689212828797168, 0.9139367907240121, 0.879474718224307, 0.9466865464698169, 0.9505593999176922, 0.9534933423641498], [0.9307522110759219, 0.9590753442930997, 1.0, 0.972182527531525, 0.9721491435562676, 0.9463277226261602, 0.9632049988168381, 0.9278317156075313, 0.8424749724723962, 0.9613402990642099, 0.9559511700041592, 0.971995973737884], [0.899932755237149, 0.9545913133228343, 0.972182527531525, 1.0, 0.9642442760618064, 0.9328682740703543, 0.9597571522743923, 0.9363511660057904, 0.8178646327759684, 0.9608485662217539, 0.9396667766705222, 0.9642596661343519], [0.9172938800282447, 0.9528792368179219, 0.9721491435562676, 0.9...</td>\n",
       "      <td>{0: 0.08280383151040135, 1: 0.08414085724581552, 2: 0.08432108417617107, 3: 0.08368550156985338, 4: 0.08380632661698972, 5: 0.0842106863836852, 6: 0.08423072171092183, 7: 0.08217240634648845, 8: 0.07803272724908605, 9: 0.08402587246443441, 10: 0.08420666324869616, 11: 0.08436332147745673}</td>\n",
       "    </tr>\n",
       "    <tr>\n",
       "      <th>2</th>\n",
       "      <td>Roger Federer has revealed that organisers of the re-launched and condensed Davis Cup gave him three days to decide if he would commit to the controversial competition. Speaking at the Swiss Indoors tournament where he will play in Sundays final against Romanian qualifier Marius Copil, the world number three said that given the impossibly short time frame to make a decision, he opted out of any commitment. \"They only left me three days to decide\", Federer said. \"I didn't to have time to consult with all the people I had to consult. \"I could not make a decision in that time, so I told them to do what they wanted.\" The 20-time Grand Slam champion has voiced doubts about the wisdom of the one-week format to be introduced by organisers Kosmos, who have promised the International Tennis Federation up to $3 billion in prize money over the next quarter-century. The competition is set to feature 18 countries in the November 18-24 finals in Madrid next year, and will replace the classic hom...</td>\n",
       "      <td>[Roger Federer has revealed that organisers of the re-launched and condensed Davis Cup gave him three days to decide if he would commit to the controversial competition., Speaking at the Swiss Indoors tournament where he will play in Sundays final against Romanian qualifier Marius Copil, the world number three said that given the impossibly short time frame to make a decision, he opted out of any commitment., \"They only left me three days to decide\", Federer said., \"I didn't to have time to consult with all the people I had to consult., \"I could not make a decision in that time, so I told them to do what they wanted.\", The 20-time Grand Slam champion has voiced doubts about the wisdom of the one-week format to be introduced by organisers Kosmos, who have promised the International Tennis Federation up to $3 billion in prize money over the next quarter-century., The competition is set to feature 18 countries in the November 18-24 finals in Madrid next year, and will replace the clas...</td>\n",
       "      <td>[[roger, federer, has, revealed, that, organisers, of, the, relaunched, and, condensed, davis, cup, gave, him, three, days, to, decide, if, he, would, commit, to, the, controversial, competition], [speaking, at, the, swiss, indoors, tournament, where, he, will, play, in, sundays, final, against, romanian, qualifier, marius, copil, the, world, number, three, said, that, given, the, impossibly, short, time, frame, to, make, a, decision, he, opted, out, of, any, commitment], [``, they, only, left, me, three, days, to, decide, federer, said], [``, i, did, not, to, have, time, to, consult, with, all, the, people, i, had, to, consult], [``, i, could, not, make, a, decision, in, that, time, so, i, told, them, to, do, what, they, wanted], [the, time, grand, slam, champion, has, voiced, doubts, about, the, wisdom, of, the, oneweek, format, to, be, introduced, by, organisers, kosmos, who, have, promised, the, international, tennis, federation, up, to, billion, in, prize, money, over, the, ne...</td>\n",
       "      <td>[[0.25328906296296294, 0.12198537037037037, -0.11345479181481483, 0.1446348814814815, 0.1525931851851852, 0.16861987777777784, -0.38139322592592595, 0.2617922222222222, -0.23743694296296297, -0.03473777777777776, 0.035870111111111116, 0.12096629629629627, -0.6220851851851853, -0.0933997037037037, 0.7065455925925925, 0.143282037037037, 0.12736662962962964, -0.19685677777777782, -0.4711523333333333, -0.31522065185185183, 0.1199826296296296, 0.054465311111111095, 0.31118688888888885, -0.10871659259259264, 0.014215555555555558, -1.5483337037037042, -0.10728948148148147, -0.04703542592592592, -0.1138865925925926, -0.21412614814814818, 2.7733540740740743, 0.15372562962962966, -0.41941892592592583, -0.25126889407407405, 0.026628517037037034, -0.11579138518518517, 0.22920711111111114, 0.3417279444444446, -0.09856985555555556, -0.39040711111111115, -0.08489601111111111, -0.02059985185185185, -0.0706187777777778, 0.04860455555555556, -0.06971725925925926, 0.09703904074074075, -0.217581044444...</td>\n",
       "      <td>[[1.0, 0.9772061276453379, 0.951790386616839, 0.9448210894496429, 0.9351282498377054, 0.9750612611549272, 0.9539208470148968, 0.9046248674854223, 0.961785232854811, 0.9663365365891443, 0.9738969346985846, 0.9159659578335572, 0.8965611849080808, 0.8871832731065487, 0.9398876346321879, 0.953962386276234, 0.9597398264503099], [0.9772061276453379, 1.0000000000000004, 0.9497427778793324, 0.9384559908111847, 0.9231753532419458, 0.9756371154431448, 0.9700419828070539, 0.9181175871111414, 0.9667316120890909, 0.9811705235874818, 0.9797829230989518, 0.9133950562581032, 0.8879569829263727, 0.877293606352141, 0.9483639708411764, 0.9669197946744467, 0.9515405716808203], [0.951790386616839, 0.9497427778793324, 1.0000000000000002, 0.9702831438353756, 0.970842339602939, 0.916412762938793, 0.8950679501871505, 0.855710885392937, 0.8917756892985307, 0.9444366893056058, 0.9449536509164793, 0.9219111097335502, 0.948968909416335, 0.9339495896540289, 0.8831803301115707, 0.9036583889977594, 0.967776746930...</td>\n",
       "      <td>{0: 0.06008138779368386, 1: 0.06016952925873331, 2: 0.05929462776423261, 3: 0.059250959964249075, 4: 0.05894224152287655, 5: 0.059594063546770375, 6: 0.05872588960926853, 7: 0.055908652941693414, 8: 0.05855726445284261, 9: 0.06002909631638909, 10: 0.05975760331574931, 11: 0.058238693084588504, 12: 0.05746790893179006, 13: 0.05709791262376831, 14: 0.05880455854021845, 15: 0.05831875456401707, 16: 0.059760855769128846}</td>\n",
       "    </tr>\n",
       "    <tr>\n",
       "      <th>3</th>\n",
       "      <td>Kei Nishikori will try to end his long losing streak in ATP finals and Kevin Anderson will go for his second title of the year at the Erste Bank Open on Sunday. The fifth-seeded Nishikori reached his third final of 2018 after beating Mikhail Kukushkin of Kazakhstan 6-4, 6-3 in the semifinals. A winner of 11 ATP events, Nishikori hasn't triumphed since winning in Memphis in February 2016. He has lost eight straight finals since. The second-seeded Anderson defeated Fernando Verdasco 6-3, 3-6, 6-4. Anderson has a shot at a fifth career title and second of the year after winning in New York in February. Nishikori leads Anderson 4-2 on career matchups, but the South African won their only previous meeting this year. With a victory on Sunday, Anderson will qualify for the ATP Finals. Currently in ninth place, Nishikori with a win could move to within 125 points of the cut for the eight-man event in London next month. Nishikori held serve throughout against Kukushkin, who came through qua...</td>\n",
       "      <td>[Kei Nishikori will try to end his long losing streak in ATP finals and Kevin Anderson will go for his second title of the year at the Erste Bank Open on Sunday., The fifth-seeded Nishikori reached his third final of 2018 after beating Mikhail Kukushkin of Kazakhstan 6-4, 6-3 in the semifinals., A winner of 11 ATP events, Nishikori hasn't triumphed since winning in Memphis in February 2016., He has lost eight straight finals since., The second-seeded Anderson defeated Fernando Verdasco 6-3, 3-6, 6-4., Anderson has a shot at a fifth career title and second of the year after winning in New York in February., Nishikori leads Anderson 4-2 on career matchups, but the South African won their only previous meeting this year., With a victory on Sunday, Anderson will qualify for the ATP Finals., Currently in ninth place, Nishikori with a win could move to within 125 points of the cut for the eight-man event in London next month., Nishikori held serve throughout against Kukushkin, who came t...</td>\n",
       "      <td>[[kei, nishikori, will, try, to, end, his, long, losing, streak, in, atp, finals, and, kevin, anderson, will, go, for, his, second, title, of, the, year, at, the, erste, bank, open, on, sunday], [the, fifthseeded, nishikori, reached, his, third, final, of, after, beating, mikhail, kukushkin, of, kazakhstan, in, the, semifinals], [a, winner, of, atp, events, nishikori, has, not, triumphed, since, winning, in, memphis, in, february], [he, has, lost, eight, straight, finals, since], [the, secondseeded, anderson, defeated, fernando, verdasco], [anderson, has, a, shot, at, a, fifth, career, title, and, second, of, the, year, after, winning, in, new, york, in, february], [nishikori, leads, anderson, on, career, matchups, but, the, south, african, won, their, only, previous, meeting, this, year], [with, a, victory, on, sunday, anderson, will, qualify, for, the, atp, finals], [currently, in, ninth, place, nishikori, with, a, win, could, move, to, within, points, of, the, cut, for, the, eig...</td>\n",
       "      <td>[[-0.07639146874999997, 0.3170033437499999, -0.05655231249999998, 0.33123381250000006, 0.11854274999999999, -0.04550446874999999, -0.41850468749999997, 0.2692358625, -0.25405875718750004, -0.10351577749999999, 0.03690078124999999, -0.08491131562500001, -0.7030106250000001, 0.0020322187500000045, 0.4821976250000001, 0.15320184375, 0.038407875000000015, -0.26271625000000004, -0.6549773749999999, -0.08030978124999998, 0.05498265625000004, 0.035396353125, 0.010837625000000024, -0.04316790625000001, -0.06018543750000003, -1.4377952499999995, 0.05665375, -0.14137571874999993, -0.10342975000000001, -0.27637156250000006, 2.944246562499999, 0.3364460625, -0.16078259374999998, 0.04588156249999999, 0.12576624250000004, -0.1341709625, 0.17272203125000005, 0.2543388749999999, 0.10677622156249998, -0.45882850000000003, -0.2480130625, -0.054150100000000014, 0.0020541562499999944, -0.07792875625, -0.07798153124999999, 0.08807103125, 0.05978199375, -0.27529034375000005, 0.019644781249999993, -0.121...</td>\n",
       "      <td>[[0.9999999999999999, 0.9268082423022341, 0.9500899587953415, 0.9517633365226178, 0.7383743292935218, 0.9582269727510496, 0.9677908150487919, 0.9726435835315522, 0.9805214180344, 0.916135322127134, 0.9727739285502532, 0.9420905665125072, 0.9783482595950053], [0.9268082423022341, 1.0, 0.9359895280638497, 0.9238343699826341, 0.7720182239684141, 0.9037056998948562, 0.9060565376698426, 0.9086881754446946, 0.9150137635027646, 0.9424139581774519, 0.9035654239973112, 0.9244354573383684, 0.9146555173852589], [0.9500899587953415, 0.9359895280638497, 1.0, 0.947215435326769, 0.7208234459991583, 0.9556237251359965, 0.9490252115717184, 0.9485280491513068, 0.9471744264733063, 0.8948524955803798, 0.9211798790328556, 0.9127764761254509, 0.9366944690524796], [0.9517633365226178, 0.9238343699826341, 0.947215435326769, 0.9999999999999999, 0.7470258013395212, 0.9401162641728793, 0.9548527413531406, 0.9399709130143058, 0.9328581003661707, 0.9225549258423351, 0.9381192110303656, 0.9446534340858407, 0.93...</td>\n",
       "      <td>{0: 0.07884942459494733, 1: 0.076786240355964, 2: 0.07755623255692082, 3: 0.07790231150789537, 4: 0.06568064676580998, 5: 0.07782711862788344, 6: 0.07819976521864529, 7: 0.07791126434159013, 8: 0.07831878189890612, 9: 0.07613436255899811, 10: 0.07811936865749713, 11: 0.07797299373283016, 12: 0.07874148918211225}</td>\n",
       "    </tr>\n",
       "    <tr>\n",
       "      <th>4</th>\n",
       "      <td>Federer, 37, first broke through on tour over two decades ago and he has since gone on to enjoy a glittering career. The 20-time Grand Slam winner is chasing his 99th ATP title at the Swiss Indoors this week and he faces Jan-Lennard Struff in the second round on Thursday (6pm BST). Davenport enjoyed most of her success in the late 1990s and her third and final major tournament win came at the 2000 Australian Open. But she claims the mentality of professional tennis players slowly began to change after the new millennium. \"It seems pretty friendly right now,\" said Davenport. \"I think there is a really nice environment and a great atmosphere, especially between some of the veteran players helping some of the younger players out. \"It's a very pleasant atmosphere, I'd have to say, around the locker rooms. \"I felt like the best weeks that I had to get to know players when I was playing were the Fed Cup weeks or the Olympic weeks, not necessarily during the tournaments. \"And even though ...</td>\n",
       "      <td>[Federer, 37, first broke through on tour over two decades ago and he has since gone on to enjoy a glittering career., The 20-time Grand Slam winner is chasing his 99th ATP title at the Swiss Indoors this week and he faces Jan-Lennard Struff in the second round on Thursday (6pm BST)., Davenport enjoyed most of her success in the late 1990s and her third and final major tournament win came at the 2000 Australian Open., But she claims the mentality of professional tennis players slowly began to change after the new millennium., \"It seems pretty friendly right now,\" said Davenport., \"I think there is a really nice environment and a great atmosphere, especially between some of the veteran players helping some of the younger players out., \"It's a very pleasant atmosphere, I'd have to say, around the locker rooms., \"I felt like the best weeks that I had to get to know players when I was playing were the Fed Cup weeks or the Olympic weeks, not necessarily during the tournaments., \"And eve...</td>\n",
       "      <td>[[federer, first, broke, through, on, tour, over, two, decades, ago, and, he, has, since, gone, on, to, enjoy, a, glittering, career], [the, time, grand, slam, winner, is, chasing, his, th, atp, title, at, the, swiss, indoors, this, week, and, he, faces, janlennard, struff, in, the, second, round, on, thursday, pm, bst], [davenport, enjoyed, most, of, her, success, in, the, late, s, and, her, third, and, final, major, tournament, win, came, at, the, australian, open], [but, she, claims, the, mentality, of, professional, tennis, players, slowly, began, to, change, after, the, new, millennium], [``, it, seems, pretty, friendly, right, now, said, davenport], [``, i, think, there, is, a, really, nice, environment, and, a, great, atmosphere, especially, between, some, of, the, veteran, players, helping, some, of, the, younger, players, out], [``, it, s, a, very, pleasant, atmosphere, i, would, have, to, say, around, the, locker, rooms], [``, i, felt, like, the, best, weeks, that, i, had...</td>\n",
       "      <td>[[0.08898900000000001, 0.26611004761904766, -0.192052, 0.06671333333333333, 0.028799476190476233, 0.09485580952380952, -0.7151614285714287, 0.18457328571428572, -0.19910014285714284, -0.0065385238095237675, -0.0994645904761905, -0.25375309523809514, -0.6728928571428572, 0.07200021428571428, 0.5973166666666666, -0.07204279047619051, -0.084204, -0.14471214285714284, -0.630137619047619, -0.12544587142857144, 0.11530611428571426, 0.2953277142857143, 0.12353749047619043, -0.15412176190476187, 0.03485861904761905, -1.515292, -0.056055095238095216, 0.032189685714285717, 0.09830066666666666, -0.1126077142857143, 3.173791904761904, 0.2494000952380952, -0.12230876190476193, -0.060254952380952354, 0.0332806, 0.06226409523809525, -0.017406476190476177, 0.43230761904761905, -0.13516719047619047, -0.27663478095238103, -0.3494240952380953, 0.0450542619047619, -0.06251766666666667, 0.05574223809523809, -0.17952464285714287, 0.029179333333333328, -0.09026942857142857, -0.3474336666666667, -0.323819...</td>\n",
       "      <td>[[1.0, 0.9468843115398349, 0.9705168017959297, 0.9641929440649757, 0.8572741636426491, 0.9264909465471118, 0.8980719185670478, 0.9482980647025121, 0.8770048395622202, 0.9447884841718674, 0.9200276542654029, 0.9595743772956162, 0.8605769351513024, 0.895688399095454, 0.9052507304769293, 0.8773269095205117, 0.9024961655974597, 0.9189955410244359], [0.9468843115398349, 0.9999999999999998, 0.9693094316478585, 0.9331341417815475, 0.8175790103192752, 0.8761269630935757, 0.8582689221236641, 0.917611139347192, 0.82081874840584, 0.89064316519317, 0.8641524050342821, 0.952737462094401, 0.8540940549997247, 0.8500680716423413, 0.8547905838584531, 0.82705682935472, 0.873008902490157, 0.911892925776232], [0.9705168017959297, 0.9693094316478585, 1.0, 0.9597463997863577, 0.8531157662280926, 0.9143513617942784, 0.869714255048201, 0.9298578985688654, 0.8495668390370237, 0.9255798424851369, 0.8980565881009153, 0.9647801263026585, 0.8692132277819907, 0.8708320033297279, 0.8837203820825559, 0.8453756571...</td>\n",
       "      <td>{0: 0.05474884008349666, 1: 0.053196838300131825, 2: 0.05420341395849682, 3: 0.05576352182776294, 4: 0.05487434189342311, 5: 0.05632692183918092, 6: 0.055775004398751604, 7: 0.05661708691870228, 8: 0.05578384952914668, 9: 0.0566644616084422, 10: 0.056507976747806866, 11: 0.05567049718230454, 12: 0.05461628803283694, 13: 0.05593824773931598, 14: 0.05630664935545962, 15: 0.05565679732004065, 16: 0.055840596217660424, 17: 0.055508667047040064}</td>\n",
       "    </tr>\n",
       "  </tbody>\n",
       "</table>\n",
       "</div>"
      ],
      "text/plain": [
       "                                                                                                                                                                                                                                                                                                                                                                                                                                                                                                                                                                                                                                                                                                                                                                                                                                                                                                                                                                                                                              article_text  \\\n",
       "0  Maria Sharapova has basically no friends as tennis players on the WTA Tour. The Russian player has no problems in openly speaking about it and in a recent interview she said: 'I don't really hide any feelings too much. I think everyone knows this is my job here. When I'm on the courts or when I'm on the court playing, I'm a competitor and I want to beat every single person whether they're in the locker room or across the net.So I'm not the one to strike up a conversation about the weather and know that in the next few minutes I have to go and try to win a tennis match. I'm a pretty competitive girl. I say my hellos, but I'm not sending any players flowers as well. Uhm, I'm not really friendly or close to many players. I have not a lot of friends away from the courts.' When she said she is not really close to a lot of players, is that something strategic that she is doing? Is it different on the men's tour than the women's tour? 'No, not at all. I think just because you're in the sa...   \n",
       "1  BASEL, Switzerland (AP), Roger Federer advanced to the 14th Swiss Indoors final of his career by beating seventh-seeded Daniil Medvedev 6-1, 6-4 on Saturday. Seeking a ninth title at his hometown event, and a 99th overall, Federer will play 93th-ranked Marius Copil on Sunday. Federer dominated the 20th-ranked Medvedev and had his first match-point chance to break serve again at 5-1. He then dropped his serve to love, and let another match point slip in Medvedev's next service game by netting a backhand. He clinched on his fourth chance when Medvedev netted from the baseline. Copil upset expectations of a Federer final against Alexander Zverev in a 6-3, 6-7 (6), 6-4 win over the fifth-ranked German in the earlier semifinal. The Romanian aims for a first title after arriving at Basel without a career win over a top-10 opponent. Copil has two after also beating No. 6 Marin Cilic in the second round. Copil fired 26 aces past Zverev and never dropped serve, clinching after 2 1/2 hours w...   \n",
       "2  Roger Federer has revealed that organisers of the re-launched and condensed Davis Cup gave him three days to decide if he would commit to the controversial competition. Speaking at the Swiss Indoors tournament where he will play in Sundays final against Romanian qualifier Marius Copil, the world number three said that given the impossibly short time frame to make a decision, he opted out of any commitment. \"They only left me three days to decide\", Federer said. \"I didn't to have time to consult with all the people I had to consult. \"I could not make a decision in that time, so I told them to do what they wanted.\" The 20-time Grand Slam champion has voiced doubts about the wisdom of the one-week format to be introduced by organisers Kosmos, who have promised the International Tennis Federation up to $3 billion in prize money over the next quarter-century. The competition is set to feature 18 countries in the November 18-24 finals in Madrid next year, and will replace the classic hom...   \n",
       "3  Kei Nishikori will try to end his long losing streak in ATP finals and Kevin Anderson will go for his second title of the year at the Erste Bank Open on Sunday. The fifth-seeded Nishikori reached his third final of 2018 after beating Mikhail Kukushkin of Kazakhstan 6-4, 6-3 in the semifinals. A winner of 11 ATP events, Nishikori hasn't triumphed since winning in Memphis in February 2016. He has lost eight straight finals since. The second-seeded Anderson defeated Fernando Verdasco 6-3, 3-6, 6-4. Anderson has a shot at a fifth career title and second of the year after winning in New York in February. Nishikori leads Anderson 4-2 on career matchups, but the South African won their only previous meeting this year. With a victory on Sunday, Anderson will qualify for the ATP Finals. Currently in ninth place, Nishikori with a win could move to within 125 points of the cut for the eight-man event in London next month. Nishikori held serve throughout against Kukushkin, who came through qua...   \n",
       "4  Federer, 37, first broke through on tour over two decades ago and he has since gone on to enjoy a glittering career. The 20-time Grand Slam winner is chasing his 99th ATP title at the Swiss Indoors this week and he faces Jan-Lennard Struff in the second round on Thursday (6pm BST). Davenport enjoyed most of her success in the late 1990s and her third and final major tournament win came at the 2000 Australian Open. But she claims the mentality of professional tennis players slowly began to change after the new millennium. \"It seems pretty friendly right now,\" said Davenport. \"I think there is a really nice environment and a great atmosphere, especially between some of the veteran players helping some of the younger players out. \"It's a very pleasant atmosphere, I'd have to say, around the locker rooms. \"I felt like the best weeks that I had to get to know players when I was playing were the Fed Cup weeks or the Olympic weeks, not necessarily during the tournaments. \"And even though ...   \n",
       "\n",
       "                                                                                                                                                                                                                                                                                                                                                                                                                                                                                                                                                                                                                                                                                                                                                                                                                                                                                                                                                                                                                        SentencesInArticle  \\\n",
       "0  [Maria Sharapova has basically no friends as tennis players on the WTA Tour., The Russian player has no problems in openly speaking about it and in a recent interview she said: 'I don't really hide any feelings too much., I think everyone knows this is my job here., When I'm on the courts or when I'm on the court playing, I'm a competitor and I want to beat every single person whether they're in the locker room or across the net.So I'm not the one to strike up a conversation about the weather and know that in the next few minutes I have to go and try to win a tennis match., I'm a pretty competitive girl., I say my hellos, but I'm not sending any players flowers as well., Uhm, I'm not really friendly or close to many players., I have not a lot of friends away from the courts.', When she said she is not really close to a lot of players, is that something strategic that she is doing?, Is it different on the men's tour than the women's tour?, 'No, not at all., I think just because you'...   \n",
       "1  [BASEL, Switzerland (AP), Roger Federer advanced to the 14th Swiss Indoors final of his career by beating seventh-seeded Daniil Medvedev 6-1, 6-4 on Saturday., Seeking a ninth title at his hometown event, and a 99th overall, Federer will play 93th-ranked Marius Copil on Sunday., Federer dominated the 20th-ranked Medvedev and had his first match-point chance to break serve again at 5-1., He then dropped his serve to love, and let another match point slip in Medvedev's next service game by netting a backhand., He clinched on his fourth chance when Medvedev netted from the baseline., Copil upset expectations of a Federer final against Alexander Zverev in a 6-3, 6-7 (6), 6-4 win over the fifth-ranked German in the earlier semifinal., The Romanian aims for a first title after arriving at Basel without a career win over a top-10 opponent., Copil has two after also beating No., 6 Marin Cilic in the second round., Copil fired 26 aces past Zverev and never dropped serve, clinching after 2 1...   \n",
       "2  [Roger Federer has revealed that organisers of the re-launched and condensed Davis Cup gave him three days to decide if he would commit to the controversial competition., Speaking at the Swiss Indoors tournament where he will play in Sundays final against Romanian qualifier Marius Copil, the world number three said that given the impossibly short time frame to make a decision, he opted out of any commitment., \"They only left me three days to decide\", Federer said., \"I didn't to have time to consult with all the people I had to consult., \"I could not make a decision in that time, so I told them to do what they wanted.\", The 20-time Grand Slam champion has voiced doubts about the wisdom of the one-week format to be introduced by organisers Kosmos, who have promised the International Tennis Federation up to $3 billion in prize money over the next quarter-century., The competition is set to feature 18 countries in the November 18-24 finals in Madrid next year, and will replace the clas...   \n",
       "3  [Kei Nishikori will try to end his long losing streak in ATP finals and Kevin Anderson will go for his second title of the year at the Erste Bank Open on Sunday., The fifth-seeded Nishikori reached his third final of 2018 after beating Mikhail Kukushkin of Kazakhstan 6-4, 6-3 in the semifinals., A winner of 11 ATP events, Nishikori hasn't triumphed since winning in Memphis in February 2016., He has lost eight straight finals since., The second-seeded Anderson defeated Fernando Verdasco 6-3, 3-6, 6-4., Anderson has a shot at a fifth career title and second of the year after winning in New York in February., Nishikori leads Anderson 4-2 on career matchups, but the South African won their only previous meeting this year., With a victory on Sunday, Anderson will qualify for the ATP Finals., Currently in ninth place, Nishikori with a win could move to within 125 points of the cut for the eight-man event in London next month., Nishikori held serve throughout against Kukushkin, who came t...   \n",
       "4  [Federer, 37, first broke through on tour over two decades ago and he has since gone on to enjoy a glittering career., The 20-time Grand Slam winner is chasing his 99th ATP title at the Swiss Indoors this week and he faces Jan-Lennard Struff in the second round on Thursday (6pm BST)., Davenport enjoyed most of her success in the late 1990s and her third and final major tournament win came at the 2000 Australian Open., But she claims the mentality of professional tennis players slowly began to change after the new millennium., \"It seems pretty friendly right now,\" said Davenport., \"I think there is a really nice environment and a great atmosphere, especially between some of the veteran players helping some of the younger players out., \"It's a very pleasant atmosphere, I'd have to say, around the locker rooms., \"I felt like the best weeks that I had to get to know players when I was playing were the Fed Cup weeks or the Olympic weeks, not necessarily during the tournaments., \"And eve...   \n",
       "\n",
       "                                                                                                                                                                                                                                                                                                                                                                                                                                                                                                                                                                                                                                                                                                                                                                                                                                                                                                                                                                                                                          WordsInSentences  \\\n",
       "0  [[maria, sharapova, has, basically, no, friends, as, tennis, players, on, the, wta, tour], [the, russian, player, has, no, problems, in, openly, speaking, about, it, and, in, a, recent, interview, she, said, i, do, not, really, hide, any, feelings, too, much], [i, think, everyone, knows, this, is, my, job, here], [when, i, am, on, the, courts, or, when, i, am, on, the, court, playing, i, am, a, competitor, and, i, want, to, beat, every, single, person, whether, they, are, in, the, locker, room, or, across, the, netso, i, am, not, the, one, to, strike, up, a, conversation, about, the, weather, and, know, that, in, the, next, few, minutes, i, have, to, go, and, try, to, win, a, tennis, match], [i, am, a, pretty, competitive, girl], [i, say, my, hellos, but, i, am, not, sending, any, players, flowers, as, well], [uhm, i, am, not, really, friendly, or, close, to, many, players], [i, have, not, a, lot, of, friends, away, from, the, courts], [when, she, said, she, is, not, really, close,...   \n",
       "1  [[basel, switzerland, ap, roger, federer, advanced, to, the, th, swiss, indoors, final, of, his, career, by, beating, seventhseeded, daniil, medvedev, on, saturday], [seeking, a, ninth, title, at, his, hometown, event, and, a, th, overall, federer, will, play, thranked, marius, copil, on, sunday], [federer, dominated, the, thranked, medvedev, and, had, his, first, matchpoint, chance, to, break, serve, again, at], [he, then, dropped, his, serve, to, love, and, let, another, match, point, slip, in, medvedev, s, next, service, game, by, netting, a, backhand], [he, clinched, on, his, fourth, chance, when, medvedev, netted, from, the, baseline], [copil, upset, expectations, of, a, federer, final, against, alexander, zverev, in, a, win, over, the, fifthranked, german, in, the, earlier, semifinal], [the, romanian, aims, for, a, first, title, after, arriving, at, basel, without, a, career, win, over, a, top, opponent], [copil, has, two, after, also, beating, no], [marin, cilic, in, the, se...   \n",
       "2  [[roger, federer, has, revealed, that, organisers, of, the, relaunched, and, condensed, davis, cup, gave, him, three, days, to, decide, if, he, would, commit, to, the, controversial, competition], [speaking, at, the, swiss, indoors, tournament, where, he, will, play, in, sundays, final, against, romanian, qualifier, marius, copil, the, world, number, three, said, that, given, the, impossibly, short, time, frame, to, make, a, decision, he, opted, out, of, any, commitment], [``, they, only, left, me, three, days, to, decide, federer, said], [``, i, did, not, to, have, time, to, consult, with, all, the, people, i, had, to, consult], [``, i, could, not, make, a, decision, in, that, time, so, i, told, them, to, do, what, they, wanted], [the, time, grand, slam, champion, has, voiced, doubts, about, the, wisdom, of, the, oneweek, format, to, be, introduced, by, organisers, kosmos, who, have, promised, the, international, tennis, federation, up, to, billion, in, prize, money, over, the, ne...   \n",
       "3  [[kei, nishikori, will, try, to, end, his, long, losing, streak, in, atp, finals, and, kevin, anderson, will, go, for, his, second, title, of, the, year, at, the, erste, bank, open, on, sunday], [the, fifthseeded, nishikori, reached, his, third, final, of, after, beating, mikhail, kukushkin, of, kazakhstan, in, the, semifinals], [a, winner, of, atp, events, nishikori, has, not, triumphed, since, winning, in, memphis, in, february], [he, has, lost, eight, straight, finals, since], [the, secondseeded, anderson, defeated, fernando, verdasco], [anderson, has, a, shot, at, a, fifth, career, title, and, second, of, the, year, after, winning, in, new, york, in, february], [nishikori, leads, anderson, on, career, matchups, but, the, south, african, won, their, only, previous, meeting, this, year], [with, a, victory, on, sunday, anderson, will, qualify, for, the, atp, finals], [currently, in, ninth, place, nishikori, with, a, win, could, move, to, within, points, of, the, cut, for, the, eig...   \n",
       "4  [[federer, first, broke, through, on, tour, over, two, decades, ago, and, he, has, since, gone, on, to, enjoy, a, glittering, career], [the, time, grand, slam, winner, is, chasing, his, th, atp, title, at, the, swiss, indoors, this, week, and, he, faces, janlennard, struff, in, the, second, round, on, thursday, pm, bst], [davenport, enjoyed, most, of, her, success, in, the, late, s, and, her, third, and, final, major, tournament, win, came, at, the, australian, open], [but, she, claims, the, mentality, of, professional, tennis, players, slowly, began, to, change, after, the, new, millennium], [``, it, seems, pretty, friendly, right, now, said, davenport], [``, i, think, there, is, a, really, nice, environment, and, a, great, atmosphere, especially, between, some, of, the, veteran, players, helping, some, of, the, younger, players, out], [``, it, s, a, very, pleasant, atmosphere, i, would, have, to, say, around, the, locker, rooms], [``, i, felt, like, the, best, weeks, that, i, had...   \n",
       "\n",
       "                                                                                                                                                                                                                                                                                                                                                                                                                                                                                                                                                                                                                                                                                                                                                                                                                                                                                                                                                                                                                            SentenceVector  \\\n",
       "0  [[0.07161230769230773, 0.5263353076923079, -0.22625407692307692, 0.4190584615384615, -0.0952153076923077, -0.10156600000000002, -0.40362538461538466, 0.400633476923077, -0.35831371000000006, -0.11500546153846154, 0.11607930769230769, -0.146259, -0.6847891923076924, 0.014327538461538456, 0.783284653846154, 0.046932615384615385, -0.10918245384615388, 0.054596461538461545, -0.29416438461538463, -0.1929796923076923, -0.2468181230769231, 0.3106658461538461, 0.011112153846153848, 0.30192715384615376, 0.12148384615384614, -1.328529230769231, -0.2920881538461539, -0.07721707692307692, -0.3258306923076923, -0.36910523076923074, 2.7283676923076925, 0.24652538461538465, -0.041018076923076914, 0.07203453846153846, 0.022849225384615382, -0.01111693076923078, 0.2808099230769231, 0.4716086153846154, -0.020941546153846143, -0.6126247692307694, -0.007031076923076909, -0.08967269230769231, 0.18087161538461535, 0.06510876923076923, 0.1128052307692308, -0.027662769230769227, -0.06883483846153847, -0.3...   \n",
       "1  [[-0.04118086363636363, 0.3783945909090909, -0.09865840909090907, 0.2834696363636364, 0.016647883181818177, -0.08658890909090906, -0.23910705000000004, 0.3978880909090909, -0.4083776922727273, -0.0862470909090909, 0.1902452272727273, -0.2986129545454545, -0.6385927272727273, -0.031250136363636376, 0.5444554772727271, -0.1095599090909091, -0.13976365909090907, -0.4376720772727273, -0.6052627727272726, 0.11610288409090913, -0.00404738636363637, -0.022918954545454527, -0.04588368181818183, -0.01739659090909088, -0.029735613636363633, -1.1522947090909093, 0.07495704545454546, -0.22785550000000002, -0.23360109090909092, -0.08926977272727274, 2.1310990909090908, 0.1533223181818182, -0.07642998636363636, 4.954545454545331e-05, -0.12957568500000002, -0.09078812272727271, 0.23761849999999998, 0.5697758181818182, 0.022155650000000006, -0.1867798181818182, 0.2605305909090909, -0.06329845454545456, 0.2951025909090909, -0.1664764681818182, 0.15181086363636365, 0.1326979090909091, -0.01367409545...   \n",
       "2  [[0.25328906296296294, 0.12198537037037037, -0.11345479181481483, 0.1446348814814815, 0.1525931851851852, 0.16861987777777784, -0.38139322592592595, 0.2617922222222222, -0.23743694296296297, -0.03473777777777776, 0.035870111111111116, 0.12096629629629627, -0.6220851851851853, -0.0933997037037037, 0.7065455925925925, 0.143282037037037, 0.12736662962962964, -0.19685677777777782, -0.4711523333333333, -0.31522065185185183, 0.1199826296296296, 0.054465311111111095, 0.31118688888888885, -0.10871659259259264, 0.014215555555555558, -1.5483337037037042, -0.10728948148148147, -0.04703542592592592, -0.1138865925925926, -0.21412614814814818, 2.7733540740740743, 0.15372562962962966, -0.41941892592592583, -0.25126889407407405, 0.026628517037037034, -0.11579138518518517, 0.22920711111111114, 0.3417279444444446, -0.09856985555555556, -0.39040711111111115, -0.08489601111111111, -0.02059985185185185, -0.0706187777777778, 0.04860455555555556, -0.06971725925925926, 0.09703904074074075, -0.217581044444...   \n",
       "3  [[-0.07639146874999997, 0.3170033437499999, -0.05655231249999998, 0.33123381250000006, 0.11854274999999999, -0.04550446874999999, -0.41850468749999997, 0.2692358625, -0.25405875718750004, -0.10351577749999999, 0.03690078124999999, -0.08491131562500001, -0.7030106250000001, 0.0020322187500000045, 0.4821976250000001, 0.15320184375, 0.038407875000000015, -0.26271625000000004, -0.6549773749999999, -0.08030978124999998, 0.05498265625000004, 0.035396353125, 0.010837625000000024, -0.04316790625000001, -0.06018543750000003, -1.4377952499999995, 0.05665375, -0.14137571874999993, -0.10342975000000001, -0.27637156250000006, 2.944246562499999, 0.3364460625, -0.16078259374999998, 0.04588156249999999, 0.12576624250000004, -0.1341709625, 0.17272203125000005, 0.2543388749999999, 0.10677622156249998, -0.45882850000000003, -0.2480130625, -0.054150100000000014, 0.0020541562499999944, -0.07792875625, -0.07798153124999999, 0.08807103125, 0.05978199375, -0.27529034375000005, 0.019644781249999993, -0.121...   \n",
       "4  [[0.08898900000000001, 0.26611004761904766, -0.192052, 0.06671333333333333, 0.028799476190476233, 0.09485580952380952, -0.7151614285714287, 0.18457328571428572, -0.19910014285714284, -0.0065385238095237675, -0.0994645904761905, -0.25375309523809514, -0.6728928571428572, 0.07200021428571428, 0.5973166666666666, -0.07204279047619051, -0.084204, -0.14471214285714284, -0.630137619047619, -0.12544587142857144, 0.11530611428571426, 0.2953277142857143, 0.12353749047619043, -0.15412176190476187, 0.03485861904761905, -1.515292, -0.056055095238095216, 0.032189685714285717, 0.09830066666666666, -0.1126077142857143, 3.173791904761904, 0.2494000952380952, -0.12230876190476193, -0.060254952380952354, 0.0332806, 0.06226409523809525, -0.017406476190476177, 0.43230761904761905, -0.13516719047619047, -0.27663478095238103, -0.3494240952380953, 0.0450542619047619, -0.06251766666666667, 0.05574223809523809, -0.17952464285714287, 0.029179333333333328, -0.09026942857142857, -0.3474336666666667, -0.323819...   \n",
       "\n",
       "                                                                                                                                                                                                                                                                                                                                                                                                                                                                                                                                                                                                                                                                                                                                                                                                                                                                                                                                                                                                                                 SimMatrix  \\\n",
       "0  [[1.0, 0.880420442283511, 0.8400741992486218, 0.9129596149615926, 0.8445816500505545, 0.8497893583785375, 0.8768521662830949, 0.886258925167321, 0.876688184230672, 0.9263429106619361, 0.8600162727238753, 0.88957833049645, 0.8313178033584998, 0.8565959297474461, 0.8824241286286072, 0.8868385761498727, 0.8136190246763892], [0.880420442283511, 1.0000000000000002, 0.9408964676641778, 0.9686965549113968, 0.8942781393973298, 0.9586334393985563, 0.9585076101382632, 0.9730773874995189, 0.987312380978821, 0.9125283526364882, 0.9594498058208407, 0.9640488970318378, 0.9632944418681554, 0.9732690670320119, 0.9616582246780773, 0.974151095849337, 0.9564473923061918], [0.8400741992486218, 0.9408964676641778, 1.0000000000000002, 0.9303313796847564, 0.9448434579223794, 0.9570165239566273, 0.9414391114508265, 0.9183752804522206, 0.9549370028865451, 0.8407753229364421, 0.9105576429589423, 0.9547127695525696, 0.9563604609626245, 0.9106663731073268, 0.9699327533307838, 0.9504200626490287, 0.91175028446...   \n",
       "1  [[1.0000000000000002, 0.9391639373355007, 0.9307522110759219, 0.899932755237149, 0.9172938800282447, 0.9626628857481271, 0.934861804332921, 0.8938092579437089, 0.8804549781210645, 0.9216610711649499, 0.9439823399768446, 0.9368768103038478], [0.9391639373355007, 0.9999999999999998, 0.9590753442930997, 0.9545913133228343, 0.9528792368179219, 0.9553589646243109, 0.9689212828797168, 0.9139367907240121, 0.879474718224307, 0.9466865464698169, 0.9505593999176922, 0.9534933423641498], [0.9307522110759219, 0.9590753442930997, 1.0, 0.972182527531525, 0.9721491435562676, 0.9463277226261602, 0.9632049988168381, 0.9278317156075313, 0.8424749724723962, 0.9613402990642099, 0.9559511700041592, 0.971995973737884], [0.899932755237149, 0.9545913133228343, 0.972182527531525, 1.0, 0.9642442760618064, 0.9328682740703543, 0.9597571522743923, 0.9363511660057904, 0.8178646327759684, 0.9608485662217539, 0.9396667766705222, 0.9642596661343519], [0.9172938800282447, 0.9528792368179219, 0.9721491435562676, 0.9...   \n",
       "2  [[1.0, 0.9772061276453379, 0.951790386616839, 0.9448210894496429, 0.9351282498377054, 0.9750612611549272, 0.9539208470148968, 0.9046248674854223, 0.961785232854811, 0.9663365365891443, 0.9738969346985846, 0.9159659578335572, 0.8965611849080808, 0.8871832731065487, 0.9398876346321879, 0.953962386276234, 0.9597398264503099], [0.9772061276453379, 1.0000000000000004, 0.9497427778793324, 0.9384559908111847, 0.9231753532419458, 0.9756371154431448, 0.9700419828070539, 0.9181175871111414, 0.9667316120890909, 0.9811705235874818, 0.9797829230989518, 0.9133950562581032, 0.8879569829263727, 0.877293606352141, 0.9483639708411764, 0.9669197946744467, 0.9515405716808203], [0.951790386616839, 0.9497427778793324, 1.0000000000000002, 0.9702831438353756, 0.970842339602939, 0.916412762938793, 0.8950679501871505, 0.855710885392937, 0.8917756892985307, 0.9444366893056058, 0.9449536509164793, 0.9219111097335502, 0.948968909416335, 0.9339495896540289, 0.8831803301115707, 0.9036583889977594, 0.967776746930...   \n",
       "3  [[0.9999999999999999, 0.9268082423022341, 0.9500899587953415, 0.9517633365226178, 0.7383743292935218, 0.9582269727510496, 0.9677908150487919, 0.9726435835315522, 0.9805214180344, 0.916135322127134, 0.9727739285502532, 0.9420905665125072, 0.9783482595950053], [0.9268082423022341, 1.0, 0.9359895280638497, 0.9238343699826341, 0.7720182239684141, 0.9037056998948562, 0.9060565376698426, 0.9086881754446946, 0.9150137635027646, 0.9424139581774519, 0.9035654239973112, 0.9244354573383684, 0.9146555173852589], [0.9500899587953415, 0.9359895280638497, 1.0, 0.947215435326769, 0.7208234459991583, 0.9556237251359965, 0.9490252115717184, 0.9485280491513068, 0.9471744264733063, 0.8948524955803798, 0.9211798790328556, 0.9127764761254509, 0.9366944690524796], [0.9517633365226178, 0.9238343699826341, 0.947215435326769, 0.9999999999999999, 0.7470258013395212, 0.9401162641728793, 0.9548527413531406, 0.9399709130143058, 0.9328581003661707, 0.9225549258423351, 0.9381192110303656, 0.9446534340858407, 0.93...   \n",
       "4  [[1.0, 0.9468843115398349, 0.9705168017959297, 0.9641929440649757, 0.8572741636426491, 0.9264909465471118, 0.8980719185670478, 0.9482980647025121, 0.8770048395622202, 0.9447884841718674, 0.9200276542654029, 0.9595743772956162, 0.8605769351513024, 0.895688399095454, 0.9052507304769293, 0.8773269095205117, 0.9024961655974597, 0.9189955410244359], [0.9468843115398349, 0.9999999999999998, 0.9693094316478585, 0.9331341417815475, 0.8175790103192752, 0.8761269630935757, 0.8582689221236641, 0.917611139347192, 0.82081874840584, 0.89064316519317, 0.8641524050342821, 0.952737462094401, 0.8540940549997247, 0.8500680716423413, 0.8547905838584531, 0.82705682935472, 0.873008902490157, 0.911892925776232], [0.9705168017959297, 0.9693094316478585, 1.0, 0.9597463997863577, 0.8531157662280926, 0.9143513617942784, 0.869714255048201, 0.9298578985688654, 0.8495668390370237, 0.9255798424851369, 0.8980565881009153, 0.9647801263026585, 0.8692132277819907, 0.8708320033297279, 0.8837203820825559, 0.8453756571...   \n",
       "\n",
       "                                                                                                                                                                                                                                                                                                                                                                                                                                                          Graph  \n",
       "0                             {0: 0.05554199464753272, 1: 0.05964251627873144, 2: 0.05841053156540537, 3: 0.05969349780006848, 4: 0.05648586101195639, 5: 0.05921860498291677, 6: 0.05938610203482372, 7: 0.05950432590883181, 8: 0.05960892627588667, 9: 0.05691782210622912, 10: 0.059056937650340785, 11: 0.05997064367483894, 12: 0.05923363532028829, 13: 0.05916500837372274, 14: 0.05972978591413795, 15: 0.059770390866579516, 16: 0.05866341558770929}  \n",
       "1                                                                                                                                                             {0: 0.08280383151040135, 1: 0.08414085724581552, 2: 0.08432108417617107, 3: 0.08368550156985338, 4: 0.08380632661698972, 5: 0.0842106863836852, 6: 0.08423072171092183, 7: 0.08217240634648845, 8: 0.07803272724908605, 9: 0.08402587246443441, 10: 0.08420666324869616, 11: 0.08436332147745673}  \n",
       "2                          {0: 0.06008138779368386, 1: 0.06016952925873331, 2: 0.05929462776423261, 3: 0.059250959964249075, 4: 0.05894224152287655, 5: 0.059594063546770375, 6: 0.05872588960926853, 7: 0.055908652941693414, 8: 0.05855726445284261, 9: 0.06002909631638909, 10: 0.05975760331574931, 11: 0.058238693084588504, 12: 0.05746790893179006, 13: 0.05709791262376831, 14: 0.05880455854021845, 15: 0.05831875456401707, 16: 0.059760855769128846}  \n",
       "3                                                                                                                                     {0: 0.07884942459494733, 1: 0.076786240355964, 2: 0.07755623255692082, 3: 0.07790231150789537, 4: 0.06568064676580998, 5: 0.07782711862788344, 6: 0.07819976521864529, 7: 0.07791126434159013, 8: 0.07831878189890612, 9: 0.07613436255899811, 10: 0.07811936865749713, 11: 0.07797299373283016, 12: 0.07874148918211225}  \n",
       "4  {0: 0.05474884008349666, 1: 0.053196838300131825, 2: 0.05420341395849682, 3: 0.05576352182776294, 4: 0.05487434189342311, 5: 0.05632692183918092, 6: 0.055775004398751604, 7: 0.05661708691870228, 8: 0.05578384952914668, 9: 0.0566644616084422, 10: 0.056507976747806866, 11: 0.05567049718230454, 12: 0.05461628803283694, 13: 0.05593824773931598, 14: 0.05630664935545962, 15: 0.05565679732004065, 16: 0.055840596217660424, 17: 0.055508667047040064}  "
      ]
     },
     "execution_count": 82,
     "metadata": {},
     "output_type": "execute_result"
    }
   ],
   "source": [
    "articles.head()"
   ]
  },
  {
   "cell_type": "code",
   "execution_count": 83,
   "metadata": {},
   "outputs": [],
   "source": [
    "temp = articles['Graph'][0]"
   ]
  },
  {
   "cell_type": "code",
   "execution_count": 84,
   "metadata": {},
   "outputs": [
    {
     "data": {
      "text/plain": [
       "{0: 0.05554199464753272,\n",
       " 1: 0.05964251627873144,\n",
       " 2: 0.05841053156540537,\n",
       " 3: 0.05969349780006848,\n",
       " 4: 0.05648586101195639,\n",
       " 5: 0.05921860498291677,\n",
       " 6: 0.05938610203482372,\n",
       " 7: 0.05950432590883181,\n",
       " 8: 0.05960892627588667,\n",
       " 9: 0.05691782210622912,\n",
       " 10: 0.059056937650340785,\n",
       " 11: 0.05997064367483894,\n",
       " 12: 0.05923363532028829,\n",
       " 13: 0.05916500837372274,\n",
       " 14: 0.05972978591413795,\n",
       " 15: 0.059770390866579516,\n",
       " 16: 0.05866341558770929}"
      ]
     },
     "execution_count": 84,
     "metadata": {},
     "output_type": "execute_result"
    }
   ],
   "source": [
    "temp"
   ]
  },
  {
   "cell_type": "markdown",
   "metadata": {},
   "source": [
    "# Ranked sentences "
   ]
  },
  {
   "cell_type": "code",
   "execution_count": 85,
   "metadata": {},
   "outputs": [],
   "source": [
    "def get_ranked_sentences(sentences, scores, n=3):\n",
    "    top_scores = sorted(((scores[i],s) \n",
    "                         for i,s in enumerate(sentences)), \n",
    "                                reverse=True)\n",
    "    top_n_sentences = [sentence \n",
    "                        for score,sentence in top_scores[:n]]\n",
    "    return \" \".join(top_n_sentences)\n",
    "\n",
    "articles['Summary'] = articles.apply(lambda d: \n",
    "                                     get_ranked_sentences(d.SentencesInArticle, \n",
    "                                                          d.Graph), axis=1)"
   ]
  },
  {
   "cell_type": "code",
   "execution_count": 86,
   "metadata": {},
   "outputs": [
    {
     "data": {
      "text/html": [
       "<div>\n",
       "<style scoped>\n",
       "    .dataframe tbody tr th:only-of-type {\n",
       "        vertical-align: middle;\n",
       "    }\n",
       "\n",
       "    .dataframe tbody tr th {\n",
       "        vertical-align: top;\n",
       "    }\n",
       "\n",
       "    .dataframe thead th {\n",
       "        text-align: right;\n",
       "    }\n",
       "</style>\n",
       "<table border=\"1\" class=\"dataframe\">\n",
       "  <thead>\n",
       "    <tr style=\"text-align: right;\">\n",
       "      <th></th>\n",
       "      <th>article_text</th>\n",
       "      <th>SentencesInArticle</th>\n",
       "      <th>WordsInSentences</th>\n",
       "      <th>SentenceVector</th>\n",
       "      <th>SimMatrix</th>\n",
       "      <th>Graph</th>\n",
       "      <th>Summary</th>\n",
       "    </tr>\n",
       "  </thead>\n",
       "  <tbody>\n",
       "    <tr>\n",
       "      <th>0</th>\n",
       "      <td>Maria Sharapova has basically no friends as tennis players on the WTA Tour. The Russian player has no problems in openly speaking about it and in a recent interview she said: 'I don't really hide any feelings too much. I think everyone knows this is my job here. When I'm on the courts or when I'm on the court playing, I'm a competitor and I want to beat every single person whether they're in the locker room or across the net.So I'm not the one to strike up a conversation about the weather and know that in the next few minutes I have to go and try to win a tennis match. I'm a pretty competitive girl. I say my hellos, but I'm not sending any players flowers as well. Uhm, I'm not really friendly or close to many players. I have not a lot of friends away from the courts.' When she said she is not really close to a lot of players, is that something strategic that she is doing? Is it different on the men's tour than the women's tour? 'No, not at all. I think just because you're in the sa...</td>\n",
       "      <td>[Maria Sharapova has basically no friends as tennis players on the WTA Tour., The Russian player has no problems in openly speaking about it and in a recent interview she said: 'I don't really hide any feelings too much., I think everyone knows this is my job here., When I'm on the courts or when I'm on the court playing, I'm a competitor and I want to beat every single person whether they're in the locker room or across the net.So I'm not the one to strike up a conversation about the weather and know that in the next few minutes I have to go and try to win a tennis match., I'm a pretty competitive girl., I say my hellos, but I'm not sending any players flowers as well., Uhm, I'm not really friendly or close to many players., I have not a lot of friends away from the courts.', When she said she is not really close to a lot of players, is that something strategic that she is doing?, Is it different on the men's tour than the women's tour?, 'No, not at all., I think just because you'...</td>\n",
       "      <td>[[maria, sharapova, has, basically, no, friends, as, tennis, players, on, the, wta, tour], [the, russian, player, has, no, problems, in, openly, speaking, about, it, and, in, a, recent, interview, she, said, i, do, not, really, hide, any, feelings, too, much], [i, think, everyone, knows, this, is, my, job, here], [when, i, am, on, the, courts, or, when, i, am, on, the, court, playing, i, am, a, competitor, and, i, want, to, beat, every, single, person, whether, they, are, in, the, locker, room, or, across, the, netso, i, am, not, the, one, to, strike, up, a, conversation, about, the, weather, and, know, that, in, the, next, few, minutes, i, have, to, go, and, try, to, win, a, tennis, match], [i, am, a, pretty, competitive, girl], [i, say, my, hellos, but, i, am, not, sending, any, players, flowers, as, well], [uhm, i, am, not, really, friendly, or, close, to, many, players], [i, have, not, a, lot, of, friends, away, from, the, courts], [when, she, said, she, is, not, really, close,...</td>\n",
       "      <td>[[0.07161230769230773, 0.5263353076923079, -0.22625407692307692, 0.4190584615384615, -0.0952153076923077, -0.10156600000000002, -0.40362538461538466, 0.400633476923077, -0.35831371000000006, -0.11500546153846154, 0.11607930769230769, -0.146259, -0.6847891923076924, 0.014327538461538456, 0.783284653846154, 0.046932615384615385, -0.10918245384615388, 0.054596461538461545, -0.29416438461538463, -0.1929796923076923, -0.2468181230769231, 0.3106658461538461, 0.011112153846153848, 0.30192715384615376, 0.12148384615384614, -1.328529230769231, -0.2920881538461539, -0.07721707692307692, -0.3258306923076923, -0.36910523076923074, 2.7283676923076925, 0.24652538461538465, -0.041018076923076914, 0.07203453846153846, 0.022849225384615382, -0.01111693076923078, 0.2808099230769231, 0.4716086153846154, -0.020941546153846143, -0.6126247692307694, -0.007031076923076909, -0.08967269230769231, 0.18087161538461535, 0.06510876923076923, 0.1128052307692308, -0.027662769230769227, -0.06883483846153847, -0.3...</td>\n",
       "      <td>[[1.0, 0.880420442283511, 0.8400741992486218, 0.9129596149615926, 0.8445816500505545, 0.8497893583785375, 0.8768521662830949, 0.886258925167321, 0.876688184230672, 0.9263429106619361, 0.8600162727238753, 0.88957833049645, 0.8313178033584998, 0.8565959297474461, 0.8824241286286072, 0.8868385761498727, 0.8136190246763892], [0.880420442283511, 1.0000000000000002, 0.9408964676641778, 0.9686965549113968, 0.8942781393973298, 0.9586334393985563, 0.9585076101382632, 0.9730773874995189, 0.987312380978821, 0.9125283526364882, 0.9594498058208407, 0.9640488970318378, 0.9632944418681554, 0.9732690670320119, 0.9616582246780773, 0.974151095849337, 0.9564473923061918], [0.8400741992486218, 0.9408964676641778, 1.0000000000000002, 0.9303313796847564, 0.9448434579223794, 0.9570165239566273, 0.9414391114508265, 0.9183752804522206, 0.9549370028865451, 0.8407753229364421, 0.9105576429589423, 0.9547127695525696, 0.9563604609626245, 0.9106663731073268, 0.9699327533307838, 0.9504200626490287, 0.91175028446...</td>\n",
       "      <td>{0: 0.05554199464753272, 1: 0.05964251627873144, 2: 0.05841053156540537, 3: 0.05969349780006848, 4: 0.05648586101195639, 5: 0.05921860498291677, 6: 0.05938610203482372, 7: 0.05950432590883181, 8: 0.05960892627588667, 9: 0.05691782210622912, 10: 0.059056937650340785, 11: 0.05997064367483894, 12: 0.05923363532028829, 13: 0.05916500837372274, 14: 0.05972978591413795, 15: 0.059770390866579516, 16: 0.05866341558770929}</td>\n",
       "      <td>I think just because you're in the same sport doesn't mean that you have to be friends with everyone just because you're categorized, you're a tennis player, so you're going to get along with tennis players. But ultimately tennis is just a very small part of what we do. I think everyone just thinks because we're tennis players we should be the greatest of friends.</td>\n",
       "    </tr>\n",
       "    <tr>\n",
       "      <th>1</th>\n",
       "      <td>BASEL, Switzerland (AP), Roger Federer advanced to the 14th Swiss Indoors final of his career by beating seventh-seeded Daniil Medvedev 6-1, 6-4 on Saturday. Seeking a ninth title at his hometown event, and a 99th overall, Federer will play 93th-ranked Marius Copil on Sunday. Federer dominated the 20th-ranked Medvedev and had his first match-point chance to break serve again at 5-1. He then dropped his serve to love, and let another match point slip in Medvedev's next service game by netting a backhand. He clinched on his fourth chance when Medvedev netted from the baseline. Copil upset expectations of a Federer final against Alexander Zverev in a 6-3, 6-7 (6), 6-4 win over the fifth-ranked German in the earlier semifinal. The Romanian aims for a first title after arriving at Basel without a career win over a top-10 opponent. Copil has two after also beating No. 6 Marin Cilic in the second round. Copil fired 26 aces past Zverev and never dropped serve, clinching after 2 1/2 hours w...</td>\n",
       "      <td>[BASEL, Switzerland (AP), Roger Federer advanced to the 14th Swiss Indoors final of his career by beating seventh-seeded Daniil Medvedev 6-1, 6-4 on Saturday., Seeking a ninth title at his hometown event, and a 99th overall, Federer will play 93th-ranked Marius Copil on Sunday., Federer dominated the 20th-ranked Medvedev and had his first match-point chance to break serve again at 5-1., He then dropped his serve to love, and let another match point slip in Medvedev's next service game by netting a backhand., He clinched on his fourth chance when Medvedev netted from the baseline., Copil upset expectations of a Federer final against Alexander Zverev in a 6-3, 6-7 (6), 6-4 win over the fifth-ranked German in the earlier semifinal., The Romanian aims for a first title after arriving at Basel without a career win over a top-10 opponent., Copil has two after also beating No., 6 Marin Cilic in the second round., Copil fired 26 aces past Zverev and never dropped serve, clinching after 2 1...</td>\n",
       "      <td>[[basel, switzerland, ap, roger, federer, advanced, to, the, th, swiss, indoors, final, of, his, career, by, beating, seventhseeded, daniil, medvedev, on, saturday], [seeking, a, ninth, title, at, his, hometown, event, and, a, th, overall, federer, will, play, thranked, marius, copil, on, sunday], [federer, dominated, the, thranked, medvedev, and, had, his, first, matchpoint, chance, to, break, serve, again, at], [he, then, dropped, his, serve, to, love, and, let, another, match, point, slip, in, medvedev, s, next, service, game, by, netting, a, backhand], [he, clinched, on, his, fourth, chance, when, medvedev, netted, from, the, baseline], [copil, upset, expectations, of, a, federer, final, against, alexander, zverev, in, a, win, over, the, fifthranked, german, in, the, earlier, semifinal], [the, romanian, aims, for, a, first, title, after, arriving, at, basel, without, a, career, win, over, a, top, opponent], [copil, has, two, after, also, beating, no], [marin, cilic, in, the, se...</td>\n",
       "      <td>[[-0.04118086363636363, 0.3783945909090909, -0.09865840909090907, 0.2834696363636364, 0.016647883181818177, -0.08658890909090906, -0.23910705000000004, 0.3978880909090909, -0.4083776922727273, -0.0862470909090909, 0.1902452272727273, -0.2986129545454545, -0.6385927272727273, -0.031250136363636376, 0.5444554772727271, -0.1095599090909091, -0.13976365909090907, -0.4376720772727273, -0.6052627727272726, 0.11610288409090913, -0.00404738636363637, -0.022918954545454527, -0.04588368181818183, -0.01739659090909088, -0.029735613636363633, -1.1522947090909093, 0.07495704545454546, -0.22785550000000002, -0.23360109090909092, -0.08926977272727274, 2.1310990909090908, 0.1533223181818182, -0.07642998636363636, 4.954545454545331e-05, -0.12957568500000002, -0.09078812272727271, 0.23761849999999998, 0.5697758181818182, 0.022155650000000006, -0.1867798181818182, 0.2605305909090909, -0.06329845454545456, 0.2951025909090909, -0.1664764681818182, 0.15181086363636365, 0.1326979090909091, -0.01367409545...</td>\n",
       "      <td>[[1.0000000000000002, 0.9391639373355007, 0.9307522110759219, 0.899932755237149, 0.9172938800282447, 0.9626628857481271, 0.934861804332921, 0.8938092579437089, 0.8804549781210645, 0.9216610711649499, 0.9439823399768446, 0.9368768103038478], [0.9391639373355007, 0.9999999999999998, 0.9590753442930997, 0.9545913133228343, 0.9528792368179219, 0.9553589646243109, 0.9689212828797168, 0.9139367907240121, 0.879474718224307, 0.9466865464698169, 0.9505593999176922, 0.9534933423641498], [0.9307522110759219, 0.9590753442930997, 1.0, 0.972182527531525, 0.9721491435562676, 0.9463277226261602, 0.9632049988168381, 0.9278317156075313, 0.8424749724723962, 0.9613402990642099, 0.9559511700041592, 0.971995973737884], [0.899932755237149, 0.9545913133228343, 0.972182527531525, 1.0, 0.9642442760618064, 0.9328682740703543, 0.9597571522743923, 0.9363511660057904, 0.8178646327759684, 0.9608485662217539, 0.9396667766705222, 0.9642596661343519], [0.9172938800282447, 0.9528792368179219, 0.9721491435562676, 0.9...</td>\n",
       "      <td>{0: 0.08280383151040135, 1: 0.08414085724581552, 2: 0.08432108417617107, 3: 0.08368550156985338, 4: 0.08380632661698972, 5: 0.0842106863836852, 6: 0.08423072171092183, 7: 0.08217240634648845, 8: 0.07803272724908605, 9: 0.08402587246443441, 10: 0.08420666324869616, 11: 0.08436332147745673}</td>\n",
       "      <td>Federer had an easier time than in his only previous match against Medvedev, a three-setter at Shanghai two weeks ago. Federer dominated the 20th-ranked Medvedev and had his first match-point chance to break serve again at 5-1. The Romanian aims for a first title after arriving at Basel without a career win over a top-10 opponent.</td>\n",
       "    </tr>\n",
       "    <tr>\n",
       "      <th>2</th>\n",
       "      <td>Roger Federer has revealed that organisers of the re-launched and condensed Davis Cup gave him three days to decide if he would commit to the controversial competition. Speaking at the Swiss Indoors tournament where he will play in Sundays final against Romanian qualifier Marius Copil, the world number three said that given the impossibly short time frame to make a decision, he opted out of any commitment. \"They only left me three days to decide\", Federer said. \"I didn't to have time to consult with all the people I had to consult. \"I could not make a decision in that time, so I told them to do what they wanted.\" The 20-time Grand Slam champion has voiced doubts about the wisdom of the one-week format to be introduced by organisers Kosmos, who have promised the International Tennis Federation up to $3 billion in prize money over the next quarter-century. The competition is set to feature 18 countries in the November 18-24 finals in Madrid next year, and will replace the classic hom...</td>\n",
       "      <td>[Roger Federer has revealed that organisers of the re-launched and condensed Davis Cup gave him three days to decide if he would commit to the controversial competition., Speaking at the Swiss Indoors tournament where he will play in Sundays final against Romanian qualifier Marius Copil, the world number three said that given the impossibly short time frame to make a decision, he opted out of any commitment., \"They only left me three days to decide\", Federer said., \"I didn't to have time to consult with all the people I had to consult., \"I could not make a decision in that time, so I told them to do what they wanted.\", The 20-time Grand Slam champion has voiced doubts about the wisdom of the one-week format to be introduced by organisers Kosmos, who have promised the International Tennis Federation up to $3 billion in prize money over the next quarter-century., The competition is set to feature 18 countries in the November 18-24 finals in Madrid next year, and will replace the clas...</td>\n",
       "      <td>[[roger, federer, has, revealed, that, organisers, of, the, relaunched, and, condensed, davis, cup, gave, him, three, days, to, decide, if, he, would, commit, to, the, controversial, competition], [speaking, at, the, swiss, indoors, tournament, where, he, will, play, in, sundays, final, against, romanian, qualifier, marius, copil, the, world, number, three, said, that, given, the, impossibly, short, time, frame, to, make, a, decision, he, opted, out, of, any, commitment], [``, they, only, left, me, three, days, to, decide, federer, said], [``, i, did, not, to, have, time, to, consult, with, all, the, people, i, had, to, consult], [``, i, could, not, make, a, decision, in, that, time, so, i, told, them, to, do, what, they, wanted], [the, time, grand, slam, champion, has, voiced, doubts, about, the, wisdom, of, the, oneweek, format, to, be, introduced, by, organisers, kosmos, who, have, promised, the, international, tennis, federation, up, to, billion, in, prize, money, over, the, ne...</td>\n",
       "      <td>[[0.25328906296296294, 0.12198537037037037, -0.11345479181481483, 0.1446348814814815, 0.1525931851851852, 0.16861987777777784, -0.38139322592592595, 0.2617922222222222, -0.23743694296296297, -0.03473777777777776, 0.035870111111111116, 0.12096629629629627, -0.6220851851851853, -0.0933997037037037, 0.7065455925925925, 0.143282037037037, 0.12736662962962964, -0.19685677777777782, -0.4711523333333333, -0.31522065185185183, 0.1199826296296296, 0.054465311111111095, 0.31118688888888885, -0.10871659259259264, 0.014215555555555558, -1.5483337037037042, -0.10728948148148147, -0.04703542592592592, -0.1138865925925926, -0.21412614814814818, 2.7733540740740743, 0.15372562962962966, -0.41941892592592583, -0.25126889407407405, 0.026628517037037034, -0.11579138518518517, 0.22920711111111114, 0.3417279444444446, -0.09856985555555556, -0.39040711111111115, -0.08489601111111111, -0.02059985185185185, -0.0706187777777778, 0.04860455555555556, -0.06971725925925926, 0.09703904074074075, -0.217581044444...</td>\n",
       "      <td>[[1.0, 0.9772061276453379, 0.951790386616839, 0.9448210894496429, 0.9351282498377054, 0.9750612611549272, 0.9539208470148968, 0.9046248674854223, 0.961785232854811, 0.9663365365891443, 0.9738969346985846, 0.9159659578335572, 0.8965611849080808, 0.8871832731065487, 0.9398876346321879, 0.953962386276234, 0.9597398264503099], [0.9772061276453379, 1.0000000000000004, 0.9497427778793324, 0.9384559908111847, 0.9231753532419458, 0.9756371154431448, 0.9700419828070539, 0.9181175871111414, 0.9667316120890909, 0.9811705235874818, 0.9797829230989518, 0.9133950562581032, 0.8879569829263727, 0.877293606352141, 0.9483639708411764, 0.9669197946744467, 0.9515405716808203], [0.951790386616839, 0.9497427778793324, 1.0000000000000002, 0.9702831438353756, 0.970842339602939, 0.916412762938793, 0.8950679501871505, 0.855710885392937, 0.8917756892985307, 0.9444366893056058, 0.9449536509164793, 0.9219111097335502, 0.948968909416335, 0.9339495896540289, 0.8831803301115707, 0.9036583889977594, 0.967776746930...</td>\n",
       "      <td>{0: 0.06008138779368386, 1: 0.06016952925873331, 2: 0.05929462776423261, 3: 0.059250959964249075, 4: 0.05894224152287655, 5: 0.059594063546770375, 6: 0.05872588960926853, 7: 0.055908652941693414, 8: 0.05855726445284261, 9: 0.06002909631638909, 10: 0.05975760331574931, 11: 0.058238693084588504, 12: 0.05746790893179006, 13: 0.05709791262376831, 14: 0.05880455854021845, 15: 0.05831875456401707, 16: 0.059760855769128846}</td>\n",
       "      <td>Speaking at the Swiss Indoors tournament where he will play in Sundays final against Romanian qualifier Marius Copil, the world number three said that given the impossibly short time frame to make a decision, he opted out of any commitment. Roger Federer has revealed that organisers of the re-launched and condensed Davis Cup gave him three days to decide if he would commit to the controversial competition. Major players feel that a big event in late November combined with one in January before the Australian Open will mean too much tennis and too little rest.</td>\n",
       "    </tr>\n",
       "    <tr>\n",
       "      <th>3</th>\n",
       "      <td>Kei Nishikori will try to end his long losing streak in ATP finals and Kevin Anderson will go for his second title of the year at the Erste Bank Open on Sunday. The fifth-seeded Nishikori reached his third final of 2018 after beating Mikhail Kukushkin of Kazakhstan 6-4, 6-3 in the semifinals. A winner of 11 ATP events, Nishikori hasn't triumphed since winning in Memphis in February 2016. He has lost eight straight finals since. The second-seeded Anderson defeated Fernando Verdasco 6-3, 3-6, 6-4. Anderson has a shot at a fifth career title and second of the year after winning in New York in February. Nishikori leads Anderson 4-2 on career matchups, but the South African won their only previous meeting this year. With a victory on Sunday, Anderson will qualify for the ATP Finals. Currently in ninth place, Nishikori with a win could move to within 125 points of the cut for the eight-man event in London next month. Nishikori held serve throughout against Kukushkin, who came through qua...</td>\n",
       "      <td>[Kei Nishikori will try to end his long losing streak in ATP finals and Kevin Anderson will go for his second title of the year at the Erste Bank Open on Sunday., The fifth-seeded Nishikori reached his third final of 2018 after beating Mikhail Kukushkin of Kazakhstan 6-4, 6-3 in the semifinals., A winner of 11 ATP events, Nishikori hasn't triumphed since winning in Memphis in February 2016., He has lost eight straight finals since., The second-seeded Anderson defeated Fernando Verdasco 6-3, 3-6, 6-4., Anderson has a shot at a fifth career title and second of the year after winning in New York in February., Nishikori leads Anderson 4-2 on career matchups, but the South African won their only previous meeting this year., With a victory on Sunday, Anderson will qualify for the ATP Finals., Currently in ninth place, Nishikori with a win could move to within 125 points of the cut for the eight-man event in London next month., Nishikori held serve throughout against Kukushkin, who came t...</td>\n",
       "      <td>[[kei, nishikori, will, try, to, end, his, long, losing, streak, in, atp, finals, and, kevin, anderson, will, go, for, his, second, title, of, the, year, at, the, erste, bank, open, on, sunday], [the, fifthseeded, nishikori, reached, his, third, final, of, after, beating, mikhail, kukushkin, of, kazakhstan, in, the, semifinals], [a, winner, of, atp, events, nishikori, has, not, triumphed, since, winning, in, memphis, in, february], [he, has, lost, eight, straight, finals, since], [the, secondseeded, anderson, defeated, fernando, verdasco], [anderson, has, a, shot, at, a, fifth, career, title, and, second, of, the, year, after, winning, in, new, york, in, february], [nishikori, leads, anderson, on, career, matchups, but, the, south, african, won, their, only, previous, meeting, this, year], [with, a, victory, on, sunday, anderson, will, qualify, for, the, atp, finals], [currently, in, ninth, place, nishikori, with, a, win, could, move, to, within, points, of, the, cut, for, the, eig...</td>\n",
       "      <td>[[-0.07639146874999997, 0.3170033437499999, -0.05655231249999998, 0.33123381250000006, 0.11854274999999999, -0.04550446874999999, -0.41850468749999997, 0.2692358625, -0.25405875718750004, -0.10351577749999999, 0.03690078124999999, -0.08491131562500001, -0.7030106250000001, 0.0020322187500000045, 0.4821976250000001, 0.15320184375, 0.038407875000000015, -0.26271625000000004, -0.6549773749999999, -0.08030978124999998, 0.05498265625000004, 0.035396353125, 0.010837625000000024, -0.04316790625000001, -0.06018543750000003, -1.4377952499999995, 0.05665375, -0.14137571874999993, -0.10342975000000001, -0.27637156250000006, 2.944246562499999, 0.3364460625, -0.16078259374999998, 0.04588156249999999, 0.12576624250000004, -0.1341709625, 0.17272203125000005, 0.2543388749999999, 0.10677622156249998, -0.45882850000000003, -0.2480130625, -0.054150100000000014, 0.0020541562499999944, -0.07792875625, -0.07798153124999999, 0.08807103125, 0.05978199375, -0.27529034375000005, 0.019644781249999993, -0.121...</td>\n",
       "      <td>[[0.9999999999999999, 0.9268082423022341, 0.9500899587953415, 0.9517633365226178, 0.7383743292935218, 0.9582269727510496, 0.9677908150487919, 0.9726435835315522, 0.9805214180344, 0.916135322127134, 0.9727739285502532, 0.9420905665125072, 0.9783482595950053], [0.9268082423022341, 1.0, 0.9359895280638497, 0.9238343699826341, 0.7720182239684141, 0.9037056998948562, 0.9060565376698426, 0.9086881754446946, 0.9150137635027646, 0.9424139581774519, 0.9035654239973112, 0.9244354573383684, 0.9146555173852589], [0.9500899587953415, 0.9359895280638497, 1.0, 0.947215435326769, 0.7208234459991583, 0.9556237251359965, 0.9490252115717184, 0.9485280491513068, 0.9471744264733063, 0.8948524955803798, 0.9211798790328556, 0.9127764761254509, 0.9366944690524796], [0.9517633365226178, 0.9238343699826341, 0.947215435326769, 0.9999999999999999, 0.7470258013395212, 0.9401162641728793, 0.9548527413531406, 0.9399709130143058, 0.9328581003661707, 0.9225549258423351, 0.9381192110303656, 0.9446534340858407, 0.93...</td>\n",
       "      <td>{0: 0.07884942459494733, 1: 0.076786240355964, 2: 0.07755623255692082, 3: 0.07790231150789537, 4: 0.06568064676580998, 5: 0.07782711862788344, 6: 0.07819976521864529, 7: 0.07791126434159013, 8: 0.07831878189890612, 9: 0.07613436255899811, 10: 0.07811936865749713, 11: 0.07797299373283016, 12: 0.07874148918211225}</td>\n",
       "      <td>Kei Nishikori will try to end his long losing streak in ATP finals and Kevin Anderson will go for his second title of the year at the Erste Bank Open on Sunday. The Spaniard broke Anderson twice in the second but didn't get another chance on the South African's serve in the final set. Currently in ninth place, Nishikori with a win could move to within 125 points of the cut for the eight-man event in London next month.</td>\n",
       "    </tr>\n",
       "    <tr>\n",
       "      <th>4</th>\n",
       "      <td>Federer, 37, first broke through on tour over two decades ago and he has since gone on to enjoy a glittering career. The 20-time Grand Slam winner is chasing his 99th ATP title at the Swiss Indoors this week and he faces Jan-Lennard Struff in the second round on Thursday (6pm BST). Davenport enjoyed most of her success in the late 1990s and her third and final major tournament win came at the 2000 Australian Open. But she claims the mentality of professional tennis players slowly began to change after the new millennium. \"It seems pretty friendly right now,\" said Davenport. \"I think there is a really nice environment and a great atmosphere, especially between some of the veteran players helping some of the younger players out. \"It's a very pleasant atmosphere, I'd have to say, around the locker rooms. \"I felt like the best weeks that I had to get to know players when I was playing were the Fed Cup weeks or the Olympic weeks, not necessarily during the tournaments. \"And even though ...</td>\n",
       "      <td>[Federer, 37, first broke through on tour over two decades ago and he has since gone on to enjoy a glittering career., The 20-time Grand Slam winner is chasing his 99th ATP title at the Swiss Indoors this week and he faces Jan-Lennard Struff in the second round on Thursday (6pm BST)., Davenport enjoyed most of her success in the late 1990s and her third and final major tournament win came at the 2000 Australian Open., But she claims the mentality of professional tennis players slowly began to change after the new millennium., \"It seems pretty friendly right now,\" said Davenport., \"I think there is a really nice environment and a great atmosphere, especially between some of the veteran players helping some of the younger players out., \"It's a very pleasant atmosphere, I'd have to say, around the locker rooms., \"I felt like the best weeks that I had to get to know players when I was playing were the Fed Cup weeks or the Olympic weeks, not necessarily during the tournaments., \"And eve...</td>\n",
       "      <td>[[federer, first, broke, through, on, tour, over, two, decades, ago, and, he, has, since, gone, on, to, enjoy, a, glittering, career], [the, time, grand, slam, winner, is, chasing, his, th, atp, title, at, the, swiss, indoors, this, week, and, he, faces, janlennard, struff, in, the, second, round, on, thursday, pm, bst], [davenport, enjoyed, most, of, her, success, in, the, late, s, and, her, third, and, final, major, tournament, win, came, at, the, australian, open], [but, she, claims, the, mentality, of, professional, tennis, players, slowly, began, to, change, after, the, new, millennium], [``, it, seems, pretty, friendly, right, now, said, davenport], [``, i, think, there, is, a, really, nice, environment, and, a, great, atmosphere, especially, between, some, of, the, veteran, players, helping, some, of, the, younger, players, out], [``, it, s, a, very, pleasant, atmosphere, i, would, have, to, say, around, the, locker, rooms], [``, i, felt, like, the, best, weeks, that, i, had...</td>\n",
       "      <td>[[0.08898900000000001, 0.26611004761904766, -0.192052, 0.06671333333333333, 0.028799476190476233, 0.09485580952380952, -0.7151614285714287, 0.18457328571428572, -0.19910014285714284, -0.0065385238095237675, -0.0994645904761905, -0.25375309523809514, -0.6728928571428572, 0.07200021428571428, 0.5973166666666666, -0.07204279047619051, -0.084204, -0.14471214285714284, -0.630137619047619, -0.12544587142857144, 0.11530611428571426, 0.2953277142857143, 0.12353749047619043, -0.15412176190476187, 0.03485861904761905, -1.515292, -0.056055095238095216, 0.032189685714285717, 0.09830066666666666, -0.1126077142857143, 3.173791904761904, 0.2494000952380952, -0.12230876190476193, -0.060254952380952354, 0.0332806, 0.06226409523809525, -0.017406476190476177, 0.43230761904761905, -0.13516719047619047, -0.27663478095238103, -0.3494240952380953, 0.0450542619047619, -0.06251766666666667, 0.05574223809523809, -0.17952464285714287, 0.029179333333333328, -0.09026942857142857, -0.3474336666666667, -0.323819...</td>\n",
       "      <td>[[1.0, 0.9468843115398349, 0.9705168017959297, 0.9641929440649757, 0.8572741636426491, 0.9264909465471118, 0.8980719185670478, 0.9482980647025121, 0.8770048395622202, 0.9447884841718674, 0.9200276542654029, 0.9595743772956162, 0.8605769351513024, 0.895688399095454, 0.9052507304769293, 0.8773269095205117, 0.9024961655974597, 0.9189955410244359], [0.9468843115398349, 0.9999999999999998, 0.9693094316478585, 0.9331341417815475, 0.8175790103192752, 0.8761269630935757, 0.8582689221236641, 0.917611139347192, 0.82081874840584, 0.89064316519317, 0.8641524050342821, 0.952737462094401, 0.8540940549997247, 0.8500680716423413, 0.8547905838584531, 0.82705682935472, 0.873008902490157, 0.911892925776232], [0.9705168017959297, 0.9693094316478585, 1.0, 0.9597463997863577, 0.8531157662280926, 0.9143513617942784, 0.869714255048201, 0.9298578985688654, 0.8495668390370237, 0.9255798424851369, 0.8980565881009153, 0.9647801263026585, 0.8692132277819907, 0.8708320033297279, 0.8837203820825559, 0.8453756571...</td>\n",
       "      <td>{0: 0.05474884008349666, 1: 0.053196838300131825, 2: 0.05420341395849682, 3: 0.05576352182776294, 4: 0.05487434189342311, 5: 0.05632692183918092, 6: 0.055775004398751604, 7: 0.05661708691870228, 8: 0.05578384952914668, 9: 0.0566644616084422, 10: 0.056507976747806866, 11: 0.05567049718230454, 12: 0.05461628803283694, 13: 0.05593824773931598, 14: 0.05630664935545962, 15: 0.05565679732004065, 16: 0.055840596217660424, 17: 0.055508667047040064}</td>\n",
       "      <td>\"Not always, but I really feel like in the mid-2000 years there was a huge shift of the attitudes of the top players and being more friendly and being more giving, and a lot of that had to do with players like Roger coming up. \"I felt like the best weeks that I had to get to know players when I was playing were the Fed Cup weeks or the Olympic weeks, not necessarily during the tournaments. \"I just felt like it really kind of changed where people were a little bit, definitely in the 90s, a lot more quiet, into themselves, and then it started to become better.\"</td>\n",
       "    </tr>\n",
       "  </tbody>\n",
       "</table>\n",
       "</div>"
      ],
      "text/plain": [
       "                                                                                                                                                                                                                                                                                                                                                                                                                                                                                                                                                                                                                                                                                                                                                                                                                                                                                                                                                                                                                              article_text  \\\n",
       "0  Maria Sharapova has basically no friends as tennis players on the WTA Tour. The Russian player has no problems in openly speaking about it and in a recent interview she said: 'I don't really hide any feelings too much. I think everyone knows this is my job here. When I'm on the courts or when I'm on the court playing, I'm a competitor and I want to beat every single person whether they're in the locker room or across the net.So I'm not the one to strike up a conversation about the weather and know that in the next few minutes I have to go and try to win a tennis match. I'm a pretty competitive girl. I say my hellos, but I'm not sending any players flowers as well. Uhm, I'm not really friendly or close to many players. I have not a lot of friends away from the courts.' When she said she is not really close to a lot of players, is that something strategic that she is doing? Is it different on the men's tour than the women's tour? 'No, not at all. I think just because you're in the sa...   \n",
       "1  BASEL, Switzerland (AP), Roger Federer advanced to the 14th Swiss Indoors final of his career by beating seventh-seeded Daniil Medvedev 6-1, 6-4 on Saturday. Seeking a ninth title at his hometown event, and a 99th overall, Federer will play 93th-ranked Marius Copil on Sunday. Federer dominated the 20th-ranked Medvedev and had his first match-point chance to break serve again at 5-1. He then dropped his serve to love, and let another match point slip in Medvedev's next service game by netting a backhand. He clinched on his fourth chance when Medvedev netted from the baseline. Copil upset expectations of a Federer final against Alexander Zverev in a 6-3, 6-7 (6), 6-4 win over the fifth-ranked German in the earlier semifinal. The Romanian aims for a first title after arriving at Basel without a career win over a top-10 opponent. Copil has two after also beating No. 6 Marin Cilic in the second round. Copil fired 26 aces past Zverev and never dropped serve, clinching after 2 1/2 hours w...   \n",
       "2  Roger Federer has revealed that organisers of the re-launched and condensed Davis Cup gave him three days to decide if he would commit to the controversial competition. Speaking at the Swiss Indoors tournament where he will play in Sundays final against Romanian qualifier Marius Copil, the world number three said that given the impossibly short time frame to make a decision, he opted out of any commitment. \"They only left me three days to decide\", Federer said. \"I didn't to have time to consult with all the people I had to consult. \"I could not make a decision in that time, so I told them to do what they wanted.\" The 20-time Grand Slam champion has voiced doubts about the wisdom of the one-week format to be introduced by organisers Kosmos, who have promised the International Tennis Federation up to $3 billion in prize money over the next quarter-century. The competition is set to feature 18 countries in the November 18-24 finals in Madrid next year, and will replace the classic hom...   \n",
       "3  Kei Nishikori will try to end his long losing streak in ATP finals and Kevin Anderson will go for his second title of the year at the Erste Bank Open on Sunday. The fifth-seeded Nishikori reached his third final of 2018 after beating Mikhail Kukushkin of Kazakhstan 6-4, 6-3 in the semifinals. A winner of 11 ATP events, Nishikori hasn't triumphed since winning in Memphis in February 2016. He has lost eight straight finals since. The second-seeded Anderson defeated Fernando Verdasco 6-3, 3-6, 6-4. Anderson has a shot at a fifth career title and second of the year after winning in New York in February. Nishikori leads Anderson 4-2 on career matchups, but the South African won their only previous meeting this year. With a victory on Sunday, Anderson will qualify for the ATP Finals. Currently in ninth place, Nishikori with a win could move to within 125 points of the cut for the eight-man event in London next month. Nishikori held serve throughout against Kukushkin, who came through qua...   \n",
       "4  Federer, 37, first broke through on tour over two decades ago and he has since gone on to enjoy a glittering career. The 20-time Grand Slam winner is chasing his 99th ATP title at the Swiss Indoors this week and he faces Jan-Lennard Struff in the second round on Thursday (6pm BST). Davenport enjoyed most of her success in the late 1990s and her third and final major tournament win came at the 2000 Australian Open. But she claims the mentality of professional tennis players slowly began to change after the new millennium. \"It seems pretty friendly right now,\" said Davenport. \"I think there is a really nice environment and a great atmosphere, especially between some of the veteran players helping some of the younger players out. \"It's a very pleasant atmosphere, I'd have to say, around the locker rooms. \"I felt like the best weeks that I had to get to know players when I was playing were the Fed Cup weeks or the Olympic weeks, not necessarily during the tournaments. \"And even though ...   \n",
       "\n",
       "                                                                                                                                                                                                                                                                                                                                                                                                                                                                                                                                                                                                                                                                                                                                                                                                                                                                                                                                                                                                                        SentencesInArticle  \\\n",
       "0  [Maria Sharapova has basically no friends as tennis players on the WTA Tour., The Russian player has no problems in openly speaking about it and in a recent interview she said: 'I don't really hide any feelings too much., I think everyone knows this is my job here., When I'm on the courts or when I'm on the court playing, I'm a competitor and I want to beat every single person whether they're in the locker room or across the net.So I'm not the one to strike up a conversation about the weather and know that in the next few minutes I have to go and try to win a tennis match., I'm a pretty competitive girl., I say my hellos, but I'm not sending any players flowers as well., Uhm, I'm not really friendly or close to many players., I have not a lot of friends away from the courts.', When she said she is not really close to a lot of players, is that something strategic that she is doing?, Is it different on the men's tour than the women's tour?, 'No, not at all., I think just because you'...   \n",
       "1  [BASEL, Switzerland (AP), Roger Federer advanced to the 14th Swiss Indoors final of his career by beating seventh-seeded Daniil Medvedev 6-1, 6-4 on Saturday., Seeking a ninth title at his hometown event, and a 99th overall, Federer will play 93th-ranked Marius Copil on Sunday., Federer dominated the 20th-ranked Medvedev and had his first match-point chance to break serve again at 5-1., He then dropped his serve to love, and let another match point slip in Medvedev's next service game by netting a backhand., He clinched on his fourth chance when Medvedev netted from the baseline., Copil upset expectations of a Federer final against Alexander Zverev in a 6-3, 6-7 (6), 6-4 win over the fifth-ranked German in the earlier semifinal., The Romanian aims for a first title after arriving at Basel without a career win over a top-10 opponent., Copil has two after also beating No., 6 Marin Cilic in the second round., Copil fired 26 aces past Zverev and never dropped serve, clinching after 2 1...   \n",
       "2  [Roger Federer has revealed that organisers of the re-launched and condensed Davis Cup gave him three days to decide if he would commit to the controversial competition., Speaking at the Swiss Indoors tournament where he will play in Sundays final against Romanian qualifier Marius Copil, the world number three said that given the impossibly short time frame to make a decision, he opted out of any commitment., \"They only left me three days to decide\", Federer said., \"I didn't to have time to consult with all the people I had to consult., \"I could not make a decision in that time, so I told them to do what they wanted.\", The 20-time Grand Slam champion has voiced doubts about the wisdom of the one-week format to be introduced by organisers Kosmos, who have promised the International Tennis Federation up to $3 billion in prize money over the next quarter-century., The competition is set to feature 18 countries in the November 18-24 finals in Madrid next year, and will replace the clas...   \n",
       "3  [Kei Nishikori will try to end his long losing streak in ATP finals and Kevin Anderson will go for his second title of the year at the Erste Bank Open on Sunday., The fifth-seeded Nishikori reached his third final of 2018 after beating Mikhail Kukushkin of Kazakhstan 6-4, 6-3 in the semifinals., A winner of 11 ATP events, Nishikori hasn't triumphed since winning in Memphis in February 2016., He has lost eight straight finals since., The second-seeded Anderson defeated Fernando Verdasco 6-3, 3-6, 6-4., Anderson has a shot at a fifth career title and second of the year after winning in New York in February., Nishikori leads Anderson 4-2 on career matchups, but the South African won their only previous meeting this year., With a victory on Sunday, Anderson will qualify for the ATP Finals., Currently in ninth place, Nishikori with a win could move to within 125 points of the cut for the eight-man event in London next month., Nishikori held serve throughout against Kukushkin, who came t...   \n",
       "4  [Federer, 37, first broke through on tour over two decades ago and he has since gone on to enjoy a glittering career., The 20-time Grand Slam winner is chasing his 99th ATP title at the Swiss Indoors this week and he faces Jan-Lennard Struff in the second round on Thursday (6pm BST)., Davenport enjoyed most of her success in the late 1990s and her third and final major tournament win came at the 2000 Australian Open., But she claims the mentality of professional tennis players slowly began to change after the new millennium., \"It seems pretty friendly right now,\" said Davenport., \"I think there is a really nice environment and a great atmosphere, especially between some of the veteran players helping some of the younger players out., \"It's a very pleasant atmosphere, I'd have to say, around the locker rooms., \"I felt like the best weeks that I had to get to know players when I was playing were the Fed Cup weeks or the Olympic weeks, not necessarily during the tournaments., \"And eve...   \n",
       "\n",
       "                                                                                                                                                                                                                                                                                                                                                                                                                                                                                                                                                                                                                                                                                                                                                                                                                                                                                                                                                                                                                          WordsInSentences  \\\n",
       "0  [[maria, sharapova, has, basically, no, friends, as, tennis, players, on, the, wta, tour], [the, russian, player, has, no, problems, in, openly, speaking, about, it, and, in, a, recent, interview, she, said, i, do, not, really, hide, any, feelings, too, much], [i, think, everyone, knows, this, is, my, job, here], [when, i, am, on, the, courts, or, when, i, am, on, the, court, playing, i, am, a, competitor, and, i, want, to, beat, every, single, person, whether, they, are, in, the, locker, room, or, across, the, netso, i, am, not, the, one, to, strike, up, a, conversation, about, the, weather, and, know, that, in, the, next, few, minutes, i, have, to, go, and, try, to, win, a, tennis, match], [i, am, a, pretty, competitive, girl], [i, say, my, hellos, but, i, am, not, sending, any, players, flowers, as, well], [uhm, i, am, not, really, friendly, or, close, to, many, players], [i, have, not, a, lot, of, friends, away, from, the, courts], [when, she, said, she, is, not, really, close,...   \n",
       "1  [[basel, switzerland, ap, roger, federer, advanced, to, the, th, swiss, indoors, final, of, his, career, by, beating, seventhseeded, daniil, medvedev, on, saturday], [seeking, a, ninth, title, at, his, hometown, event, and, a, th, overall, federer, will, play, thranked, marius, copil, on, sunday], [federer, dominated, the, thranked, medvedev, and, had, his, first, matchpoint, chance, to, break, serve, again, at], [he, then, dropped, his, serve, to, love, and, let, another, match, point, slip, in, medvedev, s, next, service, game, by, netting, a, backhand], [he, clinched, on, his, fourth, chance, when, medvedev, netted, from, the, baseline], [copil, upset, expectations, of, a, federer, final, against, alexander, zverev, in, a, win, over, the, fifthranked, german, in, the, earlier, semifinal], [the, romanian, aims, for, a, first, title, after, arriving, at, basel, without, a, career, win, over, a, top, opponent], [copil, has, two, after, also, beating, no], [marin, cilic, in, the, se...   \n",
       "2  [[roger, federer, has, revealed, that, organisers, of, the, relaunched, and, condensed, davis, cup, gave, him, three, days, to, decide, if, he, would, commit, to, the, controversial, competition], [speaking, at, the, swiss, indoors, tournament, where, he, will, play, in, sundays, final, against, romanian, qualifier, marius, copil, the, world, number, three, said, that, given, the, impossibly, short, time, frame, to, make, a, decision, he, opted, out, of, any, commitment], [``, they, only, left, me, three, days, to, decide, federer, said], [``, i, did, not, to, have, time, to, consult, with, all, the, people, i, had, to, consult], [``, i, could, not, make, a, decision, in, that, time, so, i, told, them, to, do, what, they, wanted], [the, time, grand, slam, champion, has, voiced, doubts, about, the, wisdom, of, the, oneweek, format, to, be, introduced, by, organisers, kosmos, who, have, promised, the, international, tennis, federation, up, to, billion, in, prize, money, over, the, ne...   \n",
       "3  [[kei, nishikori, will, try, to, end, his, long, losing, streak, in, atp, finals, and, kevin, anderson, will, go, for, his, second, title, of, the, year, at, the, erste, bank, open, on, sunday], [the, fifthseeded, nishikori, reached, his, third, final, of, after, beating, mikhail, kukushkin, of, kazakhstan, in, the, semifinals], [a, winner, of, atp, events, nishikori, has, not, triumphed, since, winning, in, memphis, in, february], [he, has, lost, eight, straight, finals, since], [the, secondseeded, anderson, defeated, fernando, verdasco], [anderson, has, a, shot, at, a, fifth, career, title, and, second, of, the, year, after, winning, in, new, york, in, february], [nishikori, leads, anderson, on, career, matchups, but, the, south, african, won, their, only, previous, meeting, this, year], [with, a, victory, on, sunday, anderson, will, qualify, for, the, atp, finals], [currently, in, ninth, place, nishikori, with, a, win, could, move, to, within, points, of, the, cut, for, the, eig...   \n",
       "4  [[federer, first, broke, through, on, tour, over, two, decades, ago, and, he, has, since, gone, on, to, enjoy, a, glittering, career], [the, time, grand, slam, winner, is, chasing, his, th, atp, title, at, the, swiss, indoors, this, week, and, he, faces, janlennard, struff, in, the, second, round, on, thursday, pm, bst], [davenport, enjoyed, most, of, her, success, in, the, late, s, and, her, third, and, final, major, tournament, win, came, at, the, australian, open], [but, she, claims, the, mentality, of, professional, tennis, players, slowly, began, to, change, after, the, new, millennium], [``, it, seems, pretty, friendly, right, now, said, davenport], [``, i, think, there, is, a, really, nice, environment, and, a, great, atmosphere, especially, between, some, of, the, veteran, players, helping, some, of, the, younger, players, out], [``, it, s, a, very, pleasant, atmosphere, i, would, have, to, say, around, the, locker, rooms], [``, i, felt, like, the, best, weeks, that, i, had...   \n",
       "\n",
       "                                                                                                                                                                                                                                                                                                                                                                                                                                                                                                                                                                                                                                                                                                                                                                                                                                                                                                                                                                                                                            SentenceVector  \\\n",
       "0  [[0.07161230769230773, 0.5263353076923079, -0.22625407692307692, 0.4190584615384615, -0.0952153076923077, -0.10156600000000002, -0.40362538461538466, 0.400633476923077, -0.35831371000000006, -0.11500546153846154, 0.11607930769230769, -0.146259, -0.6847891923076924, 0.014327538461538456, 0.783284653846154, 0.046932615384615385, -0.10918245384615388, 0.054596461538461545, -0.29416438461538463, -0.1929796923076923, -0.2468181230769231, 0.3106658461538461, 0.011112153846153848, 0.30192715384615376, 0.12148384615384614, -1.328529230769231, -0.2920881538461539, -0.07721707692307692, -0.3258306923076923, -0.36910523076923074, 2.7283676923076925, 0.24652538461538465, -0.041018076923076914, 0.07203453846153846, 0.022849225384615382, -0.01111693076923078, 0.2808099230769231, 0.4716086153846154, -0.020941546153846143, -0.6126247692307694, -0.007031076923076909, -0.08967269230769231, 0.18087161538461535, 0.06510876923076923, 0.1128052307692308, -0.027662769230769227, -0.06883483846153847, -0.3...   \n",
       "1  [[-0.04118086363636363, 0.3783945909090909, -0.09865840909090907, 0.2834696363636364, 0.016647883181818177, -0.08658890909090906, -0.23910705000000004, 0.3978880909090909, -0.4083776922727273, -0.0862470909090909, 0.1902452272727273, -0.2986129545454545, -0.6385927272727273, -0.031250136363636376, 0.5444554772727271, -0.1095599090909091, -0.13976365909090907, -0.4376720772727273, -0.6052627727272726, 0.11610288409090913, -0.00404738636363637, -0.022918954545454527, -0.04588368181818183, -0.01739659090909088, -0.029735613636363633, -1.1522947090909093, 0.07495704545454546, -0.22785550000000002, -0.23360109090909092, -0.08926977272727274, 2.1310990909090908, 0.1533223181818182, -0.07642998636363636, 4.954545454545331e-05, -0.12957568500000002, -0.09078812272727271, 0.23761849999999998, 0.5697758181818182, 0.022155650000000006, -0.1867798181818182, 0.2605305909090909, -0.06329845454545456, 0.2951025909090909, -0.1664764681818182, 0.15181086363636365, 0.1326979090909091, -0.01367409545...   \n",
       "2  [[0.25328906296296294, 0.12198537037037037, -0.11345479181481483, 0.1446348814814815, 0.1525931851851852, 0.16861987777777784, -0.38139322592592595, 0.2617922222222222, -0.23743694296296297, -0.03473777777777776, 0.035870111111111116, 0.12096629629629627, -0.6220851851851853, -0.0933997037037037, 0.7065455925925925, 0.143282037037037, 0.12736662962962964, -0.19685677777777782, -0.4711523333333333, -0.31522065185185183, 0.1199826296296296, 0.054465311111111095, 0.31118688888888885, -0.10871659259259264, 0.014215555555555558, -1.5483337037037042, -0.10728948148148147, -0.04703542592592592, -0.1138865925925926, -0.21412614814814818, 2.7733540740740743, 0.15372562962962966, -0.41941892592592583, -0.25126889407407405, 0.026628517037037034, -0.11579138518518517, 0.22920711111111114, 0.3417279444444446, -0.09856985555555556, -0.39040711111111115, -0.08489601111111111, -0.02059985185185185, -0.0706187777777778, 0.04860455555555556, -0.06971725925925926, 0.09703904074074075, -0.217581044444...   \n",
       "3  [[-0.07639146874999997, 0.3170033437499999, -0.05655231249999998, 0.33123381250000006, 0.11854274999999999, -0.04550446874999999, -0.41850468749999997, 0.2692358625, -0.25405875718750004, -0.10351577749999999, 0.03690078124999999, -0.08491131562500001, -0.7030106250000001, 0.0020322187500000045, 0.4821976250000001, 0.15320184375, 0.038407875000000015, -0.26271625000000004, -0.6549773749999999, -0.08030978124999998, 0.05498265625000004, 0.035396353125, 0.010837625000000024, -0.04316790625000001, -0.06018543750000003, -1.4377952499999995, 0.05665375, -0.14137571874999993, -0.10342975000000001, -0.27637156250000006, 2.944246562499999, 0.3364460625, -0.16078259374999998, 0.04588156249999999, 0.12576624250000004, -0.1341709625, 0.17272203125000005, 0.2543388749999999, 0.10677622156249998, -0.45882850000000003, -0.2480130625, -0.054150100000000014, 0.0020541562499999944, -0.07792875625, -0.07798153124999999, 0.08807103125, 0.05978199375, -0.27529034375000005, 0.019644781249999993, -0.121...   \n",
       "4  [[0.08898900000000001, 0.26611004761904766, -0.192052, 0.06671333333333333, 0.028799476190476233, 0.09485580952380952, -0.7151614285714287, 0.18457328571428572, -0.19910014285714284, -0.0065385238095237675, -0.0994645904761905, -0.25375309523809514, -0.6728928571428572, 0.07200021428571428, 0.5973166666666666, -0.07204279047619051, -0.084204, -0.14471214285714284, -0.630137619047619, -0.12544587142857144, 0.11530611428571426, 0.2953277142857143, 0.12353749047619043, -0.15412176190476187, 0.03485861904761905, -1.515292, -0.056055095238095216, 0.032189685714285717, 0.09830066666666666, -0.1126077142857143, 3.173791904761904, 0.2494000952380952, -0.12230876190476193, -0.060254952380952354, 0.0332806, 0.06226409523809525, -0.017406476190476177, 0.43230761904761905, -0.13516719047619047, -0.27663478095238103, -0.3494240952380953, 0.0450542619047619, -0.06251766666666667, 0.05574223809523809, -0.17952464285714287, 0.029179333333333328, -0.09026942857142857, -0.3474336666666667, -0.323819...   \n",
       "\n",
       "                                                                                                                                                                                                                                                                                                                                                                                                                                                                                                                                                                                                                                                                                                                                                                                                                                                                                                                                                                                                                                 SimMatrix  \\\n",
       "0  [[1.0, 0.880420442283511, 0.8400741992486218, 0.9129596149615926, 0.8445816500505545, 0.8497893583785375, 0.8768521662830949, 0.886258925167321, 0.876688184230672, 0.9263429106619361, 0.8600162727238753, 0.88957833049645, 0.8313178033584998, 0.8565959297474461, 0.8824241286286072, 0.8868385761498727, 0.8136190246763892], [0.880420442283511, 1.0000000000000002, 0.9408964676641778, 0.9686965549113968, 0.8942781393973298, 0.9586334393985563, 0.9585076101382632, 0.9730773874995189, 0.987312380978821, 0.9125283526364882, 0.9594498058208407, 0.9640488970318378, 0.9632944418681554, 0.9732690670320119, 0.9616582246780773, 0.974151095849337, 0.9564473923061918], [0.8400741992486218, 0.9408964676641778, 1.0000000000000002, 0.9303313796847564, 0.9448434579223794, 0.9570165239566273, 0.9414391114508265, 0.9183752804522206, 0.9549370028865451, 0.8407753229364421, 0.9105576429589423, 0.9547127695525696, 0.9563604609626245, 0.9106663731073268, 0.9699327533307838, 0.9504200626490287, 0.91175028446...   \n",
       "1  [[1.0000000000000002, 0.9391639373355007, 0.9307522110759219, 0.899932755237149, 0.9172938800282447, 0.9626628857481271, 0.934861804332921, 0.8938092579437089, 0.8804549781210645, 0.9216610711649499, 0.9439823399768446, 0.9368768103038478], [0.9391639373355007, 0.9999999999999998, 0.9590753442930997, 0.9545913133228343, 0.9528792368179219, 0.9553589646243109, 0.9689212828797168, 0.9139367907240121, 0.879474718224307, 0.9466865464698169, 0.9505593999176922, 0.9534933423641498], [0.9307522110759219, 0.9590753442930997, 1.0, 0.972182527531525, 0.9721491435562676, 0.9463277226261602, 0.9632049988168381, 0.9278317156075313, 0.8424749724723962, 0.9613402990642099, 0.9559511700041592, 0.971995973737884], [0.899932755237149, 0.9545913133228343, 0.972182527531525, 1.0, 0.9642442760618064, 0.9328682740703543, 0.9597571522743923, 0.9363511660057904, 0.8178646327759684, 0.9608485662217539, 0.9396667766705222, 0.9642596661343519], [0.9172938800282447, 0.9528792368179219, 0.9721491435562676, 0.9...   \n",
       "2  [[1.0, 0.9772061276453379, 0.951790386616839, 0.9448210894496429, 0.9351282498377054, 0.9750612611549272, 0.9539208470148968, 0.9046248674854223, 0.961785232854811, 0.9663365365891443, 0.9738969346985846, 0.9159659578335572, 0.8965611849080808, 0.8871832731065487, 0.9398876346321879, 0.953962386276234, 0.9597398264503099], [0.9772061276453379, 1.0000000000000004, 0.9497427778793324, 0.9384559908111847, 0.9231753532419458, 0.9756371154431448, 0.9700419828070539, 0.9181175871111414, 0.9667316120890909, 0.9811705235874818, 0.9797829230989518, 0.9133950562581032, 0.8879569829263727, 0.877293606352141, 0.9483639708411764, 0.9669197946744467, 0.9515405716808203], [0.951790386616839, 0.9497427778793324, 1.0000000000000002, 0.9702831438353756, 0.970842339602939, 0.916412762938793, 0.8950679501871505, 0.855710885392937, 0.8917756892985307, 0.9444366893056058, 0.9449536509164793, 0.9219111097335502, 0.948968909416335, 0.9339495896540289, 0.8831803301115707, 0.9036583889977594, 0.967776746930...   \n",
       "3  [[0.9999999999999999, 0.9268082423022341, 0.9500899587953415, 0.9517633365226178, 0.7383743292935218, 0.9582269727510496, 0.9677908150487919, 0.9726435835315522, 0.9805214180344, 0.916135322127134, 0.9727739285502532, 0.9420905665125072, 0.9783482595950053], [0.9268082423022341, 1.0, 0.9359895280638497, 0.9238343699826341, 0.7720182239684141, 0.9037056998948562, 0.9060565376698426, 0.9086881754446946, 0.9150137635027646, 0.9424139581774519, 0.9035654239973112, 0.9244354573383684, 0.9146555173852589], [0.9500899587953415, 0.9359895280638497, 1.0, 0.947215435326769, 0.7208234459991583, 0.9556237251359965, 0.9490252115717184, 0.9485280491513068, 0.9471744264733063, 0.8948524955803798, 0.9211798790328556, 0.9127764761254509, 0.9366944690524796], [0.9517633365226178, 0.9238343699826341, 0.947215435326769, 0.9999999999999999, 0.7470258013395212, 0.9401162641728793, 0.9548527413531406, 0.9399709130143058, 0.9328581003661707, 0.9225549258423351, 0.9381192110303656, 0.9446534340858407, 0.93...   \n",
       "4  [[1.0, 0.9468843115398349, 0.9705168017959297, 0.9641929440649757, 0.8572741636426491, 0.9264909465471118, 0.8980719185670478, 0.9482980647025121, 0.8770048395622202, 0.9447884841718674, 0.9200276542654029, 0.9595743772956162, 0.8605769351513024, 0.895688399095454, 0.9052507304769293, 0.8773269095205117, 0.9024961655974597, 0.9189955410244359], [0.9468843115398349, 0.9999999999999998, 0.9693094316478585, 0.9331341417815475, 0.8175790103192752, 0.8761269630935757, 0.8582689221236641, 0.917611139347192, 0.82081874840584, 0.89064316519317, 0.8641524050342821, 0.952737462094401, 0.8540940549997247, 0.8500680716423413, 0.8547905838584531, 0.82705682935472, 0.873008902490157, 0.911892925776232], [0.9705168017959297, 0.9693094316478585, 1.0, 0.9597463997863577, 0.8531157662280926, 0.9143513617942784, 0.869714255048201, 0.9298578985688654, 0.8495668390370237, 0.9255798424851369, 0.8980565881009153, 0.9647801263026585, 0.8692132277819907, 0.8708320033297279, 0.8837203820825559, 0.8453756571...   \n",
       "\n",
       "                                                                                                                                                                                                                                                                                                                                                                                                                                                          Graph  \\\n",
       "0                             {0: 0.05554199464753272, 1: 0.05964251627873144, 2: 0.05841053156540537, 3: 0.05969349780006848, 4: 0.05648586101195639, 5: 0.05921860498291677, 6: 0.05938610203482372, 7: 0.05950432590883181, 8: 0.05960892627588667, 9: 0.05691782210622912, 10: 0.059056937650340785, 11: 0.05997064367483894, 12: 0.05923363532028829, 13: 0.05916500837372274, 14: 0.05972978591413795, 15: 0.059770390866579516, 16: 0.05866341558770929}   \n",
       "1                                                                                                                                                             {0: 0.08280383151040135, 1: 0.08414085724581552, 2: 0.08432108417617107, 3: 0.08368550156985338, 4: 0.08380632661698972, 5: 0.0842106863836852, 6: 0.08423072171092183, 7: 0.08217240634648845, 8: 0.07803272724908605, 9: 0.08402587246443441, 10: 0.08420666324869616, 11: 0.08436332147745673}   \n",
       "2                          {0: 0.06008138779368386, 1: 0.06016952925873331, 2: 0.05929462776423261, 3: 0.059250959964249075, 4: 0.05894224152287655, 5: 0.059594063546770375, 6: 0.05872588960926853, 7: 0.055908652941693414, 8: 0.05855726445284261, 9: 0.06002909631638909, 10: 0.05975760331574931, 11: 0.058238693084588504, 12: 0.05746790893179006, 13: 0.05709791262376831, 14: 0.05880455854021845, 15: 0.05831875456401707, 16: 0.059760855769128846}   \n",
       "3                                                                                                                                     {0: 0.07884942459494733, 1: 0.076786240355964, 2: 0.07755623255692082, 3: 0.07790231150789537, 4: 0.06568064676580998, 5: 0.07782711862788344, 6: 0.07819976521864529, 7: 0.07791126434159013, 8: 0.07831878189890612, 9: 0.07613436255899811, 10: 0.07811936865749713, 11: 0.07797299373283016, 12: 0.07874148918211225}   \n",
       "4  {0: 0.05474884008349666, 1: 0.053196838300131825, 2: 0.05420341395849682, 3: 0.05576352182776294, 4: 0.05487434189342311, 5: 0.05632692183918092, 6: 0.055775004398751604, 7: 0.05661708691870228, 8: 0.05578384952914668, 9: 0.0566644616084422, 10: 0.056507976747806866, 11: 0.05567049718230454, 12: 0.05461628803283694, 13: 0.05593824773931598, 14: 0.05630664935545962, 15: 0.05565679732004065, 16: 0.055840596217660424, 17: 0.055508667047040064}   \n",
       "\n",
       "                                                                                                                                                                                                                                                                                                                                                                                                                                                                                                                                                                                 Summary  \n",
       "0                                                                                                                                                                                                         I think just because you're in the same sport doesn't mean that you have to be friends with everyone just because you're categorized, you're a tennis player, so you're going to get along with tennis players. But ultimately tennis is just a very small part of what we do. I think everyone just thinks because we're tennis players we should be the greatest of friends.  \n",
       "1                                                                                                                                                                                                                                           Federer had an easier time than in his only previous match against Medvedev, a three-setter at Shanghai two weeks ago. Federer dominated the 20th-ranked Medvedev and had his first match-point chance to break serve again at 5-1. The Romanian aims for a first title after arriving at Basel without a career win over a top-10 opponent.  \n",
       "2  Speaking at the Swiss Indoors tournament where he will play in Sundays final against Romanian qualifier Marius Copil, the world number three said that given the impossibly short time frame to make a decision, he opted out of any commitment. Roger Federer has revealed that organisers of the re-launched and condensed Davis Cup gave him three days to decide if he would commit to the controversial competition. Major players feel that a big event in late November combined with one in January before the Australian Open will mean too much tennis and too little rest.  \n",
       "3                                                                                                                                                  Kei Nishikori will try to end his long losing streak in ATP finals and Kevin Anderson will go for his second title of the year at the Erste Bank Open on Sunday. The Spaniard broke Anderson twice in the second but didn't get another chance on the South African's serve in the final set. Currently in ninth place, Nishikori with a win could move to within 125 points of the cut for the eight-man event in London next month.  \n",
       "4  \"Not always, but I really feel like in the mid-2000 years there was a huge shift of the attitudes of the top players and being more friendly and being more giving, and a lot of that had to do with players like Roger coming up. \"I felt like the best weeks that I had to get to know players when I was playing were the Fed Cup weeks or the Olympic weeks, not necessarily during the tournaments. \"I just felt like it really kind of changed where people were a little bit, definitely in the 90s, a lot more quiet, into themselves, and then it started to become better.\"  "
      ]
     },
     "execution_count": 86,
     "metadata": {},
     "output_type": "execute_result"
    }
   ],
   "source": [
    "articles.head()"
   ]
  },
  {
   "cell_type": "code",
   "execution_count": 87,
   "metadata": {},
   "outputs": [],
   "source": [
    "def get_summary(idx):\n",
    "    print('Original text - ')\n",
    "    print(articles['article_text'][idx])\n",
    "    print(' ')\n",
    "    print('Summary - ')\n",
    "    print(articles['Summary'])"
   ]
  },
  {
   "cell_type": "code",
   "execution_count": 90,
   "metadata": {},
   "outputs": [
    {
     "name": "stdout",
     "output_type": "stream",
     "text": [
      "Original text - \n",
      "Maria Sharapova has basically no friends as tennis players on the WTA Tour. The Russian player has no problems in openly speaking about it and in a recent interview she said: 'I don't really hide any feelings too much. I think everyone knows this is my job here. When I'm on the courts or when I'm on the court playing, I'm a competitor and I want to beat every single person whether they're in the locker room or across the net.So I'm not the one to strike up a conversation about the weather and know that in the next few minutes I have to go and try to win a tennis match. I'm a pretty competitive girl. I say my hellos, but I'm not sending any players flowers as well. Uhm, I'm not really friendly or close to many players. I have not a lot of friends away from the courts.' When she said she is not really close to a lot of players, is that something strategic that she is doing? Is it different on the men's tour than the women's tour? 'No, not at all. I think just because you're in the same sport doesn't mean that you have to be friends with everyone just because you're categorized, you're a tennis player, so you're going to get along with tennis players. I think every person has different interests. I have friends that have completely different jobs and interests, and I've met them in very different parts of my life. I think everyone just thinks because we're tennis players we should be the greatest of friends. But ultimately tennis is just a very small part of what we do. There are so many other things that we're interested in, that we do.'\n",
      " \n",
      "Summary - \n",
      "0                                                                                                                                                                                                           I think just because you're in the same sport doesn't mean that you have to be friends with everyone just because you're categorized, you're a tennis player, so you're going to get along with tennis players. But ultimately tennis is just a very small part of what we do. I think everyone just thinks because we're tennis players we should be the greatest of friends.\n",
      "1                                                                                                                                                                                                                                             Federer had an easier time than in his only previous match against Medvedev, a three-setter at Shanghai two weeks ago. Federer dominated the 20th-ranked Medvedev and had his first match-point chance to break serve again at 5-1. The Romanian aims for a first title after arriving at Basel without a career win over a top-10 opponent.\n",
      "2    Speaking at the Swiss Indoors tournament where he will play in Sundays final against Romanian qualifier Marius Copil, the world number three said that given the impossibly short time frame to make a decision, he opted out of any commitment. Roger Federer has revealed that organisers of the re-launched and condensed Davis Cup gave him three days to decide if he would commit to the controversial competition. Major players feel that a big event in late November combined with one in January before the Australian Open will mean too much tennis and too little rest.\n",
      "3                                                                                                                                                    Kei Nishikori will try to end his long losing streak in ATP finals and Kevin Anderson will go for his second title of the year at the Erste Bank Open on Sunday. The Spaniard broke Anderson twice in the second but didn't get another chance on the South African's serve in the final set. Currently in ninth place, Nishikori with a win could move to within 125 points of the cut for the eight-man event in London next month.\n",
      "4    \"Not always, but I really feel like in the mid-2000 years there was a huge shift of the attitudes of the top players and being more friendly and being more giving, and a lot of that had to do with players like Roger coming up. \"I felt like the best weeks that I had to get to know players when I was playing were the Fed Cup weeks or the Olympic weeks, not necessarily during the tournaments. \"I just felt like it really kind of changed where people were a little bit, definitely in the 90s, a lot more quiet, into themselves, and then it started to become better.\"\n",
      "5                                                                                                                                                                         But as it stands, Federer is in the draw and is scheduled to face either former world No 3 Milos Raonic or Jo-Wilfried Tsonga in the second round. The world No 1 has been forced to miss Spain's Davis Cup clash with France and the Asian hard court season. The Paris Masters draw has been made and Nadal will start his campaign on Tuesday or Wednesday against either Fernando Verdasco or Jeremy Chardy.\n",
      "6                                                                                                                                   The end of the season is finally in sight, and with so many players defending,or losing,huge chunks of points in Singapore, Zhuhai and London, podcast co-hosts Nina Pantic and Irina Falconi discuss the art of defending points (02:14). It's no secret that Jack Sock has struggled on the singles court this year (his record is 7-19). Nina and Irina give their opinions on what coaching should look like in the future, on both tours (18:55).\n",
      "7                                                                                                                                                                                                                                                                                                                                       \"We also had the impression that at this stage it might be better to play matches than to train. Because it was not always easy in the last weeks.\" \"On Monday, I am free and will look how I feel,\" Federer said after winning the Swiss Indoors.\n",
      "Name: Summary, dtype: object\n"
     ]
    }
   ],
   "source": [
    "get_summary(0)"
   ]
  },
  {
   "cell_type": "code",
   "execution_count": null,
   "metadata": {},
   "outputs": [],
   "source": []
  }
 ],
 "metadata": {
  "kernelspec": {
   "display_name": "Python 3",
   "language": "python",
   "name": "python3"
  },
  "language_info": {
   "codemirror_mode": {
    "name": "ipython",
    "version": 3
   },
   "file_extension": ".py",
   "mimetype": "text/x-python",
   "name": "python",
   "nbconvert_exporter": "python",
   "pygments_lexer": "ipython3",
   "version": "3.8.3"
  }
 },
 "nbformat": 4,
 "nbformat_minor": 4
}
