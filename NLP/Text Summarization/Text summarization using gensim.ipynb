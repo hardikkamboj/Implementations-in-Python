{
 "cells": [
  {
   "cell_type": "markdown",
   "metadata": {},
   "source": [
    "# Summarizing using Gensim"
   ]
  },
  {
   "cell_type": "code",
   "execution_count": 20,
   "metadata": {},
   "outputs": [],
   "source": [
    "import requests \n",
    "from bs4 import BeautifulSoup\n",
    "from nltk import sent_tokenize\n",
    "\n",
    "from gensim.summarization import summarize"
   ]
  },
  {
   "cell_type": "code",
   "execution_count": 2,
   "metadata": {},
   "outputs": [
    {
     "data": {
      "text/plain": [
       "<Response [200]>"
      ]
     },
     "execution_count": 2,
     "metadata": {},
     "output_type": "execute_result"
    }
   ],
   "source": [
    "r = requests.get('https://click.palletsprojects.com/en/7.x/why/')\n",
    "r"
   ]
  },
  {
   "cell_type": "code",
   "execution_count": 3,
   "metadata": {},
   "outputs": [],
   "source": [
    "r.encoding = 'utf-8'"
   ]
  },
  {
   "cell_type": "code",
   "execution_count": 4,
   "metadata": {},
   "outputs": [],
   "source": [
    "soup = BeautifulSoup(r.text)"
   ]
  },
  {
   "cell_type": "code",
   "execution_count": 17,
   "metadata": {},
   "outputs": [],
   "source": [
    "# find tag with id = 'why click'\n",
    "why_click = soup.find(id='why-click').text.replace('\\n',' ')"
   ]
  },
  {
   "cell_type": "code",
   "execution_count": 18,
   "metadata": {},
   "outputs": [
    {
     "name": "stdout",
     "output_type": "stream",
     "text": [
      " Why Click?¶ There are so many libraries out there for writing command line utilities; why does Click exist? This question is easy to answer: because there is not a single command line utility for Python out there which ticks the following boxes:  is lazily composable without restrictions supports implementation of Unix/POSIX command line conventions supports loading values from environment variables out of the box support for prompting of custom values is fully nestable and composable works the same in Python 2 and 3 supports file handling out of the box comes with useful common helpers (getting terminal dimensions, ANSI colors, fetching direct keyboard input, screen clearing, finding config paths, launching apps and editors, etc.)  There are many alternatives to Click; the obvious ones are optparse and argparse from the standard library. Have a look to see if something else resonates with you. Click actually implements its own parsing of arguments and does not use optparse or argparse following the optparse parsing behavior. The reason it’s not based on argparse is that argparse does not allow proper nesting of commands by design and has some deficiencies when it comes to POSIX compliant argument handling. Click is designed to be fun and customizable but not overly flexible. For instance, the customizability of help pages is constrained. This constraint is intentional because Click promises multiple Click instances will continue to function as intended when strung together. Too much customizability would break this promise. Click was written to support the Flask microframework ecosystem because no tool could provide it with the functionality it needed. To get an understanding of what Click is all about, I strongly recommend looking at the Complex Applications chapter.  Why not Argparse?¶ Click is internally based on optparse instead of argparse. This is an implementation detail that a user does not have to be concerned with. Click is not based on argparse because it has some behaviors that make handling arbitrary command line interfaces hard:  argparse has built-in behavior to guess if something is an argument or an option. This becomes a problem when dealing with incomplete command lines; the behaviour becomes unpredictable without full knowledge of a command line. This goes against Click’s ambitions of dispatching to subparsers. argparse does not support disabling interspersed arguments. Without this feature, it’s not possible to safely implement Click’s nested parsing.    Why not Docopt etc.?¶ Docopt, and many tools like it, are cool in how they work, but very few of these tools deal with nesting of commands and composability in a way like Click.  To the best of the developer’s knowledge, Click is the first Python library that aims to create a level of composability of applications that goes beyond what the system itself supports. Docopt, for instance, acts by parsing your help pages and then parsing according to those rules.  The side effect of this is that docopt is quite rigid in how it handles the command line interface.  The upside of docopt is that it gives you strong control over your help page; the downside is that due to this it cannot rewrap your output for the current terminal width, and it makes translations hard.  On top of that, docopt is restricted to basic parsing.  It does not handle argument dispatching and callback invocation or types.  This means there is a lot of code that needs to be written in addition to the basic help page to handle the parsing results. Most of all, however, it makes composability hard.  While docopt does support dispatching to subcommands, it, for instance, does not directly support any kind of automatic subcommand enumeration based on what’s available or it does not enforce subcommands to work in a consistent way. This is fine, but it’s different from how Click wants to work.  Click aims to support fully composable command line user interfaces by doing the following:  Click does not just parse, it also dispatches to the appropriate code. Click has a strong concept of an invocation context that allows subcommands to respond to data from the parent command. Click has strong information available for all parameters and commands, so it can generate unified help pages for the full CLI and assist the user in converting the input data as necessary. Click has a strong understanding of what types are, and it can give the user consistent error messages if something goes wrong.  A subcommand written by a different developer will not suddenly die with a different error message because it’s manually handled. Click has enough meta information available for its whole program to evolve over time and improve the user experience without forcing developers to adjust their programs.  For instance, if Click decides to change how help pages are formatted, all Click programs will automatically benefit from this.  The aim of Click is to make composable systems. Whereas, the aim of docopt is to build the most beautiful and hand-crafted command line interfaces. These two goals conflict with one another in subtle ways.  Click actively prevents people from implementing certain patterns in order to achieve unified command line interfaces.  For instance, as a developer, you are given very little choice in formatting your help pages.   Why Hardcoded Behaviors?¶ The other question is why Click goes away from optparse and hardcodes certain behaviors instead of staying configurable.  There are multiple reasons for this.  The biggest one is that too much configurability makes it hard to achieve a consistent command line experience. The best example for this is optparse’s callback functionality for accepting an arbitrary number of arguments.  Due to syntactical ambiguities on the command line, there is no way to implement fully variadic arguments. There are always tradeoffs that need to be made and in case of argparse these tradeoffs have been critical enough, that a system like Click cannot even be implemented on top of it. In this particular case, Click attempts to stay with a handful of accepted paradigms for building command line interfaces that can be well documented and tested.   Why No Auto Correction?¶ The question came up why Click does not auto correct parameters given that even optparse and argparse support automatic expansion of long arguments. The reason for this is that it’s a liability for backwards compatibility. If people start relying on automatically modified parameters and someone adds a new parameter in the future, the script might stop working.  These kinds of problems are hard to find, so Click does not attempt to be magical about this. This sort of behavior however can be implemented on a higher level to support things such as explicit aliases.  For more information see Command Aliases.  \n"
     ]
    }
   ],
   "source": [
    "print(why_click)"
   ]
  },
  {
   "cell_type": "code",
   "execution_count": 19,
   "metadata": {},
   "outputs": [
    {
     "data": {
      "text/html": [
       "<div>\n",
       "<style scoped>\n",
       "    .dataframe tbody tr th:only-of-type {\n",
       "        vertical-align: middle;\n",
       "    }\n",
       "\n",
       "    .dataframe tbody tr th {\n",
       "        vertical-align: top;\n",
       "    }\n",
       "\n",
       "    .dataframe thead th {\n",
       "        text-align: right;\n",
       "    }\n",
       "</style>\n",
       "<table border=\"1\" class=\"dataframe\">\n",
       "  <thead>\n",
       "    <tr style=\"text-align: right;\">\n",
       "      <th></th>\n",
       "      <th>Sentence</th>\n",
       "    </tr>\n",
       "  </thead>\n",
       "  <tbody>\n",
       "    <tr>\n",
       "      <th>0</th>\n",
       "      <td>Why Click?¶ There are so many libraries out there for writing command line utilities; why does Click exist?</td>\n",
       "    </tr>\n",
       "    <tr>\n",
       "      <th>1</th>\n",
       "      <td>This question is easy to answer: because there is not a single command line utility for Python out there which ticks the following boxes:  is lazily composable without restrictions supports implementation of Unix/POSIX command line conventions supports loading values from environment variables out of the box support for prompting of custom values is fully nestable and composable works the same in Python 2 and 3 supports file handling out of the box comes with useful common helpers (getting t...</td>\n",
       "    </tr>\n",
       "    <tr>\n",
       "      <th>2</th>\n",
       "      <td>There are many alternatives to Click; the obvious ones are optparse and argparse from the standard library.</td>\n",
       "    </tr>\n",
       "    <tr>\n",
       "      <th>3</th>\n",
       "      <td>Have a look to see if something else resonates with you.</td>\n",
       "    </tr>\n",
       "    <tr>\n",
       "      <th>4</th>\n",
       "      <td>Click actually implements its own parsing of arguments and does not use optparse or argparse following the optparse parsing behavior.</td>\n",
       "    </tr>\n",
       "    <tr>\n",
       "      <th>5</th>\n",
       "      <td>The reason it’s not based on argparse is that argparse does not allow proper nesting of commands by design and has some deficiencies when it comes to POSIX compliant argument handling.</td>\n",
       "    </tr>\n",
       "    <tr>\n",
       "      <th>6</th>\n",
       "      <td>Click is designed to be fun and customizable but not overly flexible.</td>\n",
       "    </tr>\n",
       "    <tr>\n",
       "      <th>7</th>\n",
       "      <td>For instance, the customizability of help pages is constrained.</td>\n",
       "    </tr>\n",
       "    <tr>\n",
       "      <th>8</th>\n",
       "      <td>This constraint is intentional because Click promises multiple Click instances will continue to function as intended when strung together.</td>\n",
       "    </tr>\n",
       "    <tr>\n",
       "      <th>9</th>\n",
       "      <td>Too much customizability would break this promise.</td>\n",
       "    </tr>\n",
       "    <tr>\n",
       "      <th>10</th>\n",
       "      <td>Click was written to support the Flask microframework ecosystem because no tool could provide it with the functionality it needed.</td>\n",
       "    </tr>\n",
       "    <tr>\n",
       "      <th>11</th>\n",
       "      <td>To get an understanding of what Click is all about, I strongly recommend looking at the Complex Applications chapter.</td>\n",
       "    </tr>\n",
       "    <tr>\n",
       "      <th>12</th>\n",
       "      <td>Why not Argparse?¶ Click is internally based on optparse instead of argparse.</td>\n",
       "    </tr>\n",
       "    <tr>\n",
       "      <th>13</th>\n",
       "      <td>This is an implementation detail that a user does not have to be concerned with.</td>\n",
       "    </tr>\n",
       "    <tr>\n",
       "      <th>14</th>\n",
       "      <td>Click is not based on argparse because it has some behaviors that make handling arbitrary command line interfaces hard:  argparse has built-in behavior to guess if something is an argument or an option.</td>\n",
       "    </tr>\n",
       "    <tr>\n",
       "      <th>15</th>\n",
       "      <td>This becomes a problem when dealing with incomplete command lines; the behaviour becomes unpredictable without full knowledge of a command line.</td>\n",
       "    </tr>\n",
       "    <tr>\n",
       "      <th>16</th>\n",
       "      <td>This goes against Click’s ambitions of dispatching to subparsers.</td>\n",
       "    </tr>\n",
       "    <tr>\n",
       "      <th>17</th>\n",
       "      <td>argparse does not support disabling interspersed arguments.</td>\n",
       "    </tr>\n",
       "    <tr>\n",
       "      <th>18</th>\n",
       "      <td>Without this feature, it’s not possible to safely implement Click’s nested parsing.</td>\n",
       "    </tr>\n",
       "    <tr>\n",
       "      <th>19</th>\n",
       "      <td>Why not Docopt etc.</td>\n",
       "    </tr>\n",
       "    <tr>\n",
       "      <th>20</th>\n",
       "      <td>?¶ Docopt, and many tools like it, are cool in how they work, but very few of these tools deal with nesting of commands and composability in a way like Click.</td>\n",
       "    </tr>\n",
       "    <tr>\n",
       "      <th>21</th>\n",
       "      <td>To the best of the developer’s knowledge, Click is the first Python library that aims to create a level of composability of applications that goes beyond what the system itself supports.</td>\n",
       "    </tr>\n",
       "    <tr>\n",
       "      <th>22</th>\n",
       "      <td>Docopt, for instance, acts by parsing your help pages and then parsing according to those rules.</td>\n",
       "    </tr>\n",
       "    <tr>\n",
       "      <th>23</th>\n",
       "      <td>The side effect of this is that docopt is quite rigid in how it handles the command line interface.</td>\n",
       "    </tr>\n",
       "    <tr>\n",
       "      <th>24</th>\n",
       "      <td>The upside of docopt is that it gives you strong control over your help page; the downside is that due to this it cannot rewrap your output for the current terminal width, and it makes translations hard.</td>\n",
       "    </tr>\n",
       "    <tr>\n",
       "      <th>25</th>\n",
       "      <td>On top of that, docopt is restricted to basic parsing.</td>\n",
       "    </tr>\n",
       "    <tr>\n",
       "      <th>26</th>\n",
       "      <td>It does not handle argument dispatching and callback invocation or types.</td>\n",
       "    </tr>\n",
       "    <tr>\n",
       "      <th>27</th>\n",
       "      <td>This means there is a lot of code that needs to be written in addition to the basic help page to handle the parsing results.</td>\n",
       "    </tr>\n",
       "    <tr>\n",
       "      <th>28</th>\n",
       "      <td>Most of all, however, it makes composability hard.</td>\n",
       "    </tr>\n",
       "    <tr>\n",
       "      <th>29</th>\n",
       "      <td>While docopt does support dispatching to subcommands, it, for instance, does not directly support any kind of automatic subcommand enumeration based on what’s available or it does not enforce subcommands to work in a consistent way.</td>\n",
       "    </tr>\n",
       "    <tr>\n",
       "      <th>30</th>\n",
       "      <td>This is fine, but it’s different from how Click wants to work.</td>\n",
       "    </tr>\n",
       "    <tr>\n",
       "      <th>31</th>\n",
       "      <td>Click aims to support fully composable command line user interfaces by doing the following:  Click does not just parse, it also dispatches to the appropriate code.</td>\n",
       "    </tr>\n",
       "    <tr>\n",
       "      <th>32</th>\n",
       "      <td>Click has a strong concept of an invocation context that allows subcommands to respond to data from the parent command.</td>\n",
       "    </tr>\n",
       "    <tr>\n",
       "      <th>33</th>\n",
       "      <td>Click has strong information available for all parameters and commands, so it can generate unified help pages for the full CLI and assist the user in converting the input data as necessary.</td>\n",
       "    </tr>\n",
       "    <tr>\n",
       "      <th>34</th>\n",
       "      <td>Click has a strong understanding of what types are, and it can give the user consistent error messages if something goes wrong.</td>\n",
       "    </tr>\n",
       "    <tr>\n",
       "      <th>35</th>\n",
       "      <td>A subcommand written by a different developer will not suddenly die with a different error message because it’s manually handled.</td>\n",
       "    </tr>\n",
       "    <tr>\n",
       "      <th>36</th>\n",
       "      <td>Click has enough meta information available for its whole program to evolve over time and improve the user experience without forcing developers to adjust their programs.</td>\n",
       "    </tr>\n",
       "    <tr>\n",
       "      <th>37</th>\n",
       "      <td>For instance, if Click decides to change how help pages are formatted, all Click programs will automatically benefit from this.</td>\n",
       "    </tr>\n",
       "    <tr>\n",
       "      <th>38</th>\n",
       "      <td>The aim of Click is to make composable systems.</td>\n",
       "    </tr>\n",
       "    <tr>\n",
       "      <th>39</th>\n",
       "      <td>Whereas, the aim of docopt is to build the most beautiful and hand-crafted command line interfaces.</td>\n",
       "    </tr>\n",
       "    <tr>\n",
       "      <th>40</th>\n",
       "      <td>These two goals conflict with one another in subtle ways.</td>\n",
       "    </tr>\n",
       "    <tr>\n",
       "      <th>41</th>\n",
       "      <td>Click actively prevents people from implementing certain patterns in order to achieve unified command line interfaces.</td>\n",
       "    </tr>\n",
       "    <tr>\n",
       "      <th>42</th>\n",
       "      <td>For instance, as a developer, you are given very little choice in formatting your help pages.</td>\n",
       "    </tr>\n",
       "    <tr>\n",
       "      <th>43</th>\n",
       "      <td>Why Hardcoded Behaviors?¶ The other question is why Click goes away from optparse and hardcodes certain behaviors instead of staying configurable.</td>\n",
       "    </tr>\n",
       "    <tr>\n",
       "      <th>44</th>\n",
       "      <td>There are multiple reasons for this.</td>\n",
       "    </tr>\n",
       "    <tr>\n",
       "      <th>45</th>\n",
       "      <td>The biggest one is that too much configurability makes it hard to achieve a consistent command line experience.</td>\n",
       "    </tr>\n",
       "    <tr>\n",
       "      <th>46</th>\n",
       "      <td>The best example for this is optparse’s callback functionality for accepting an arbitrary number of arguments.</td>\n",
       "    </tr>\n",
       "    <tr>\n",
       "      <th>47</th>\n",
       "      <td>Due to syntactical ambiguities on the command line, there is no way to implement fully variadic arguments.</td>\n",
       "    </tr>\n",
       "    <tr>\n",
       "      <th>48</th>\n",
       "      <td>There are always tradeoffs that need to be made and in case of argparse these tradeoffs have been critical enough, that a system like Click cannot even be implemented on top of it.</td>\n",
       "    </tr>\n",
       "    <tr>\n",
       "      <th>49</th>\n",
       "      <td>In this particular case, Click attempts to stay with a handful of accepted paradigms for building command line interfaces that can be well documented and tested.</td>\n",
       "    </tr>\n",
       "    <tr>\n",
       "      <th>50</th>\n",
       "      <td>Why No Auto Correction?¶ The question came up why Click does not auto correct parameters given that even optparse and argparse support automatic expansion of long arguments.</td>\n",
       "    </tr>\n",
       "    <tr>\n",
       "      <th>51</th>\n",
       "      <td>The reason for this is that it’s a liability for backwards compatibility.</td>\n",
       "    </tr>\n",
       "    <tr>\n",
       "      <th>52</th>\n",
       "      <td>If people start relying on automatically modified parameters and someone adds a new parameter in the future, the script might stop working.</td>\n",
       "    </tr>\n",
       "    <tr>\n",
       "      <th>53</th>\n",
       "      <td>These kinds of problems are hard to find, so Click does not attempt to be magical about this.</td>\n",
       "    </tr>\n",
       "    <tr>\n",
       "      <th>54</th>\n",
       "      <td>This sort of behavior however can be implemented on a higher level to support things such as explicit aliases.</td>\n",
       "    </tr>\n",
       "    <tr>\n",
       "      <th>55</th>\n",
       "      <td>For more information see Command Aliases.</td>\n",
       "    </tr>\n",
       "  </tbody>\n",
       "</table>\n",
       "</div>"
      ],
      "text/plain": [
       "                                                                                                                                                                                                                                                                                                                                                                                                                                                                                                               Sentence\n",
       "0                                                                                                                                                                                                                                                                                                                                                                                                           Why Click?¶ There are so many libraries out there for writing command line utilities; why does Click exist?\n",
       "1   This question is easy to answer: because there is not a single command line utility for Python out there which ticks the following boxes:  is lazily composable without restrictions supports implementation of Unix/POSIX command line conventions supports loading values from environment variables out of the box support for prompting of custom values is fully nestable and composable works the same in Python 2 and 3 supports file handling out of the box comes with useful common helpers (getting t...\n",
       "2                                                                                                                                                                                                                                                                                                                                                                                                           There are many alternatives to Click; the obvious ones are optparse and argparse from the standard library.\n",
       "3                                                                                                                                                                                                                                                                                                                                                                                                                                                              Have a look to see if something else resonates with you.\n",
       "4                                                                                                                                                                                                                                                                                                                                                                                 Click actually implements its own parsing of arguments and does not use optparse or argparse following the optparse parsing behavior.\n",
       "5                                                                                                                                                                                                                                                                                                                              The reason it’s not based on argparse is that argparse does not allow proper nesting of commands by design and has some deficiencies when it comes to POSIX compliant argument handling.\n",
       "6                                                                                                                                                                                                                                                                                                                                                                                                                                                 Click is designed to be fun and customizable but not overly flexible.\n",
       "7                                                                                                                                                                                                                                                                                                                                                                                                                                                       For instance, the customizability of help pages is constrained.\n",
       "8                                                                                                                                                                                                                                                                                                                                                                            This constraint is intentional because Click promises multiple Click instances will continue to function as intended when strung together.\n",
       "9                                                                                                                                                                                                                                                                                                                                                                                                                                                                    Too much customizability would break this promise.\n",
       "10                                                                                                                                                                                                                                                                                                                                                                                   Click was written to support the Flask microframework ecosystem because no tool could provide it with the functionality it needed.\n",
       "11                                                                                                                                                                                                                                                                                                                                                                                                To get an understanding of what Click is all about, I strongly recommend looking at the Complex Applications chapter.\n",
       "12                                                                                                                                                                                                                                                                                                                                                                                                                                        Why not Argparse?¶ Click is internally based on optparse instead of argparse.\n",
       "13                                                                                                                                                                                                                                                                                                                                                                                                                                     This is an implementation detail that a user does not have to be concerned with.\n",
       "14                                                                                                                                                                                                                                                                                                           Click is not based on argparse because it has some behaviors that make handling arbitrary command line interfaces hard:  argparse has built-in behavior to guess if something is an argument or an option.\n",
       "15                                                                                                                                                                                                                                                                                                                                                                     This becomes a problem when dealing with incomplete command lines; the behaviour becomes unpredictable without full knowledge of a command line.\n",
       "16                                                                                                                                                                                                                                                                                                                                                                                                                                                    This goes against Click’s ambitions of dispatching to subparsers.\n",
       "17                                                                                                                                                                                                                                                                                                                                                                                                                                                          argparse does not support disabling interspersed arguments.\n",
       "18                                                                                                                                                                                                                                                                                                                                                                                                                                  Without this feature, it’s not possible to safely implement Click’s nested parsing.\n",
       "19                                                                                                                                                                                                                                                                                                                                                                                                                                                                                                  Why not Docopt etc.\n",
       "20                                                                                                                                                                                                                                                                                                                                                       ?¶ Docopt, and many tools like it, are cool in how they work, but very few of these tools deal with nesting of commands and composability in a way like Click.\n",
       "21                                                                                                                                                                                                                                                                                                                           To the best of the developer’s knowledge, Click is the first Python library that aims to create a level of composability of applications that goes beyond what the system itself supports.\n",
       "22                                                                                                                                                                                                                                                                                                                                                                                                                     Docopt, for instance, acts by parsing your help pages and then parsing according to those rules.\n",
       "23                                                                                                                                                                                                                                                                                                                                                                                                                  The side effect of this is that docopt is quite rigid in how it handles the command line interface.\n",
       "24                                                                                                                                                                                                                                                                                                          The upside of docopt is that it gives you strong control over your help page; the downside is that due to this it cannot rewrap your output for the current terminal width, and it makes translations hard.\n",
       "25                                                                                                                                                                                                                                                                                                                                                                                                                                                               On top of that, docopt is restricted to basic parsing.\n",
       "26                                                                                                                                                                                                                                                                                                                                                                                                                                            It does not handle argument dispatching and callback invocation or types.\n",
       "27                                                                                                                                                                                                                                                                                                                                                                                         This means there is a lot of code that needs to be written in addition to the basic help page to handle the parsing results.\n",
       "28                                                                                                                                                                                                                                                                                                                                                                                                                                                                   Most of all, however, it makes composability hard.\n",
       "29                                                                                                                                                                                                                                                                             While docopt does support dispatching to subcommands, it, for instance, does not directly support any kind of automatic subcommand enumeration based on what’s available or it does not enforce subcommands to work in a consistent way.\n",
       "30                                                                                                                                                                                                                                                                                                                                                                                                                                                       This is fine, but it’s different from how Click wants to work.\n",
       "31                                                                                                                                                                                                                                                                                                                                                  Click aims to support fully composable command line user interfaces by doing the following:  Click does not just parse, it also dispatches to the appropriate code.\n",
       "32                                                                                                                                                                                                                                                                                                                                                                                              Click has a strong concept of an invocation context that allows subcommands to respond to data from the parent command.\n",
       "33                                                                                                                                                                                                                                                                                                                        Click has strong information available for all parameters and commands, so it can generate unified help pages for the full CLI and assist the user in converting the input data as necessary.\n",
       "34                                                                                                                                                                                                                                                                                                                                                                                      Click has a strong understanding of what types are, and it can give the user consistent error messages if something goes wrong.\n",
       "35                                                                                                                                                                                                                                                                                                                                                                                    A subcommand written by a different developer will not suddenly die with a different error message because it’s manually handled.\n",
       "36                                                                                                                                                                                                                                                                                                                                           Click has enough meta information available for its whole program to evolve over time and improve the user experience without forcing developers to adjust their programs.\n",
       "37                                                                                                                                                                                                                                                                                                                                                                                      For instance, if Click decides to change how help pages are formatted, all Click programs will automatically benefit from this.\n",
       "38                                                                                                                                                                                                                                                                                                                                                                                                                                                                      The aim of Click is to make composable systems.\n",
       "39                                                                                                                                                                                                                                                                                                                                                                                                                  Whereas, the aim of docopt is to build the most beautiful and hand-crafted command line interfaces.\n",
       "40                                                                                                                                                                                                                                                                                                                                                                                                                                                            These two goals conflict with one another in subtle ways.\n",
       "41                                                                                                                                                                                                                                                                                                                                                                                               Click actively prevents people from implementing certain patterns in order to achieve unified command line interfaces.\n",
       "42                                                                                                                                                                                                                                                                                                                                                                                                                        For instance, as a developer, you are given very little choice in formatting your help pages.\n",
       "43                                                                                                                                                                                                                                                                                                                                                                   Why Hardcoded Behaviors?¶ The other question is why Click goes away from optparse and hardcodes certain behaviors instead of staying configurable.\n",
       "44                                                                                                                                                                                                                                                                                                                                                                                                                                                                                 There are multiple reasons for this.\n",
       "45                                                                                                                                                                                                                                                                                                                                                                                                      The biggest one is that too much configurability makes it hard to achieve a consistent command line experience.\n",
       "46                                                                                                                                                                                                                                                                                                                                                                                                       The best example for this is optparse’s callback functionality for accepting an arbitrary number of arguments.\n",
       "47                                                                                                                                                                                                                                                                                                                                                                                                           Due to syntactical ambiguities on the command line, there is no way to implement fully variadic arguments.\n",
       "48                                                                                                                                                                                                                                                                                                                                 There are always tradeoffs that need to be made and in case of argparse these tradeoffs have been critical enough, that a system like Click cannot even be implemented on top of it.\n",
       "49                                                                                                                                                                                                                                                                                                                                                    In this particular case, Click attempts to stay with a handful of accepted paradigms for building command line interfaces that can be well documented and tested.\n",
       "50                                                                                                                                                                                                                                                                                                                                        Why No Auto Correction?¶ The question came up why Click does not auto correct parameters given that even optparse and argparse support automatic expansion of long arguments.\n",
       "51                                                                                                                                                                                                                                                                                                                                                                                                                                            The reason for this is that it’s a liability for backwards compatibility.\n",
       "52                                                                                                                                                                                                                                                                                                                                                                          If people start relying on automatically modified parameters and someone adds a new parameter in the future, the script might stop working.\n",
       "53                                                                                                                                                                                                                                                                                                                                                                                                                        These kinds of problems are hard to find, so Click does not attempt to be magical about this.\n",
       "54                                                                                                                                                                                                                                                                                                                                                                                                       This sort of behavior however can be implemented on a higher level to support things such as explicit aliases.\n",
       "55                                                                                                                                                                                                                                                                                                                                                                                                                                                                            For more information see Command Aliases."
      ]
     },
     "execution_count": 19,
     "metadata": {},
     "output_type": "execute_result"
    }
   ],
   "source": [
    "import pandas as pd\n",
    "pd.set_option('display.max_colwidth',500)\n",
    "\n",
    "def show_sentences(text):\n",
    "    return pd.DataFrame({'Sentence': sent_tokenize(text)})\n",
    "\n",
    "show_sentences(why_click)"
   ]
  },
  {
   "cell_type": "code",
   "execution_count": 21,
   "metadata": {},
   "outputs": [],
   "source": [
    "summary = summarize(why_click)"
   ]
  },
  {
   "cell_type": "code",
   "execution_count": 22,
   "metadata": {},
   "outputs": [
    {
     "data": {
      "text/plain": [
       "'This question is easy to answer: because there is not a single command line utility for Python out there which ticks the following boxes:  is lazily composable without restrictions supports implementation of Unix/POSIX command line conventions supports loading values from environment variables out of the box support for prompting of custom values is fully nestable and composable works the same in Python 2 and 3 supports file handling out of the box comes with useful common helpers (getting terminal dimensions, ANSI colors, fetching direct keyboard input, screen clearing, finding config paths, launching apps and editors, etc.)  There are many alternatives to Click; the obvious ones are optparse and argparse from the standard library.\\nThe reason it’s not based on argparse is that argparse does not allow proper nesting of commands by design and has some deficiencies when it comes to POSIX compliant argument handling.\\nClick is not based on argparse because it has some behaviors that make handling arbitrary command line interfaces hard:  argparse has built-in behavior to guess if something is an argument or an option.\\nWhy not Docopt etc.?¶ Docopt, and many tools like it, are cool in how they work, but very few of these tools deal with nesting of commands and composability in a way like Click.\\nTo the best of the developer’s knowledge, Click is the first Python library that aims to create a level of composability of applications that goes beyond what the system itself supports.\\nWhile docopt does support dispatching to subcommands, it, for instance, does not directly support any kind of automatic subcommand enumeration based on what’s available or it does not enforce subcommands to work in a consistent way.\\nClick aims to support fully composable command line user interfaces by doing the following:  Click does not just parse, it also dispatches to the appropriate code.\\nClick has strong information available for all parameters and commands, so it can generate unified help pages for the full CLI and assist the user in converting the input data as necessary.\\nClick actively prevents people from implementing certain patterns in order to achieve unified command line interfaces.\\nDue to syntactical ambiguities on the command line, there is no way to implement fully variadic arguments.'"
      ]
     },
     "execution_count": 22,
     "metadata": {},
     "output_type": "execute_result"
    }
   ],
   "source": [
    "summary"
   ]
  },
  {
   "cell_type": "markdown",
   "metadata": {},
   "source": [
    "## Tuning the parameters"
   ]
  },
  {
   "cell_type": "code",
   "execution_count": 25,
   "metadata": {},
   "outputs": [
    {
     "data": {
      "text/plain": [
       "['This question is easy to answer: because there is not a single command line utility for Python out there which ticks the following boxes:  is lazily composable without restrictions supports implementation of Unix/POSIX command line conventions supports loading values from environment variables out of the box support for prompting of custom values is fully nestable and composable works the same in Python 2 and 3 supports file handling out of the box comes with useful common helpers (getting terminal dimensions, ANSI colors, fetching direct keyboard input, screen clearing, finding config paths, launching apps and editors, etc.)  There are many alternatives to Click; the obvious ones are optparse and argparse from the standard library.',\n",
       " 'The reason it’s not based on argparse is that argparse does not allow proper nesting of commands by design and has some deficiencies when it comes to POSIX compliant argument handling.',\n",
       " 'Click is not based on argparse because it has some behaviors that make handling arbitrary command line interfaces hard:  argparse has built-in behavior to guess if something is an argument or an option.',\n",
       " 'Why not Docopt etc.?¶ Docopt, and many tools like it, are cool in how they work, but very few of these tools deal with nesting of commands and composability in a way like Click.',\n",
       " 'To the best of the developer’s knowledge, Click is the first Python library that aims to create a level of composability of applications that goes beyond what the system itself supports.',\n",
       " 'While docopt does support dispatching to subcommands, it, for instance, does not directly support any kind of automatic subcommand enumeration based on what’s available or it does not enforce subcommands to work in a consistent way.',\n",
       " 'Click aims to support fully composable command line user interfaces by doing the following:  Click does not just parse, it also dispatches to the appropriate code.',\n",
       " 'Click has strong information available for all parameters and commands, so it can generate unified help pages for the full CLI and assist the user in converting the input data as necessary.',\n",
       " 'Click actively prevents people from implementing certain patterns in order to achieve unified command line interfaces.',\n",
       " 'Due to syntactical ambiguities on the command line, there is no way to implement fully variadic arguments.']"
      ]
     },
     "execution_count": 25,
     "metadata": {},
     "output_type": "execute_result"
    }
   ],
   "source": [
    "#split \n",
    "summary = summarize(why_click,split = True)\n",
    "summary"
   ]
  },
  {
   "cell_type": "code",
   "execution_count": 26,
   "metadata": {},
   "outputs": [
    {
     "data": {
      "text/plain": [
       "'This question is easy to answer: because there is not a single command line utility for Python out there which ticks the following boxes:  is lazily composable without restrictions supports implementation of Unix/POSIX command line conventions supports loading values from environment variables out of the box support for prompting of custom values is fully nestable and composable works the same in Python 2 and 3 supports file handling out of the box comes with useful common helpers (getting terminal dimensions, ANSI colors, fetching direct keyboard input, screen clearing, finding config paths, launching apps and editors, etc.)  There are many alternatives to Click; the obvious ones are optparse and argparse from the standard library.\\nThe reason it’s not based on argparse is that argparse does not allow proper nesting of commands by design and has some deficiencies when it comes to POSIX compliant argument handling.\\nClick is not based on argparse because it has some behaviors that make handling arbitrary command line interfaces hard:  argparse has built-in behavior to guess if something is an argument or an option.\\nClick aims to support fully composable command line user interfaces by doing the following:  Click does not just parse, it also dispatches to the appropriate code.\\nClick has strong information available for all parameters and commands, so it can generate unified help pages for the full CLI and assist the user in converting the input data as necessary.'"
      ]
     },
     "execution_count": 26,
     "metadata": {},
     "output_type": "execute_result"
    }
   ],
   "source": [
    "# ratio\n",
    "# propotion of the original text returned\n",
    "\n",
    "summary = summarize(why_click,ratio=0.1)\n",
    "summary"
   ]
  },
  {
   "cell_type": "code",
   "execution_count": 27,
   "metadata": {},
   "outputs": [
    {
     "data": {
      "text/plain": [
       "'This question is easy to answer: because there is not a single command line utility for Python out there which ticks the following boxes:  is lazily composable without restrictions supports implementation of Unix/POSIX command line conventions supports loading values from environment variables out of the box support for prompting of custom values is fully nestable and composable works the same in Python 2 and 3 supports file handling out of the box comes with useful common helpers (getting terminal dimensions, ANSI colors, fetching direct keyboard input, screen clearing, finding config paths, launching apps and editors, etc.)  There are many alternatives to Click; the obvious ones are optparse and argparse from the standard library.\\nClick actually implements its own parsing of arguments and does not use optparse or argparse following the optparse parsing behavior.\\nThe reason it’s not based on argparse is that argparse does not allow proper nesting of commands by design and has some deficiencies when it comes to POSIX compliant argument handling.\\nFor instance, the customizability of help pages is constrained.\\nClick is not based on argparse because it has some behaviors that make handling arbitrary command line interfaces hard:  argparse has built-in behavior to guess if something is an argument or an option.\\nWithout this feature, it’s not possible to safely implement Click’s nested parsing.\\nWhy not Docopt etc.?¶ Docopt, and many tools like it, are cool in how they work, but very few of these tools deal with nesting of commands and composability in a way like Click.\\nTo the best of the developer’s knowledge, Click is the first Python library that aims to create a level of composability of applications that goes beyond what the system itself supports.\\nDocopt, for instance, acts by parsing your help pages and then parsing according to those rules.\\nThe side effect of this is that docopt is quite rigid in how it handles the command line interface.\\nThe upside of docopt is that it gives you strong control over your help page; the downside is that due to this it cannot rewrap your output for the current terminal width, and it makes translations hard.\\nIt does not handle argument dispatching and callback invocation or types.\\nThis means there is a lot of code that needs to be written in addition to the basic help page to handle the parsing results.\\nWhile docopt does support dispatching to subcommands, it, for instance, does not directly support any kind of automatic subcommand enumeration based on what’s available or it does not enforce subcommands to work in a consistent way.\\nClick aims to support fully composable command line user interfaces by doing the following:  Click does not just parse, it also dispatches to the appropriate code.\\nClick has strong information available for all parameters and commands, so it can generate unified help pages for the full CLI and assist the user in converting the input data as necessary.\\nClick has a strong understanding of what types are, and it can give the user consistent error messages if something goes wrong.\\nFor instance, if Click decides to change how help pages are formatted, all Click programs will automatically benefit from this.\\nWhereas, the aim of docopt is to build the most beautiful and hand-crafted command line interfaces.\\nClick actively prevents people from implementing certain patterns in order to achieve unified command line interfaces.\\nFor instance, as a developer, you are given very little choice in formatting your help pages.\\nWhy Hardcoded Behaviors?¶ The other question is why Click goes away from optparse and hardcodes certain behaviors instead of staying configurable.\\nThe biggest one is that too much configurability makes it hard to achieve a consistent command line experience.\\nDue to syntactical ambiguities on the command line, there is no way to implement fully variadic arguments.\\nThere are always tradeoffs that need to be made and in case of argparse these tradeoffs have been critical enough, that a system like Click cannot even be implemented on top of it.\\nIn this particular case, Click attempts to stay with a handful of accepted paradigms for building command line interfaces that can be well documented and tested.\\nWhy No Auto Correction?¶ The question came up why Click does not auto correct parameters given that even optparse and argparse support automatic expansion of long arguments.'"
      ]
     },
     "execution_count": 27,
     "metadata": {},
     "output_type": "execute_result"
    }
   ],
   "source": [
    "# returns 50% of the original document\n",
    "summary = summarize(why_click,ratio=0.5)\n",
    "summary"
   ]
  },
  {
   "cell_type": "code",
   "execution_count": 29,
   "metadata": {},
   "outputs": [
    {
     "data": {
      "text/plain": [
       "'This question is easy to answer: because there is not a single command line utility for Python out there which ticks the following boxes:  is lazily composable without restrictions supports implementation of Unix/POSIX command line conventions supports loading values from environment variables out of the box support for prompting of custom values is fully nestable and composable works the same in Python 2 and 3 supports file handling out of the box comes with useful common helpers (getting terminal dimensions, ANSI colors, fetching direct keyboard input, screen clearing, finding config paths, launching apps and editors, etc.)  There are many alternatives to Click; the obvious ones are optparse and argparse from the standard library.\\nThe reason it’s not based on argparse is that argparse does not allow proper nesting of commands by design and has some deficiencies when it comes to POSIX compliant argument handling.\\nClick is not based on argparse because it has some behaviors that make handling arbitrary command line interfaces hard:  argparse has built-in behavior to guess if something is an argument or an option.\\nClick aims to support fully composable command line user interfaces by doing the following:  Click does not just parse, it also dispatches to the appropriate code.'"
      ]
     },
     "execution_count": 29,
     "metadata": {},
     "output_type": "execute_result"
    }
   ],
   "source": [
    "# word count \n",
    "# number of words returned\n",
    "\n",
    "summary = summarize(why_click,word_count=200)\n",
    "summary"
   ]
  },
  {
   "cell_type": "code",
   "execution_count": 32,
   "metadata": {},
   "outputs": [
    {
     "data": {
      "text/plain": [
       "'This question is easy to answer: because there is not a single command line utility for Python out there which ticks the following boxes:  is lazily composable without restrictions supports implementation of Unix/POSIX command line conventions supports loading values from environment variables out of the box support for prompting of custom values is fully nestable and composable works the same in Python 2 and 3 supports file handling out of the box comes with useful common helpers (getting terminal dimensions, ANSI colors, fetching direct keyboard input, screen clearing, finding config paths, launching apps and editors, etc.)  There are many alternatives to Click; the obvious ones are optparse and argparse from the standard library.\\nClick actually implements its own parsing of arguments and does not use optparse or argparse following the optparse parsing behavior.\\nThe reason it’s not based on argparse is that argparse does not allow proper nesting of commands by design and has some deficiencies when it comes to POSIX compliant argument handling.\\nClick is not based on argparse because it has some behaviors that make handling arbitrary command line interfaces hard:  argparse has built-in behavior to guess if something is an argument or an option.\\nWhy not Docopt etc.?¶ Docopt, and many tools like it, are cool in how they work, but very few of these tools deal with nesting of commands and composability in a way like Click.\\nTo the best of the developer’s knowledge, Click is the first Python library that aims to create a level of composability of applications that goes beyond what the system itself supports.\\nThe side effect of this is that docopt is quite rigid in how it handles the command line interface.\\nThe upside of docopt is that it gives you strong control over your help page; the downside is that due to this it cannot rewrap your output for the current terminal width, and it makes translations hard.\\nThis means there is a lot of code that needs to be written in addition to the basic help page to handle the parsing results.\\nWhile docopt does support dispatching to subcommands, it, for instance, does not directly support any kind of automatic subcommand enumeration based on what’s available or it does not enforce subcommands to work in a consistent way.\\nClick aims to support fully composable command line user interfaces by doing the following:  Click does not just parse, it also dispatches to the appropriate code.\\nClick has strong information available for all parameters and commands, so it can generate unified help pages for the full CLI and assist the user in converting the input data as necessary.\\nClick has a strong understanding of what types are, and it can give the user consistent error messages if something goes wrong.\\nFor instance, if Click decides to change how help pages are formatted, all Click programs will automatically benefit from this.\\nWhereas, the aim of docopt is to build the most beautiful and hand-crafted command line interfaces.\\nClick actively prevents people from implementing certain patterns in order to achieve unified command line interfaces.\\nThe biggest one is that too much configurability makes it hard to achieve a consistent command line experience.\\nDue to syntactical ambiguities on the command line, there is no way to implement fully variadic arguments.\\nIn this particular case, Click attempts to stay with a handful of accepted paradigms for building command line interfaces that can be well documented and tested.\\nWhy No Auto Correction?¶ The question came up why Click does not auto correct parameters given that even optparse and argparse support automatic expansion of long arguments.'"
      ]
     },
     "execution_count": 32,
     "metadata": {},
     "output_type": "execute_result"
    }
   ],
   "source": [
    "summary = summarize(why_click,word_count=600)\n",
    "summary"
   ]
  },
  {
   "cell_type": "code",
   "execution_count": null,
   "metadata": {},
   "outputs": [],
   "source": []
  }
 ],
 "metadata": {
  "kernelspec": {
   "display_name": "Python 3",
   "language": "python",
   "name": "python3"
  },
  "language_info": {
   "codemirror_mode": {
    "name": "ipython",
    "version": 3
   },
   "file_extension": ".py",
   "mimetype": "text/x-python",
   "name": "python",
   "nbconvert_exporter": "python",
   "pygments_lexer": "ipython3",
   "version": "3.8.3"
  }
 },
 "nbformat": 4,
 "nbformat_minor": 4
}
