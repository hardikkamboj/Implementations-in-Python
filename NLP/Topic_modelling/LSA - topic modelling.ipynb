{
 "cells": [
  {
   "cell_type": "code",
   "execution_count": 131,
   "metadata": {},
   "outputs": [
    {
     "name": "stderr",
     "output_type": "stream",
     "text": [
      "<frozen importlib._bootstrap>:219: RuntimeWarning: numpy.ufunc size changed, may indicate binary incompatibility. Expected 192 from C header, got 216 from PyObject\n"
     ]
    }
   ],
   "source": [
    "import numpy as np \n",
    "import pandas as pd\n",
    "from sklearn.datasets import fetch_20newsgroups\n",
    "from nltk import word_tokenize\n",
    "from nltk.stem import WordNetLemmatizer\n",
    "from nltk.corpus import stopwords\n",
    "import re\n",
    "from sklearn.feature_extraction.text import TfidfVectorizer\n",
    "from sklearn.decomposition import TruncatedSVD\n",
    "\n",
    "stop_words = stopwords.words('english')\n",
    "lemmatizer = WordNetLemmatizer()\n",
    "\n",
    "import matplotlib.pyplot as plt \n",
    "import seaborn as sns"
   ]
  },
  {
   "cell_type": "code",
   "execution_count": 2,
   "metadata": {},
   "outputs": [],
   "source": [
    "dataset = fetch_20newsgroups()"
   ]
  },
  {
   "cell_type": "code",
   "execution_count": 4,
   "metadata": {},
   "outputs": [
    {
     "data": {
      "text/plain": [
       "dict_keys(['data', 'filenames', 'target_names', 'target', 'DESCR'])"
      ]
     },
     "execution_count": 4,
     "metadata": {},
     "output_type": "execute_result"
    }
   ],
   "source": [
    "dataset.keys()"
   ]
  },
  {
   "cell_type": "code",
   "execution_count": 7,
   "metadata": {},
   "outputs": [
    {
     "data": {
      "text/plain": [
       "['alt.atheism',\n",
       " 'comp.graphics',\n",
       " 'comp.os.ms-windows.misc',\n",
       " 'comp.sys.ibm.pc.hardware',\n",
       " 'comp.sys.mac.hardware',\n",
       " 'comp.windows.x',\n",
       " 'misc.forsale',\n",
       " 'rec.autos',\n",
       " 'rec.motorcycles',\n",
       " 'rec.sport.baseball',\n",
       " 'rec.sport.hockey',\n",
       " 'sci.crypt',\n",
       " 'sci.electronics',\n",
       " 'sci.med',\n",
       " 'sci.space',\n",
       " 'soc.religion.christian',\n",
       " 'talk.politics.guns',\n",
       " 'talk.politics.mideast',\n",
       " 'talk.politics.misc',\n",
       " 'talk.religion.misc']"
      ]
     },
     "execution_count": 7,
     "metadata": {},
     "output_type": "execute_result"
    }
   ],
   "source": [
    "dataset['target_names']"
   ]
  },
  {
   "cell_type": "code",
   "execution_count": 108,
   "metadata": {},
   "outputs": [],
   "source": [
    "categories = ['soc.religion.christian', 'sci.space','rec.sport.baseball','rec.sport.hockey']\n",
    "\n",
    "news_data = fetch_20newsgroups(subset='train', categories=categories, shuffle=True, random_state=42, download_if_missing=True)"
   ]
  },
  {
   "cell_type": "code",
   "execution_count": 109,
   "metadata": {},
   "outputs": [
    {
     "data": {
      "text/plain": [
       "dict_keys(['data', 'filenames', 'target_names', 'target', 'DESCR'])"
      ]
     },
     "execution_count": 109,
     "metadata": {},
     "output_type": "execute_result"
    }
   ],
   "source": [
    "news_data.keys()"
   ]
  },
  {
   "cell_type": "code",
   "execution_count": 110,
   "metadata": {},
   "outputs": [],
   "source": [
    "X = news_data['data']"
   ]
  },
  {
   "cell_type": "code",
   "execution_count": 111,
   "metadata": {},
   "outputs": [
    {
     "name": "stdout",
     "output_type": "stream",
     "text": [
      "2389\n"
     ]
    }
   ],
   "source": [
    "print(len(X))"
   ]
  },
  {
   "cell_type": "code",
   "execution_count": 112,
   "metadata": {},
   "outputs": [
    {
     "name": "stdout",
     "output_type": "stream",
     "text": [
      "(2389, 2)\n"
     ]
    },
    {
     "data": {
      "text/html": [
       "<div>\n",
       "<style scoped>\n",
       "    .dataframe tbody tr th:only-of-type {\n",
       "        vertical-align: middle;\n",
       "    }\n",
       "\n",
       "    .dataframe tbody tr th {\n",
       "        vertical-align: top;\n",
       "    }\n",
       "\n",
       "    .dataframe thead th {\n",
       "        text-align: right;\n",
       "    }\n",
       "</style>\n",
       "<table border=\"1\" class=\"dataframe\">\n",
       "  <thead>\n",
       "    <tr style=\"text-align: right;\">\n",
       "      <th></th>\n",
       "      <th>text</th>\n",
       "      <th>category</th>\n",
       "    </tr>\n",
       "  </thead>\n",
       "  <tbody>\n",
       "    <tr>\n",
       "      <th>0</th>\n",
       "      <td>From: cs89mcd@brunel.ac.uk (Michael C Davis)\\n...</td>\n",
       "      <td>3</td>\n",
       "    </tr>\n",
       "    <tr>\n",
       "      <th>1</th>\n",
       "      <td>From: mcovingt@aisun3.ai.uga.edu (Michael Covi...</td>\n",
       "      <td>3</td>\n",
       "    </tr>\n",
       "    <tr>\n",
       "      <th>2</th>\n",
       "      <td>From: rjungcla@cbnewsd.cb.att.com (R. M. Jungc...</td>\n",
       "      <td>2</td>\n",
       "    </tr>\n",
       "    <tr>\n",
       "      <th>3</th>\n",
       "      <td>From: dpage@ra.csc.ti.com (Doug Page)\\nSubject...</td>\n",
       "      <td>2</td>\n",
       "    </tr>\n",
       "    <tr>\n",
       "      <th>4</th>\n",
       "      <td>From: atterlep@vela.acs.oakland.edu (Cardinal ...</td>\n",
       "      <td>3</td>\n",
       "    </tr>\n",
       "  </tbody>\n",
       "</table>\n",
       "</div>"
      ],
      "text/plain": [
       "                                                text  category\n",
       "0  From: cs89mcd@brunel.ac.uk (Michael C Davis)\\n...         3\n",
       "1  From: mcovingt@aisun3.ai.uga.edu (Michael Covi...         3\n",
       "2  From: rjungcla@cbnewsd.cb.att.com (R. M. Jungc...         2\n",
       "3  From: dpage@ra.csc.ti.com (Doug Page)\\nSubject...         2\n",
       "4  From: atterlep@vela.acs.oakland.edu (Cardinal ...         3"
      ]
     },
     "execution_count": 112,
     "metadata": {},
     "output_type": "execute_result"
    }
   ],
   "source": [
    "df = pd.DataFrame({'text':news_data['data'],'category':news_data['target']})\n",
    "print(df.shape)\n",
    "df.head()"
   ]
  },
  {
   "cell_type": "code",
   "execution_count": 113,
   "metadata": {},
   "outputs": [
    {
     "data": {
      "text/plain": [
       "['rec.sport.baseball',\n",
       " 'rec.sport.hockey',\n",
       " 'sci.space',\n",
       " 'soc.religion.christian']"
      ]
     },
     "execution_count": 113,
     "metadata": {},
     "output_type": "execute_result"
    }
   ],
   "source": [
    "news_data['target_names']"
   ]
  },
  {
   "cell_type": "code",
   "execution_count": 114,
   "metadata": {},
   "outputs": [
    {
     "data": {
      "text/plain": [
       "'From: mcovingt@aisun3.ai.uga.edu (Michael Covington)\\nSubject: Re: Pantheism & Environmentalism\\nOrganization: AI Programs, University of Georgia, Athens\\nLines: 18\\n\\nIn article <Apr.12.03.44.17.1993.18833@athos.rutgers.edu> heath@athena.cs.uga.edu (Terrance Heath) writes:\\n>\\n>\\tI realize I\\'m entering this discussion rather late, but I do\\n>have one question. Wasn\\'t it a Reagan appointee, James Watt, a\\n>pentacostal christian (I think) who was the secretary of the interior\\n>who saw no problem with deforestation since we were \"living in the\\n>last days\" and ours would be the last generation to see the redwoods\\n>anyway?\\n\\nI heard the same thing, but without confirmation that he actually said it.\\nIt was just as alarming to us as to you; the Bible says that nobody knows\\nwhen the second coming will take place.\\n\\n-- \\n:-  Michael A. Covington, Associate Research Scientist        :    *****\\n:-  Artificial Intelligence Programs      mcovingt@ai.uga.edu :  *********\\n:-  The University of Georgia              phone 706 542-0358 :   *  *  *\\n:-  Athens, Georgia 30602-7415 U.S.A.     amateur radio N4TMI :  ** *** **  <><\\n'"
      ]
     },
     "execution_count": 114,
     "metadata": {},
     "output_type": "execute_result"
    }
   ],
   "source": [
    "df['text'][1]"
   ]
  },
  {
   "cell_type": "markdown",
   "metadata": {},
   "source": [
    "## Cleaning text"
   ]
  },
  {
   "cell_type": "code",
   "execution_count": 115,
   "metadata": {},
   "outputs": [],
   "source": [
    "df['cleaned_text'] = df['text'].apply(lambda x : ' '.join([lemmatizer.lemmatize(word.lower()) \\\n",
    "    for word in word_tokenize(re.sub(r'([^\\s\\w]|_)+', ' ', str(x))) if (word.lower() not in stop_words) \n",
    "                                                           and word.isalpha() ]))"
   ]
  },
  {
   "cell_type": "code",
   "execution_count": 116,
   "metadata": {},
   "outputs": [
    {
     "data": {
      "text/html": [
       "<div>\n",
       "<style scoped>\n",
       "    .dataframe tbody tr th:only-of-type {\n",
       "        vertical-align: middle;\n",
       "    }\n",
       "\n",
       "    .dataframe tbody tr th {\n",
       "        vertical-align: top;\n",
       "    }\n",
       "\n",
       "    .dataframe thead th {\n",
       "        text-align: right;\n",
       "    }\n",
       "</style>\n",
       "<table border=\"1\" class=\"dataframe\">\n",
       "  <thead>\n",
       "    <tr style=\"text-align: right;\">\n",
       "      <th></th>\n",
       "      <th>text</th>\n",
       "      <th>category</th>\n",
       "      <th>cleaned_text</th>\n",
       "    </tr>\n",
       "  </thead>\n",
       "  <tbody>\n",
       "    <tr>\n",
       "      <th>0</th>\n",
       "      <td>From: cs89mcd@brunel.ac.uk (Michael C Davis)\\n...</td>\n",
       "      <td>3</td>\n",
       "      <td>brunel ac uk michael c davis subject wbt phone...</td>\n",
       "    </tr>\n",
       "    <tr>\n",
       "      <th>1</th>\n",
       "      <td>From: mcovingt@aisun3.ai.uga.edu (Michael Covi...</td>\n",
       "      <td>3</td>\n",
       "      <td>mcovingt ai uga edu michael covington subject ...</td>\n",
       "    </tr>\n",
       "    <tr>\n",
       "      <th>2</th>\n",
       "      <td>From: rjungcla@cbnewsd.cb.att.com (R. M. Jungc...</td>\n",
       "      <td>2</td>\n",
       "      <td>rjungcla cbnewsd cb att com r jungclas subject...</td>\n",
       "    </tr>\n",
       "    <tr>\n",
       "      <th>3</th>\n",
       "      <td>From: dpage@ra.csc.ti.com (Doug Page)\\nSubject...</td>\n",
       "      <td>2</td>\n",
       "      <td>dpage ra csc ti com doug page subject quaint u...</td>\n",
       "    </tr>\n",
       "    <tr>\n",
       "      <th>4</th>\n",
       "      <td>From: atterlep@vela.acs.oakland.edu (Cardinal ...</td>\n",
       "      <td>3</td>\n",
       "      <td>atterlep vela ac oakland edu cardinal ximenez ...</td>\n",
       "    </tr>\n",
       "  </tbody>\n",
       "</table>\n",
       "</div>"
      ],
      "text/plain": [
       "                                                text  category  \\\n",
       "0  From: cs89mcd@brunel.ac.uk (Michael C Davis)\\n...         3   \n",
       "1  From: mcovingt@aisun3.ai.uga.edu (Michael Covi...         3   \n",
       "2  From: rjungcla@cbnewsd.cb.att.com (R. M. Jungc...         2   \n",
       "3  From: dpage@ra.csc.ti.com (Doug Page)\\nSubject...         2   \n",
       "4  From: atterlep@vela.acs.oakland.edu (Cardinal ...         3   \n",
       "\n",
       "                                        cleaned_text  \n",
       "0  brunel ac uk michael c davis subject wbt phone...  \n",
       "1  mcovingt ai uga edu michael covington subject ...  \n",
       "2  rjungcla cbnewsd cb att com r jungclas subject...  \n",
       "3  dpage ra csc ti com doug page subject quaint u...  \n",
       "4  atterlep vela ac oakland edu cardinal ximenez ...  "
      ]
     },
     "execution_count": 116,
     "metadata": {},
     "output_type": "execute_result"
    }
   ],
   "source": [
    "df.head()"
   ]
  },
  {
   "cell_type": "markdown",
   "metadata": {},
   "source": [
    "## vectorization "
   ]
  },
  {
   "cell_type": "code",
   "execution_count": 117,
   "metadata": {},
   "outputs": [],
   "source": [
    "tfidf_model = TfidfVectorizer(max_features=500)\n",
    "tfidf = tfidf_model.fit_transform(df['cleaned_text']).todense() # to convert it to numpy array"
   ]
  },
  {
   "cell_type": "code",
   "execution_count": 118,
   "metadata": {},
   "outputs": [
    {
     "data": {
      "text/plain": [
       "(2389, 500)"
      ]
     },
     "execution_count": 118,
     "metadata": {},
     "output_type": "execute_result"
    }
   ],
   "source": [
    "tfidf.shape # this here is the term document matrix"
   ]
  },
  {
   "cell_type": "markdown",
   "metadata": {},
   "source": [
    "# Singular Value Decomposition"
   ]
  },
  {
   "cell_type": "code",
   "execution_count": 119,
   "metadata": {},
   "outputs": [],
   "source": [
    "svd = TruncatedSVD(n_components=2)\n",
    "lsa = svd.fit_transform(tfidf) "
   ]
  },
  {
   "cell_type": "code",
   "execution_count": 120,
   "metadata": {},
   "outputs": [
    {
     "data": {
      "text/plain": [
       "(2389, 2)"
      ]
     },
     "execution_count": 120,
     "metadata": {},
     "output_type": "execute_result"
    }
   ],
   "source": [
    "lsa.shape # document topic matrix"
   ]
  },
  {
   "cell_type": "markdown",
   "metadata": {},
   "source": [
    "# Topic encoded data"
   ]
  },
  {
   "cell_type": "code",
   "execution_count": 121,
   "metadata": {},
   "outputs": [
    {
     "data": {
      "text/html": [
       "<div>\n",
       "<style scoped>\n",
       "    .dataframe tbody tr th:only-of-type {\n",
       "        vertical-align: middle;\n",
       "    }\n",
       "\n",
       "    .dataframe tbody tr th {\n",
       "        vertical-align: top;\n",
       "    }\n",
       "\n",
       "    .dataframe thead th {\n",
       "        text-align: right;\n",
       "    }\n",
       "</style>\n",
       "<table border=\"1\" class=\"dataframe\">\n",
       "  <thead>\n",
       "    <tr style=\"text-align: right;\">\n",
       "      <th></th>\n",
       "      <th>topic_1</th>\n",
       "      <th>topic_2</th>\n",
       "      <th>category</th>\n",
       "    </tr>\n",
       "  </thead>\n",
       "  <tbody>\n",
       "    <tr>\n",
       "      <th>0</th>\n",
       "      <td>0.195504</td>\n",
       "      <td>0.188324</td>\n",
       "      <td>3</td>\n",
       "    </tr>\n",
       "    <tr>\n",
       "      <th>1</th>\n",
       "      <td>0.379778</td>\n",
       "      <td>0.136727</td>\n",
       "      <td>3</td>\n",
       "    </tr>\n",
       "    <tr>\n",
       "      <th>2</th>\n",
       "      <td>0.242818</td>\n",
       "      <td>0.057285</td>\n",
       "      <td>2</td>\n",
       "    </tr>\n",
       "    <tr>\n",
       "      <th>3</th>\n",
       "      <td>0.369480</td>\n",
       "      <td>0.019456</td>\n",
       "      <td>2</td>\n",
       "    </tr>\n",
       "    <tr>\n",
       "      <th>4</th>\n",
       "      <td>0.326256</td>\n",
       "      <td>0.289764</td>\n",
       "      <td>3</td>\n",
       "    </tr>\n",
       "  </tbody>\n",
       "</table>\n",
       "</div>"
      ],
      "text/plain": [
       "    topic_1   topic_2  category\n",
       "0  0.195504  0.188324         3\n",
       "1  0.379778  0.136727         3\n",
       "2  0.242818  0.057285         2\n",
       "3  0.369480  0.019456         2\n",
       "4  0.326256  0.289764         3"
      ]
     },
     "execution_count": 121,
     "metadata": {},
     "output_type": "execute_result"
    }
   ],
   "source": [
    "topic_encoded_df = pd.DataFrame(lsa,columns=['topic_1','topic_2'])\n",
    "topic_encoded_df['category'] = df['category']\n",
    "topic_encoded_df.head()"
   ]
  },
  {
   "cell_type": "markdown",
   "metadata": {},
   "source": [
    "## The encoding matrix"
   ]
  },
  {
   "cell_type": "code",
   "execution_count": 122,
   "metadata": {},
   "outputs": [
    {
     "data": {
      "text/plain": [
       "(2, 500)"
      ]
     },
     "execution_count": 122,
     "metadata": {},
     "output_type": "execute_result"
    }
   ],
   "source": [
    "svd.components_.shape # topic-term matrix"
   ]
  },
  {
   "cell_type": "code",
   "execution_count": 123,
   "metadata": {},
   "outputs": [
    {
     "data": {
      "text/plain": [
       "['able',\n",
       " 'absolute',\n",
       " 'ac',\n",
       " 'access',\n",
       " 'act',\n",
       " 'actually',\n",
       " 'adam',\n",
       " 'address',\n",
       " 'ago',\n",
       " 'agree']"
      ]
     },
     "execution_count": 123,
     "metadata": {},
     "output_type": "execute_result"
    }
   ],
   "source": [
    "dictionary = tfidf_model.get_feature_names() # from tfidf model\n",
    "# these are the features / terms from term-doc matrix\n",
    "\n",
    "dictionary[:10]"
   ]
  },
  {
   "cell_type": "code",
   "execution_count": 124,
   "metadata": {},
   "outputs": [
    {
     "name": "stdout",
     "output_type": "stream",
     "text": [
      "(500, 2)\n"
     ]
    },
    {
     "data": {
      "text/html": [
       "<div>\n",
       "<style scoped>\n",
       "    .dataframe tbody tr th:only-of-type {\n",
       "        vertical-align: middle;\n",
       "    }\n",
       "\n",
       "    .dataframe tbody tr th {\n",
       "        vertical-align: top;\n",
       "    }\n",
       "\n",
       "    .dataframe thead th {\n",
       "        text-align: right;\n",
       "    }\n",
       "</style>\n",
       "<table border=\"1\" class=\"dataframe\">\n",
       "  <thead>\n",
       "    <tr style=\"text-align: right;\">\n",
       "      <th></th>\n",
       "      <th>topic_1</th>\n",
       "      <th>topic_2</th>\n",
       "      <th>terms</th>\n",
       "    </tr>\n",
       "  </thead>\n",
       "  <tbody>\n",
       "    <tr>\n",
       "      <th>0</th>\n",
       "      <td>0.024570</td>\n",
       "      <td>0.007030</td>\n",
       "      <td>able</td>\n",
       "    </tr>\n",
       "    <tr>\n",
       "      <th>1</th>\n",
       "      <td>0.011670</td>\n",
       "      <td>0.038509</td>\n",
       "      <td>absolute</td>\n",
       "    </tr>\n",
       "    <tr>\n",
       "      <th>2</th>\n",
       "      <td>0.037131</td>\n",
       "      <td>0.029638</td>\n",
       "      <td>ac</td>\n",
       "    </tr>\n",
       "    <tr>\n",
       "      <th>3</th>\n",
       "      <td>0.043620</td>\n",
       "      <td>0.003245</td>\n",
       "      <td>access</td>\n",
       "    </tr>\n",
       "    <tr>\n",
       "      <th>4</th>\n",
       "      <td>0.016306</td>\n",
       "      <td>0.037682</td>\n",
       "      <td>act</td>\n",
       "    </tr>\n",
       "  </tbody>\n",
       "</table>\n",
       "</div>"
      ],
      "text/plain": [
       "    topic_1   topic_2     terms\n",
       "0  0.024570  0.007030      able\n",
       "1  0.011670  0.038509  absolute\n",
       "2  0.037131  0.029638        ac\n",
       "3  0.043620  0.003245    access\n",
       "4  0.016306  0.037682       act"
      ]
     },
     "execution_count": 124,
     "metadata": {},
     "output_type": "execute_result"
    }
   ],
   "source": [
    "encoding_matrix = pd.DataFrame(svd.components_,index = ['topic_1','topic_2']).T\n",
    "print(encoding_matrix.shape)\n",
    "encoding_matrix['terms'] = dictionary #adding terms\n",
    "encoding_matrix.head()"
   ]
  },
  {
   "cell_type": "code",
   "execution_count": 126,
   "metadata": {},
   "outputs": [
    {
     "data": {
      "text/html": [
       "<div>\n",
       "<style scoped>\n",
       "    .dataframe tbody tr th:only-of-type {\n",
       "        vertical-align: middle;\n",
       "    }\n",
       "\n",
       "    .dataframe tbody tr th {\n",
       "        vertical-align: top;\n",
       "    }\n",
       "\n",
       "    .dataframe thead th {\n",
       "        text-align: right;\n",
       "    }\n",
       "</style>\n",
       "<table border=\"1\" class=\"dataframe\">\n",
       "  <thead>\n",
       "    <tr style=\"text-align: right;\">\n",
       "      <th></th>\n",
       "      <th>topic_1</th>\n",
       "      <th>topic_2</th>\n",
       "      <th>terms</th>\n",
       "      <th>topic_1_abs</th>\n",
       "      <th>topic_2_abs</th>\n",
       "    </tr>\n",
       "  </thead>\n",
       "  <tbody>\n",
       "    <tr>\n",
       "      <th>0</th>\n",
       "      <td>0.024570</td>\n",
       "      <td>0.007030</td>\n",
       "      <td>able</td>\n",
       "      <td>0.024570</td>\n",
       "      <td>0.007030</td>\n",
       "    </tr>\n",
       "    <tr>\n",
       "      <th>1</th>\n",
       "      <td>0.011670</td>\n",
       "      <td>0.038509</td>\n",
       "      <td>absolute</td>\n",
       "      <td>0.011670</td>\n",
       "      <td>0.038509</td>\n",
       "    </tr>\n",
       "    <tr>\n",
       "      <th>2</th>\n",
       "      <td>0.037131</td>\n",
       "      <td>0.029638</td>\n",
       "      <td>ac</td>\n",
       "      <td>0.037131</td>\n",
       "      <td>0.029638</td>\n",
       "    </tr>\n",
       "    <tr>\n",
       "      <th>3</th>\n",
       "      <td>0.043620</td>\n",
       "      <td>0.003245</td>\n",
       "      <td>access</td>\n",
       "      <td>0.043620</td>\n",
       "      <td>0.003245</td>\n",
       "    </tr>\n",
       "    <tr>\n",
       "      <th>4</th>\n",
       "      <td>0.016306</td>\n",
       "      <td>0.037682</td>\n",
       "      <td>act</td>\n",
       "      <td>0.016306</td>\n",
       "      <td>0.037682</td>\n",
       "    </tr>\n",
       "  </tbody>\n",
       "</table>\n",
       "</div>"
      ],
      "text/plain": [
       "    topic_1   topic_2     terms  topic_1_abs  topic_2_abs\n",
       "0  0.024570  0.007030      able     0.024570     0.007030\n",
       "1  0.011670  0.038509  absolute     0.011670     0.038509\n",
       "2  0.037131  0.029638        ac     0.037131     0.029638\n",
       "3  0.043620  0.003245    access     0.043620     0.003245\n",
       "4  0.016306  0.037682       act     0.016306     0.037682"
      ]
     },
     "execution_count": 126,
     "metadata": {},
     "output_type": "execute_result"
    }
   ],
   "source": [
    "# getting absolute values \n",
    "encoding_matrix['topic_1_abs'] = np.abs(encoding_matrix['topic_1'])\n",
    "encoding_matrix['topic_2_abs'] = np.abs(encoding_matrix['topic_2'])\n",
    "\n",
    "encoding_matrix.head()"
   ]
  },
  {
   "cell_type": "code",
   "execution_count": 127,
   "metadata": {},
   "outputs": [
    {
     "data": {
      "text/plain": [
       "122      edu\n",
       "87       com\n",
       "491    would\n",
       "158     game\n",
       "495     year\n",
       "Name: terms, dtype: object"
      ]
     },
     "execution_count": 127,
     "metadata": {},
     "output_type": "execute_result"
    }
   ],
   "source": [
    "# top words in topic 1 \n",
    "encoding_matrix.sort_values(by='topic_1_abs',ascending=False)['terms'][:5]"
   ]
  },
  {
   "cell_type": "code",
   "execution_count": 128,
   "metadata": {},
   "outputs": [
    {
     "data": {
      "text/plain": [
       "168          god\n",
       "77     christian\n",
       "158         game\n",
       "442         team\n",
       "211        jesus\n",
       "Name: terms, dtype: object"
      ]
     },
     "execution_count": 128,
     "metadata": {},
     "output_type": "execute_result"
    }
   ],
   "source": [
    "# top words in topic 2\n",
    "encoding_matrix.sort_values(by='topic_2_abs',ascending=False)['terms'][:5]"
   ]
  },
  {
   "cell_type": "markdown",
   "metadata": {},
   "source": [
    "## importance of topic "
   ]
  },
  {
   "cell_type": "code",
   "execution_count": 129,
   "metadata": {},
   "outputs": [
    {
     "data": {
      "text/plain": [
       "array([14.26357613,  7.70354267])"
      ]
     },
     "execution_count": 129,
     "metadata": {},
     "output_type": "execute_result"
    }
   ],
   "source": [
    "svd.singular_values_"
   ]
  },
  {
   "cell_type": "markdown",
   "metadata": {},
   "source": [
    "## Visuslization of topics"
   ]
  },
  {
   "cell_type": "code",
   "execution_count": 134,
   "metadata": {},
   "outputs": [
    {
     "data": {
      "text/plain": [
       "<matplotlib.axes._subplots.AxesSubplot at 0x7fb9ecc3f940>"
      ]
     },
     "execution_count": 134,
     "metadata": {},
     "output_type": "execute_result"
    },
    {
     "data": {
      "image/png": "[encoded data removed]",
      "text/plain": [
       "<Figure size 864x576 with 1 Axes>"
      ]
     },
     "metadata": {
      "needs_background": "light"
     },
     "output_type": "display_data"
    }
   ],
   "source": [
    "plt.figure(figsize=[12,8])\n",
    "sns.scatterplot(x='topic_1',y='topic_2',hue='category',data = topic_encoded_df)"
   ]
  },
  {
   "cell_type": "markdown",
   "metadata": {},
   "source": [
    "# Chossing greater number of topics "
   ]
  },
  {
   "cell_type": "markdown",
   "metadata": {},
   "source": [
    "# Singular Value Decomposition"
   ]
  },
  {
   "cell_type": "code",
   "execution_count": 135,
   "metadata": {},
   "outputs": [],
   "source": [
    "svd = TruncatedSVD(n_components=4)\n",
    "lsa = svd.fit_transform(tfidf) "
   ]
  },
  {
   "cell_type": "code",
   "execution_count": 136,
   "metadata": {},
   "outputs": [
    {
     "data": {
      "text/plain": [
       "(2389, 4)"
      ]
     },
     "execution_count": 136,
     "metadata": {},
     "output_type": "execute_result"
    }
   ],
   "source": [
    "lsa.shape # document topic matrix"
   ]
  },
  {
   "cell_type": "markdown",
   "metadata": {},
   "source": [
    "# Topic encoded data"
   ]
  },
  {
   "cell_type": "code",
   "execution_count": 137,
   "metadata": {},
   "outputs": [
    {
     "data": {
      "text/html": [
       "<div>\n",
       "<style scoped>\n",
       "    .dataframe tbody tr th:only-of-type {\n",
       "        vertical-align: middle;\n",
       "    }\n",
       "\n",
       "    .dataframe tbody tr th {\n",
       "        vertical-align: top;\n",
       "    }\n",
       "\n",
       "    .dataframe thead th {\n",
       "        text-align: right;\n",
       "    }\n",
       "</style>\n",
       "<table border=\"1\" class=\"dataframe\">\n",
       "  <thead>\n",
       "    <tr style=\"text-align: right;\">\n",
       "      <th></th>\n",
       "      <th>topic_1</th>\n",
       "      <th>topic_2</th>\n",
       "      <th>topic_3</th>\n",
       "      <th>topic_4</th>\n",
       "      <th>category</th>\n",
       "    </tr>\n",
       "  </thead>\n",
       "  <tbody>\n",
       "    <tr>\n",
       "      <th>0</th>\n",
       "      <td>0.195504</td>\n",
       "      <td>0.188537</td>\n",
       "      <td>-0.050598</td>\n",
       "      <td>-0.002261</td>\n",
       "      <td>3</td>\n",
       "    </tr>\n",
       "    <tr>\n",
       "      <th>1</th>\n",
       "      <td>0.379778</td>\n",
       "      <td>0.136755</td>\n",
       "      <td>0.008240</td>\n",
       "      <td>0.199573</td>\n",
       "      <td>3</td>\n",
       "    </tr>\n",
       "    <tr>\n",
       "      <th>2</th>\n",
       "      <td>0.242818</td>\n",
       "      <td>0.057200</td>\n",
       "      <td>0.112555</td>\n",
       "      <td>-0.104733</td>\n",
       "      <td>2</td>\n",
       "    </tr>\n",
       "    <tr>\n",
       "      <th>3</th>\n",
       "      <td>0.369479</td>\n",
       "      <td>0.019052</td>\n",
       "      <td>0.103561</td>\n",
       "      <td>0.004855</td>\n",
       "      <td>2</td>\n",
       "    </tr>\n",
       "    <tr>\n",
       "      <th>4</th>\n",
       "      <td>0.326256</td>\n",
       "      <td>0.289830</td>\n",
       "      <td>-0.090990</td>\n",
       "      <td>-0.019715</td>\n",
       "      <td>3</td>\n",
       "    </tr>\n",
       "  </tbody>\n",
       "</table>\n",
       "</div>"
      ],
      "text/plain": [
       "    topic_1   topic_2   topic_3   topic_4  category\n",
       "0  0.195504  0.188537 -0.050598 -0.002261         3\n",
       "1  0.379778  0.136755  0.008240  0.199573         3\n",
       "2  0.242818  0.057200  0.112555 -0.104733         2\n",
       "3  0.369479  0.019052  0.103561  0.004855         2\n",
       "4  0.326256  0.289830 -0.090990 -0.019715         3"
      ]
     },
     "execution_count": 137,
     "metadata": {},
     "output_type": "execute_result"
    }
   ],
   "source": [
    "topic_encoded_df = pd.DataFrame(lsa,columns=['topic_1','topic_2','topic_3','topic_4'])\n",
    "topic_encoded_df['category'] = df['category']\n",
    "topic_encoded_df.head()"
   ]
  },
  {
   "cell_type": "markdown",
   "metadata": {},
   "source": [
    "## The encoding matrix"
   ]
  },
  {
   "cell_type": "code",
   "execution_count": 138,
   "metadata": {},
   "outputs": [
    {
     "data": {
      "text/plain": [
       "(4, 500)"
      ]
     },
     "execution_count": 138,
     "metadata": {},
     "output_type": "execute_result"
    }
   ],
   "source": [
    "svd.components_.shape # topic-term matrix"
   ]
  },
  {
   "cell_type": "code",
   "execution_count": 139,
   "metadata": {},
   "outputs": [
    {
     "data": {
      "text/plain": [
       "['able',\n",
       " 'absolute',\n",
       " 'ac',\n",
       " 'access',\n",
       " 'act',\n",
       " 'actually',\n",
       " 'adam',\n",
       " 'address',\n",
       " 'ago',\n",
       " 'agree']"
      ]
     },
     "execution_count": 139,
     "metadata": {},
     "output_type": "execute_result"
    }
   ],
   "source": [
    "dictionary = tfidf_model.get_feature_names() # from tfidf model\n",
    "# these are the features / terms from term-doc matrix\n",
    "\n",
    "dictionary[:10]"
   ]
  },
  {
   "cell_type": "code",
   "execution_count": 140,
   "metadata": {},
   "outputs": [
    {
     "name": "stdout",
     "output_type": "stream",
     "text": [
      "(500, 4)\n"
     ]
    },
    {
     "data": {
      "text/html": [
       "<div>\n",
       "<style scoped>\n",
       "    .dataframe tbody tr th:only-of-type {\n",
       "        vertical-align: middle;\n",
       "    }\n",
       "\n",
       "    .dataframe tbody tr th {\n",
       "        vertical-align: top;\n",
       "    }\n",
       "\n",
       "    .dataframe thead th {\n",
       "        text-align: right;\n",
       "    }\n",
       "</style>\n",
       "<table border=\"1\" class=\"dataframe\">\n",
       "  <thead>\n",
       "    <tr style=\"text-align: right;\">\n",
       "      <th></th>\n",
       "      <th>topic_1</th>\n",
       "      <th>topic_2</th>\n",
       "      <th>topic_3</th>\n",
       "      <th>topic_4</th>\n",
       "      <th>terms</th>\n",
       "    </tr>\n",
       "  </thead>\n",
       "  <tbody>\n",
       "    <tr>\n",
       "      <th>0</th>\n",
       "      <td>0.024570</td>\n",
       "      <td>0.007044</td>\n",
       "      <td>-0.003235</td>\n",
       "      <td>-0.002757</td>\n",
       "      <td>able</td>\n",
       "    </tr>\n",
       "    <tr>\n",
       "      <th>1</th>\n",
       "      <td>0.011670</td>\n",
       "      <td>0.038496</td>\n",
       "      <td>-0.019952</td>\n",
       "      <td>-0.005632</td>\n",
       "      <td>absolute</td>\n",
       "    </tr>\n",
       "    <tr>\n",
       "      <th>2</th>\n",
       "      <td>0.037131</td>\n",
       "      <td>0.029689</td>\n",
       "      <td>-0.008851</td>\n",
       "      <td>0.022243</td>\n",
       "      <td>ac</td>\n",
       "    </tr>\n",
       "    <tr>\n",
       "      <th>3</th>\n",
       "      <td>0.043620</td>\n",
       "      <td>0.003148</td>\n",
       "      <td>0.155911</td>\n",
       "      <td>-0.097556</td>\n",
       "      <td>access</td>\n",
       "    </tr>\n",
       "    <tr>\n",
       "      <th>4</th>\n",
       "      <td>0.016306</td>\n",
       "      <td>0.037688</td>\n",
       "      <td>-0.009204</td>\n",
       "      <td>-0.003206</td>\n",
       "      <td>act</td>\n",
       "    </tr>\n",
       "  </tbody>\n",
       "</table>\n",
       "</div>"
      ],
      "text/plain": [
       "    topic_1   topic_2   topic_3   topic_4     terms\n",
       "0  0.024570  0.007044 -0.003235 -0.002757      able\n",
       "1  0.011670  0.038496 -0.019952 -0.005632  absolute\n",
       "2  0.037131  0.029689 -0.008851  0.022243        ac\n",
       "3  0.043620  0.003148  0.155911 -0.097556    access\n",
       "4  0.016306  0.037688 -0.009204 -0.003206       act"
      ]
     },
     "execution_count": 140,
     "metadata": {},
     "output_type": "execute_result"
    }
   ],
   "source": [
    "encoding_matrix = pd.DataFrame(svd.components_,index = ['topic_1','topic_2','topic_3','topic_4']).T\n",
    "print(encoding_matrix.shape)\n",
    "encoding_matrix['terms'] = dictionary #adding terms\n",
    "encoding_matrix.head()"
   ]
  },
  {
   "cell_type": "code",
   "execution_count": 141,
   "metadata": {},
   "outputs": [
    {
     "data": {
      "text/html": [
       "<div>\n",
       "<style scoped>\n",
       "    .dataframe tbody tr th:only-of-type {\n",
       "        vertical-align: middle;\n",
       "    }\n",
       "\n",
       "    .dataframe tbody tr th {\n",
       "        vertical-align: top;\n",
       "    }\n",
       "\n",
       "    .dataframe thead th {\n",
       "        text-align: right;\n",
       "    }\n",
       "</style>\n",
       "<table border=\"1\" class=\"dataframe\">\n",
       "  <thead>\n",
       "    <tr style=\"text-align: right;\">\n",
       "      <th></th>\n",
       "      <th>topic_1</th>\n",
       "      <th>topic_2</th>\n",
       "      <th>topic_3</th>\n",
       "      <th>topic_4</th>\n",
       "      <th>terms</th>\n",
       "      <th>topic_1_abs</th>\n",
       "      <th>topic_2_abs</th>\n",
       "      <th>topic_3_abs</th>\n",
       "      <th>topic_4_abs</th>\n",
       "    </tr>\n",
       "  </thead>\n",
       "  <tbody>\n",
       "    <tr>\n",
       "      <th>0</th>\n",
       "      <td>0.024570</td>\n",
       "      <td>0.007044</td>\n",
       "      <td>-0.003235</td>\n",
       "      <td>-0.002757</td>\n",
       "      <td>able</td>\n",
       "      <td>0.024570</td>\n",
       "      <td>0.007044</td>\n",
       "      <td>0.003235</td>\n",
       "      <td>0.002757</td>\n",
       "    </tr>\n",
       "    <tr>\n",
       "      <th>1</th>\n",
       "      <td>0.011670</td>\n",
       "      <td>0.038496</td>\n",
       "      <td>-0.019952</td>\n",
       "      <td>-0.005632</td>\n",
       "      <td>absolute</td>\n",
       "      <td>0.011670</td>\n",
       "      <td>0.038496</td>\n",
       "      <td>0.019952</td>\n",
       "      <td>0.005632</td>\n",
       "    </tr>\n",
       "    <tr>\n",
       "      <th>2</th>\n",
       "      <td>0.037131</td>\n",
       "      <td>0.029689</td>\n",
       "      <td>-0.008851</td>\n",
       "      <td>0.022243</td>\n",
       "      <td>ac</td>\n",
       "      <td>0.037131</td>\n",
       "      <td>0.029689</td>\n",
       "      <td>0.008851</td>\n",
       "      <td>0.022243</td>\n",
       "    </tr>\n",
       "    <tr>\n",
       "      <th>3</th>\n",
       "      <td>0.043620</td>\n",
       "      <td>0.003148</td>\n",
       "      <td>0.155911</td>\n",
       "      <td>-0.097556</td>\n",
       "      <td>access</td>\n",
       "      <td>0.043620</td>\n",
       "      <td>0.003148</td>\n",
       "      <td>0.155911</td>\n",
       "      <td>0.097556</td>\n",
       "    </tr>\n",
       "    <tr>\n",
       "      <th>4</th>\n",
       "      <td>0.016306</td>\n",
       "      <td>0.037688</td>\n",
       "      <td>-0.009204</td>\n",
       "      <td>-0.003206</td>\n",
       "      <td>act</td>\n",
       "      <td>0.016306</td>\n",
       "      <td>0.037688</td>\n",
       "      <td>0.009204</td>\n",
       "      <td>0.003206</td>\n",
       "    </tr>\n",
       "  </tbody>\n",
       "</table>\n",
       "</div>"
      ],
      "text/plain": [
       "    topic_1   topic_2   topic_3   topic_4     terms  topic_1_abs  topic_2_abs  \\\n",
       "0  0.024570  0.007044 -0.003235 -0.002757      able     0.024570     0.007044   \n",
       "1  0.011670  0.038496 -0.019952 -0.005632  absolute     0.011670     0.038496   \n",
       "2  0.037131  0.029689 -0.008851  0.022243        ac     0.037131     0.029689   \n",
       "3  0.043620  0.003148  0.155911 -0.097556    access     0.043620     0.003148   \n",
       "4  0.016306  0.037688 -0.009204 -0.003206       act     0.016306     0.037688   \n",
       "\n",
       "   topic_3_abs  topic_4_abs  \n",
       "0     0.003235     0.002757  \n",
       "1     0.019952     0.005632  \n",
       "2     0.008851     0.022243  \n",
       "3     0.155911     0.097556  \n",
       "4     0.009204     0.003206  "
      ]
     },
     "execution_count": 141,
     "metadata": {},
     "output_type": "execute_result"
    }
   ],
   "source": [
    "# getting absolute values \n",
    "encoding_matrix['topic_1_abs'] = np.abs(encoding_matrix['topic_1'])\n",
    "encoding_matrix['topic_2_abs'] = np.abs(encoding_matrix['topic_2'])\n",
    "encoding_matrix['topic_3_abs'] = np.abs(encoding_matrix['topic_3'])\n",
    "encoding_matrix['topic_4_abs'] = np.abs(encoding_matrix['topic_4'])\n",
    "\n",
    "encoding_matrix.head()"
   ]
  },
  {
   "cell_type": "code",
   "execution_count": 142,
   "metadata": {},
   "outputs": [
    {
     "data": {
      "text/plain": [
       "122      edu\n",
       "87       com\n",
       "491    would\n",
       "158     game\n",
       "495     year\n",
       "Name: terms, dtype: object"
      ]
     },
     "execution_count": 142,
     "metadata": {},
     "output_type": "execute_result"
    }
   ],
   "source": [
    "# top words in topic 1 \n",
    "encoding_matrix.sort_values(by='topic_1_abs',ascending=False)['terms'][:5]"
   ]
  },
  {
   "cell_type": "code",
   "execution_count": 143,
   "metadata": {},
   "outputs": [
    {
     "data": {
      "text/plain": [
       "168          god\n",
       "77     christian\n",
       "158         game\n",
       "442         team\n",
       "211        jesus\n",
       "Name: terms, dtype: object"
      ]
     },
     "execution_count": 143,
     "metadata": {},
     "output_type": "execute_result"
    }
   ],
   "source": [
    "# top words in topic 2\n",
    "encoding_matrix.sort_values(by='topic_2_abs',ascending=False)['terms'][:5]"
   ]
  },
  {
   "cell_type": "code",
   "execution_count": 144,
   "metadata": {},
   "outputs": [
    {
     "data": {
      "text/plain": [
       "419    space\n",
       "284     nasa\n",
       "172      gov\n",
       "168      god\n",
       "158     game\n",
       "Name: terms, dtype: object"
      ]
     },
     "execution_count": 144,
     "metadata": {},
     "output_type": "execute_result"
    }
   ],
   "source": [
    "# top words in topic 3\n",
    "encoding_matrix.sort_values(by='topic_3_abs',ascending=False)['terms'][:5]"
   ]
  },
  {
   "cell_type": "code",
   "execution_count": 145,
   "metadata": {},
   "outputs": [
    {
     "data": {
      "text/plain": [
       "122           edu\n",
       "442          team\n",
       "59             ca\n",
       "284          nasa\n",
       "468    university\n",
       "Name: terms, dtype: object"
      ]
     },
     "execution_count": 145,
     "metadata": {},
     "output_type": "execute_result"
    }
   ],
   "source": [
    "# top words in topic 4\n",
    "encoding_matrix.sort_values(by='topic_4_abs',ascending=False)['terms'][:5]"
   ]
  },
  {
   "cell_type": "markdown",
   "metadata": {},
   "source": [
    "Note: - there is no change in the terms associated with topic 1 and topic 2.\n",
    "<br>\n",
    "Even if we add more topcis, the earlier topcis structure will remain the same."
   ]
  },
  {
   "cell_type": "markdown",
   "metadata": {},
   "source": [
    "## importance of topic "
   ]
  },
  {
   "cell_type": "code",
   "execution_count": 146,
   "metadata": {},
   "outputs": [
    {
     "data": {
      "text/plain": [
       "array([14.26357613,  7.70354139,  6.99998081,  6.00097808])"
      ]
     },
     "execution_count": 146,
     "metadata": {},
     "output_type": "execute_result"
    }
   ],
   "source": [
    "svd.singular_values_"
   ]
  },
  {
   "cell_type": "code",
   "execution_count": null,
   "metadata": {},
   "outputs": [],
   "source": []
  }
 ],
 "metadata": {
  "kernelspec": {
   "display_name": "Python 3",
   "language": "python",
   "name": "python3"
  },
  "language_info": {
   "codemirror_mode": {
    "name": "ipython",
    "version": 3
   },
   "file_extension": ".py",
   "mimetype": "text/x-python",
   "name": "python",
   "nbconvert_exporter": "python",
   "pygments_lexer": "ipython3",
   "version": "3.8.3"
  }
 },
 "nbformat": 4,
 "nbformat_minor": 4
}
